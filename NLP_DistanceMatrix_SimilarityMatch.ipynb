{
 "cells": [
  {
   "cell_type": "code",
   "execution_count": 1,
   "id": "23f0d3bc",
   "metadata": {},
   "outputs": [],
   "source": [
    "import os\n",
    "import pandas as pd\n",
    "import numpy as np\n",
    "from scipy.spatial import distance\n"
   ]
  },
  {
   "cell_type": "markdown",
   "id": "23f345eb",
   "metadata": {},
   "source": [
    "1. **San Francisco**\n",
    "* calculate hamming distance - between 'San Francisco' and the list of names. \n",
    "    * Create a function\n",
    "    * if ValueError (triggered by difference lengths) then tag and pass over. \n",
    "* cutoff with hamming distance <= 0.1 after looking at the results. \n",
    "\n",
    "2. **Los Angeles**\n",
    "\n",
    "* Calculate hamming distance. Many misspelled Los Angeles names were filtered out because hamming distance was unable to calculate a similarity score for words of different length/number of characters. \n",
    "\n",
    "* This illustrates one of the draw back of Hamming Distance. \n",
    "\n",
    "3. **Las Vegas**\n",
    "* Use Levenshtein to determine similarity - calculate the number of insertion + deletion + substitution needed in order to convert each name from the list to \"Las Vegas\".\n",
    "    * create a function\n",
    "    * return array of number of changes needed. \n",
    "    * determine the cutoff to identify which city names are similar to \"Las Vegas\" - set at 2. \n",
    "\n",
    "4. **Boston**\n",
    "* Use Levenshtein to calculate the levenshtein distance. \n",
    "* keeping the same cutoff at 2. This will return city names that might not be misspelling of \"Boston\". \n",
    "\n",
    "5. **Berkeley**\n",
    "* Use Jaccard method to calculate the similarity between two cities. \n",
    "    * I will define a function for this.\n",
    "* Set an appropriate cutoff at >= 0.75. \n",
    "    * Having a Jaccard distance of 1 means the words are similar. So all in intersection are in union. "
   ]
  },
  {
   "cell_type": "code",
   "execution_count": 2,
   "id": "7fa71bcb",
   "metadata": {},
   "outputs": [],
   "source": [
    "names = pd.read_csv(\"CS688_Misspelled_City_names.csv\")"
   ]
  },
  {
   "cell_type": "markdown",
   "id": "1fa8ee37",
   "metadata": {},
   "source": [
    "***1.1 San Francisco***"
   ]
  },
  {
   "cell_type": "code",
   "execution_count": 3,
   "id": "9d9cf5d5",
   "metadata": {},
   "outputs": [],
   "source": [
    "def hamming_distance(city, data):\n",
    "    hamming_score = []\n",
    "    for i in data:\n",
    "        try:\n",
    "            hamming_score.append(distance.hamming(list(city), list(i)))\n",
    "        except ValueError:\n",
    "            hamming_score.append('different length')\n",
    "    return hamming_score"
   ]
  },
  {
   "cell_type": "code",
   "execution_count": 4,
   "id": "84528061",
   "metadata": {},
   "outputs": [],
   "source": [
    "result = hamming_distance('San Francisco', names['Data'])"
   ]
  },
  {
   "cell_type": "code",
   "execution_count": 5,
   "id": "fe7e5e7b",
   "metadata": {},
   "outputs": [],
   "source": [
    "names['sf_hamming_distance'] = result"
   ]
  },
  {
   "cell_type": "code",
   "execution_count": 6,
   "id": "1de5e33d",
   "metadata": {},
   "outputs": [
    {
     "data": {
      "text/html": [
       "<div>\n",
       "<style scoped>\n",
       "    .dataframe tbody tr th:only-of-type {\n",
       "        vertical-align: middle;\n",
       "    }\n",
       "\n",
       "    .dataframe tbody tr th {\n",
       "        vertical-align: top;\n",
       "    }\n",
       "\n",
       "    .dataframe thead th {\n",
       "        text-align: right;\n",
       "    }\n",
       "</style>\n",
       "<table border=\"1\" class=\"dataframe\">\n",
       "  <thead>\n",
       "    <tr style=\"text-align: right;\">\n",
       "      <th></th>\n",
       "      <th>Data</th>\n",
       "      <th>sf_hamming_distance</th>\n",
       "    </tr>\n",
       "  </thead>\n",
       "  <tbody>\n",
       "    <tr>\n",
       "      <th>1312</th>\n",
       "      <td>San Francisco</td>\n",
       "      <td>0.0</td>\n",
       "    </tr>\n",
       "    <tr>\n",
       "      <th>1311</th>\n",
       "      <td>San Francesco</td>\n",
       "      <td>0.076923</td>\n",
       "    </tr>\n",
       "    <tr>\n",
       "      <th>1135</th>\n",
       "      <td>Pananma Beach</td>\n",
       "      <td>0.692308</td>\n",
       "    </tr>\n",
       "    <tr>\n",
       "      <th>1025</th>\n",
       "      <td>New Brunswick</td>\n",
       "      <td>0.692308</td>\n",
       "    </tr>\n",
       "    <tr>\n",
       "      <th>1049</th>\n",
       "      <td>Niagara Falls</td>\n",
       "      <td>0.846154</td>\n",
       "    </tr>\n",
       "  </tbody>\n",
       "</table>\n",
       "</div>"
      ],
      "text/plain": [
       "               Data sf_hamming_distance\n",
       "1312  San Francisco                 0.0\n",
       "1311  San Francesco            0.076923\n",
       "1135  Pananma Beach            0.692308\n",
       "1025  New Brunswick            0.692308\n",
       "1049  Niagara Falls            0.846154"
      ]
     },
     "metadata": {},
     "output_type": "display_data"
    }
   ],
   "source": [
    "ham_results = names[names['sf_hamming_distance'] != 'different length'].sort_values(by = 'sf_hamming_distance', ascending = True)\n",
    "display(ham_results.head(5))"
   ]
  },
  {
   "cell_type": "markdown",
   "id": "f90c447e",
   "metadata": {},
   "source": [
    "Deciding on cutoff at 0.1\n",
    "\n",
    "Result:"
   ]
  },
  {
   "cell_type": "code",
   "execution_count": 7,
   "id": "267e5b53",
   "metadata": {},
   "outputs": [
    {
     "data": {
      "text/html": [
       "<div>\n",
       "<style scoped>\n",
       "    .dataframe tbody tr th:only-of-type {\n",
       "        vertical-align: middle;\n",
       "    }\n",
       "\n",
       "    .dataframe tbody tr th {\n",
       "        vertical-align: top;\n",
       "    }\n",
       "\n",
       "    .dataframe thead th {\n",
       "        text-align: right;\n",
       "    }\n",
       "</style>\n",
       "<table border=\"1\" class=\"dataframe\">\n",
       "  <thead>\n",
       "    <tr style=\"text-align: right;\">\n",
       "      <th></th>\n",
       "      <th>Data</th>\n",
       "      <th>sf_hamming_distance</th>\n",
       "    </tr>\n",
       "  </thead>\n",
       "  <tbody>\n",
       "    <tr>\n",
       "      <th>1312</th>\n",
       "      <td>San Francisco</td>\n",
       "      <td>0.0</td>\n",
       "    </tr>\n",
       "    <tr>\n",
       "      <th>1311</th>\n",
       "      <td>San Francesco</td>\n",
       "      <td>0.076923</td>\n",
       "    </tr>\n",
       "  </tbody>\n",
       "</table>\n",
       "</div>"
      ],
      "text/plain": [
       "               Data sf_hamming_distance\n",
       "1312  San Francisco                 0.0\n",
       "1311  San Francesco            0.076923"
      ]
     },
     "execution_count": 7,
     "metadata": {},
     "output_type": "execute_result"
    }
   ],
   "source": [
    "ham_results[ham_results['sf_hamming_distance'] <= 0.1]"
   ]
  },
  {
   "cell_type": "markdown",
   "id": "b0799b1d",
   "metadata": {},
   "source": [
    "***"
   ]
  },
  {
   "cell_type": "markdown",
   "id": "44e4fc29",
   "metadata": {},
   "source": [
    "***1.2 Los Angeles***"
   ]
  },
  {
   "cell_type": "code",
   "execution_count": 8,
   "id": "68fa816a",
   "metadata": {},
   "outputs": [],
   "source": [
    "la_result = hamming_distance('Los Angeles', names['Data'])\n",
    "names['la_hamming_distance'] = la_result"
   ]
  },
  {
   "cell_type": "code",
   "execution_count": 9,
   "id": "cf1c0667",
   "metadata": {},
   "outputs": [
    {
     "data": {
      "text/html": [
       "<div>\n",
       "<style scoped>\n",
       "    .dataframe tbody tr th:only-of-type {\n",
       "        vertical-align: middle;\n",
       "    }\n",
       "\n",
       "    .dataframe tbody tr th {\n",
       "        vertical-align: top;\n",
       "    }\n",
       "\n",
       "    .dataframe thead th {\n",
       "        text-align: right;\n",
       "    }\n",
       "</style>\n",
       "<table border=\"1\" class=\"dataframe\">\n",
       "  <thead>\n",
       "    <tr style=\"text-align: right;\">\n",
       "      <th></th>\n",
       "      <th>Data</th>\n",
       "      <th>la_hamming_distance</th>\n",
       "    </tr>\n",
       "  </thead>\n",
       "  <tbody>\n",
       "    <tr>\n",
       "      <th>873</th>\n",
       "      <td>Los Angeles</td>\n",
       "      <td>0.0</td>\n",
       "    </tr>\n",
       "    <tr>\n",
       "      <th>1587</th>\n",
       "      <td>Washingtown</td>\n",
       "      <td>0.727273</td>\n",
       "    </tr>\n",
       "    <tr>\n",
       "      <th>676</th>\n",
       "      <td>Hot Springs</td>\n",
       "      <td>0.727273</td>\n",
       "    </tr>\n",
       "    <tr>\n",
       "      <th>1401</th>\n",
       "      <td>South Heven</td>\n",
       "      <td>0.727273</td>\n",
       "    </tr>\n",
       "    <tr>\n",
       "      <th>1033</th>\n",
       "      <td>New Orleans</td>\n",
       "      <td>0.727273</td>\n",
       "    </tr>\n",
       "  </tbody>\n",
       "</table>\n",
       "</div>"
      ],
      "text/plain": [
       "             Data la_hamming_distance\n",
       "873   Los Angeles                 0.0\n",
       "1587  Washingtown            0.727273\n",
       "676   Hot Springs            0.727273\n",
       "1401  South Heven            0.727273\n",
       "1033  New Orleans            0.727273"
      ]
     },
     "execution_count": 9,
     "metadata": {},
     "output_type": "execute_result"
    }
   ],
   "source": [
    "la = names[names['la_hamming_distance'] != 'different length'].sort_values(by = 'la_hamming_distance')[['Data', 'la_hamming_distance']]\n",
    "la.head(5)"
   ]
  },
  {
   "cell_type": "code",
   "execution_count": 10,
   "id": "bc484370",
   "metadata": {},
   "outputs": [
    {
     "data": {
      "text/html": [
       "<div>\n",
       "<style scoped>\n",
       "    .dataframe tbody tr th:only-of-type {\n",
       "        vertical-align: middle;\n",
       "    }\n",
       "\n",
       "    .dataframe tbody tr th {\n",
       "        vertical-align: top;\n",
       "    }\n",
       "\n",
       "    .dataframe thead th {\n",
       "        text-align: right;\n",
       "    }\n",
       "</style>\n",
       "<table border=\"1\" class=\"dataframe\">\n",
       "  <thead>\n",
       "    <tr style=\"text-align: right;\">\n",
       "      <th></th>\n",
       "      <th>Data</th>\n",
       "      <th>sf_hamming_distance</th>\n",
       "      <th>la_hamming_distance</th>\n",
       "    </tr>\n",
       "  </thead>\n",
       "  <tbody>\n",
       "    <tr>\n",
       "      <th>873</th>\n",
       "      <td>Los Angeles</td>\n",
       "      <td>different length</td>\n",
       "      <td>0.0</td>\n",
       "    </tr>\n",
       "    <tr>\n",
       "      <th>874</th>\n",
       "      <td>Los Angels</td>\n",
       "      <td>different length</td>\n",
       "      <td>different length</td>\n",
       "    </tr>\n",
       "    <tr>\n",
       "      <th>875</th>\n",
       "      <td>Los Angleles</td>\n",
       "      <td>different length</td>\n",
       "      <td>different length</td>\n",
       "    </tr>\n",
       "    <tr>\n",
       "      <th>876</th>\n",
       "      <td>Los Angles</td>\n",
       "      <td>different length</td>\n",
       "      <td>different length</td>\n",
       "    </tr>\n",
       "  </tbody>\n",
       "</table>\n",
       "</div>"
      ],
      "text/plain": [
       "             Data sf_hamming_distance la_hamming_distance\n",
       "873   Los Angeles    different length                 0.0\n",
       "874    Los Angels    different length    different length\n",
       "875  Los Angleles    different length    different length\n",
       "876    Los Angles    different length    different length"
      ]
     },
     "execution_count": 10,
     "metadata": {},
     "output_type": "execute_result"
    }
   ],
   "source": [
    "names[names['Data'].str.contains(\"Los\")]"
   ]
  },
  {
   "cell_type": "markdown",
   "id": "face3631",
   "metadata": {},
   "source": [
    "We see that with hamming distance, many misspelled words city names for Los Angeles was filtered out. Hamming was unable to calculate a similarity score for these words. "
   ]
  },
  {
   "cell_type": "markdown",
   "id": "e70fe5e0",
   "metadata": {},
   "source": [
    "***"
   ]
  },
  {
   "cell_type": "markdown",
   "id": "3ded7282",
   "metadata": {},
   "source": [
    "***1.3 Las Vegas***"
   ]
  },
  {
   "cell_type": "code",
   "execution_count": 11,
   "id": "ccc6b479",
   "metadata": {},
   "outputs": [],
   "source": [
    "from Levenshtein import distance as lev"
   ]
  },
  {
   "cell_type": "code",
   "execution_count": 12,
   "id": "90d480da",
   "metadata": {},
   "outputs": [],
   "source": [
    "def lev_count(city, names):\n",
    "    lev_counts = [lev(city, i) for i in names]\n",
    "    return lev_counts"
   ]
  },
  {
   "cell_type": "code",
   "execution_count": 13,
   "id": "05c77073",
   "metadata": {},
   "outputs": [],
   "source": [
    "names['lv_lev_count'] = lev_count('Las Vegas', names.Data)\n",
    "lv = names.sort_values('lv_lev_count')[['Data', 'lv_lev_count']]"
   ]
  },
  {
   "cell_type": "code",
   "execution_count": 14,
   "id": "16037104",
   "metadata": {},
   "outputs": [
    {
     "data": {
      "text/html": [
       "<div>\n",
       "<style scoped>\n",
       "    .dataframe tbody tr th:only-of-type {\n",
       "        vertical-align: middle;\n",
       "    }\n",
       "\n",
       "    .dataframe tbody tr th {\n",
       "        vertical-align: top;\n",
       "    }\n",
       "\n",
       "    .dataframe thead th {\n",
       "        text-align: right;\n",
       "    }\n",
       "</style>\n",
       "<table border=\"1\" class=\"dataframe\">\n",
       "  <thead>\n",
       "    <tr style=\"text-align: right;\">\n",
       "      <th></th>\n",
       "      <th>Data</th>\n",
       "      <th>lv_lev_count</th>\n",
       "    </tr>\n",
       "  </thead>\n",
       "  <tbody>\n",
       "    <tr>\n",
       "      <th>820</th>\n",
       "      <td>Las Vegas</td>\n",
       "      <td>0</td>\n",
       "    </tr>\n",
       "    <tr>\n",
       "      <th>819</th>\n",
       "      <td>Las Vagas</td>\n",
       "      <td>1</td>\n",
       "    </tr>\n",
       "    <tr>\n",
       "      <th>641</th>\n",
       "      <td>Hastings</td>\n",
       "      <td>5</td>\n",
       "    </tr>\n",
       "    <tr>\n",
       "      <th>876</th>\n",
       "      <td>Los Angles</td>\n",
       "      <td>5</td>\n",
       "    </tr>\n",
       "    <tr>\n",
       "      <th>874</th>\n",
       "      <td>Los Angels</td>\n",
       "      <td>5</td>\n",
       "    </tr>\n",
       "    <tr>\n",
       "      <th>1138</th>\n",
       "      <td>Pasadena</td>\n",
       "      <td>5</td>\n",
       "    </tr>\n",
       "  </tbody>\n",
       "</table>\n",
       "</div>"
      ],
      "text/plain": [
       "            Data  lv_lev_count\n",
       "820    Las Vegas             0\n",
       "819    Las Vagas             1\n",
       "641     Hastings             5\n",
       "876   Los Angles             5\n",
       "874   Los Angels             5\n",
       "1138    Pasadena             5"
      ]
     },
     "execution_count": 14,
     "metadata": {},
     "output_type": "execute_result"
    }
   ],
   "source": [
    "lv.head(6)"
   ]
  },
  {
   "cell_type": "markdown",
   "id": "a5e6104c",
   "metadata": {},
   "source": [
    "I will set the cutoff at <= 2 for levenshtein distance"
   ]
  },
  {
   "cell_type": "code",
   "execution_count": 15,
   "id": "d72031b5",
   "metadata": {},
   "outputs": [
    {
     "data": {
      "text/html": [
       "<div>\n",
       "<style scoped>\n",
       "    .dataframe tbody tr th:only-of-type {\n",
       "        vertical-align: middle;\n",
       "    }\n",
       "\n",
       "    .dataframe tbody tr th {\n",
       "        vertical-align: top;\n",
       "    }\n",
       "\n",
       "    .dataframe thead th {\n",
       "        text-align: right;\n",
       "    }\n",
       "</style>\n",
       "<table border=\"1\" class=\"dataframe\">\n",
       "  <thead>\n",
       "    <tr style=\"text-align: right;\">\n",
       "      <th></th>\n",
       "      <th>Data</th>\n",
       "      <th>lv_lev_count</th>\n",
       "    </tr>\n",
       "  </thead>\n",
       "  <tbody>\n",
       "    <tr>\n",
       "      <th>820</th>\n",
       "      <td>Las Vegas</td>\n",
       "      <td>0</td>\n",
       "    </tr>\n",
       "    <tr>\n",
       "      <th>819</th>\n",
       "      <td>Las Vagas</td>\n",
       "      <td>1</td>\n",
       "    </tr>\n",
       "  </tbody>\n",
       "</table>\n",
       "</div>"
      ],
      "text/plain": [
       "          Data  lv_lev_count\n",
       "820  Las Vegas             0\n",
       "819  Las Vagas             1"
      ]
     },
     "execution_count": 15,
     "metadata": {},
     "output_type": "execute_result"
    }
   ],
   "source": [
    "lv[lv['lv_lev_count'] < 2]"
   ]
  },
  {
   "cell_type": "markdown",
   "id": "e2522dc9",
   "metadata": {},
   "source": [
    "***"
   ]
  },
  {
   "cell_type": "markdown",
   "id": "6db2ad87",
   "metadata": {},
   "source": [
    "***1.4 Boston***"
   ]
  },
  {
   "cell_type": "code",
   "execution_count": 16,
   "id": "723c25db",
   "metadata": {},
   "outputs": [],
   "source": [
    "names['boston_lev'] =lev_count('Boston', names.Data)\n",
    "boston = names.sort_values('boston_lev')[['Data', 'boston_lev']]"
   ]
  },
  {
   "cell_type": "code",
   "execution_count": 17,
   "id": "bb7c8619",
   "metadata": {},
   "outputs": [
    {
     "data": {
      "text/html": [
       "<div>\n",
       "<style scoped>\n",
       "    .dataframe tbody tr th:only-of-type {\n",
       "        vertical-align: middle;\n",
       "    }\n",
       "\n",
       "    .dataframe tbody tr th {\n",
       "        vertical-align: top;\n",
       "    }\n",
       "\n",
       "    .dataframe thead th {\n",
       "        text-align: right;\n",
       "    }\n",
       "</style>\n",
       "<table border=\"1\" class=\"dataframe\">\n",
       "  <thead>\n",
       "    <tr style=\"text-align: right;\">\n",
       "      <th></th>\n",
       "      <th>Data</th>\n",
       "      <th>boston_lev</th>\n",
       "    </tr>\n",
       "  </thead>\n",
       "  <tbody>\n",
       "    <tr>\n",
       "      <th>165</th>\n",
       "      <td>Boston</td>\n",
       "      <td>0</td>\n",
       "    </tr>\n",
       "    <tr>\n",
       "      <th>166</th>\n",
       "      <td>Bostun</td>\n",
       "      <td>1</td>\n",
       "    </tr>\n",
       "    <tr>\n",
       "      <th>674</th>\n",
       "      <td>Hoston</td>\n",
       "      <td>1</td>\n",
       "    </tr>\n",
       "    <tr>\n",
       "      <th>194</th>\n",
       "      <td>Brokton</td>\n",
       "      <td>2</td>\n",
       "    </tr>\n",
       "    <tr>\n",
       "      <th>193</th>\n",
       "      <td>Brocton</td>\n",
       "      <td>2</td>\n",
       "    </tr>\n",
       "    <tr>\n",
       "      <th>689</th>\n",
       "      <td>Huston</td>\n",
       "      <td>2</td>\n",
       "    </tr>\n",
       "    <tr>\n",
       "      <th>678</th>\n",
       "      <td>Houston</td>\n",
       "      <td>2</td>\n",
       "    </tr>\n",
       "    <tr>\n",
       "      <th>687</th>\n",
       "      <td>Huoston</td>\n",
       "      <td>2</td>\n",
       "    </tr>\n",
       "    <tr>\n",
       "      <th>991</th>\n",
       "      <td>Morton</td>\n",
       "      <td>2</td>\n",
       "    </tr>\n",
       "  </tbody>\n",
       "</table>\n",
       "</div>"
      ],
      "text/plain": [
       "        Data  boston_lev\n",
       "165   Boston           0\n",
       "166   Bostun           1\n",
       "674   Hoston           1\n",
       "194  Brokton           2\n",
       "193  Brocton           2\n",
       "689   Huston           2\n",
       "678  Houston           2\n",
       "687  Huoston           2\n",
       "991   Morton           2"
      ]
     },
     "execution_count": 17,
     "metadata": {},
     "output_type": "execute_result"
    }
   ],
   "source": [
    "# keeping the cutoff at 2 as to prevent overfitting and allow for some variance. \n",
    "\n",
    "boston[boston['boston_lev'] <= 2]"
   ]
  },
  {
   "cell_type": "markdown",
   "id": "5ad950d5",
   "metadata": {},
   "source": [
    "Not all these results, which are similar to the spelling of \"Boston\", are missspelling of this city. Setting the Levenshtein distance upper bound at 2 is returning results that are reffering to different cities e.g. Houston. "
   ]
  },
  {
   "cell_type": "markdown",
   "id": "2d931a34",
   "metadata": {},
   "source": [
    "***"
   ]
  },
  {
   "cell_type": "markdown",
   "id": "a3d92ffa",
   "metadata": {},
   "source": [
    "**1.5 Berkeley**"
   ]
  },
  {
   "cell_type": "code",
   "execution_count": 18,
   "id": "86e55468",
   "metadata": {},
   "outputs": [],
   "source": [
    "def jaccard_distance(city, name):\n",
    "    jaccard_dis = []\n",
    "    for i in name:\n",
    "        num = list(set(city) & set(i))\n",
    "        den = list(set(city) | set(i))\n",
    "        jaccard_dis.append(len(num)/len(den))\n",
    "    return jaccard_dis "
   ]
  },
  {
   "cell_type": "code",
   "execution_count": 19,
   "id": "2f4a5aa8",
   "metadata": {},
   "outputs": [
    {
     "data": {
      "text/html": [
       "<div>\n",
       "<style scoped>\n",
       "    .dataframe tbody tr th:only-of-type {\n",
       "        vertical-align: middle;\n",
       "    }\n",
       "\n",
       "    .dataframe tbody tr th {\n",
       "        vertical-align: top;\n",
       "    }\n",
       "\n",
       "    .dataframe thead th {\n",
       "        text-align: right;\n",
       "    }\n",
       "</style>\n",
       "<table border=\"1\" class=\"dataframe\">\n",
       "  <thead>\n",
       "    <tr style=\"text-align: right;\">\n",
       "      <th></th>\n",
       "      <th>Data</th>\n",
       "      <th>berkeley_jaccard</th>\n",
       "    </tr>\n",
       "  </thead>\n",
       "  <tbody>\n",
       "    <tr>\n",
       "      <th>127</th>\n",
       "      <td>Berkly</td>\n",
       "      <td>1.000000</td>\n",
       "    </tr>\n",
       "    <tr>\n",
       "      <th>125</th>\n",
       "      <td>Berkley</td>\n",
       "      <td>1.000000</td>\n",
       "    </tr>\n",
       "    <tr>\n",
       "      <th>124</th>\n",
       "      <td>Berkeley</td>\n",
       "      <td>1.000000</td>\n",
       "    </tr>\n",
       "    <tr>\n",
       "      <th>186</th>\n",
       "      <td>Brinkley</td>\n",
       "      <td>0.750000</td>\n",
       "    </tr>\n",
       "    <tr>\n",
       "      <th>185</th>\n",
       "      <td>Brinckley</td>\n",
       "      <td>0.666667</td>\n",
       "    </tr>\n",
       "  </tbody>\n",
       "</table>\n",
       "</div>"
      ],
      "text/plain": [
       "          Data  berkeley_jaccard\n",
       "127     Berkly          1.000000\n",
       "125    Berkley          1.000000\n",
       "124   Berkeley          1.000000\n",
       "186   Brinkley          0.750000\n",
       "185  Brinckley          0.666667"
      ]
     },
     "execution_count": 19,
     "metadata": {},
     "output_type": "execute_result"
    }
   ],
   "source": [
    "names['berkeley_jaccard'] = jaccard_distance('Berkeley', names.Data)\n",
    "berkeley = names.sort_values('berkeley_jaccard', ascending = False)[['Data', 'berkeley_jaccard']]\n",
    "berkeley.head(5)"
   ]
  },
  {
   "cell_type": "markdown",
   "id": "a6f1a926",
   "metadata": {},
   "source": [
    "Looks the most appropriate cutoff is at >= 0.75. If the jaccard distance drops below that, we will start getting very different city names. \n",
    "\n",
    "* Also I noticed that the Jaccard method does not account for the frequency of each letter/ word that appears in each text. This might be less important for text classification than for detecting misspellings. "
   ]
  },
  {
   "cell_type": "markdown",
   "id": "7881e950",
   "metadata": {},
   "source": [
    "***"
   ]
  },
  {
   "cell_type": "markdown",
   "id": "70b64912",
   "metadata": {},
   "source": [
    "> 1. area A, \n",
    "2. perimeter P,\n",
    "3. compactness C = 4*pi*A/P^2,\n",
    "4. length of kernel,\n",
    "5. width of kernel,\n",
    "6. asymmetry coefficient\n",
    "7. length of kernel groove."
   ]
  },
  {
   "cell_type": "markdown",
   "id": "8e845c2e",
   "metadata": {},
   "source": [
    "### 2.a"
   ]
  },
  {
   "cell_type": "code",
   "execution_count": 20,
   "id": "fbf9a56a",
   "metadata": {},
   "outputs": [],
   "source": [
    "import urllib\n",
    "import re\n",
    "url ='https://archive.ics.uci.edu/ml/machine-learning-databases/00236/seeds_dataset.txt'"
   ]
  },
  {
   "cell_type": "code",
   "execution_count": 21,
   "id": "ed9c7c6d",
   "metadata": {},
   "outputs": [],
   "source": [
    "import ssl\n",
    "\n",
    "try: \n",
    "    _create_unverified_https_context = ssl._create_unverified_context\n",
    "except AttributeError:\n",
    "    pass\n",
    "else:\n",
    "    ssl._create_default_https_context = _create_unverified_https_context"
   ]
  },
  {
   "cell_type": "code",
   "execution_count": 22,
   "id": "700adc7e",
   "metadata": {},
   "outputs": [],
   "source": [
    "file = urllib.request.urlopen(url)\n",
    "\n",
    "data = []\n",
    "for line in file:\n",
    "    decode_line = line.decode('utf-8')\n",
    "    \n",
    "    #clean data:\n",
    "    row = re.split('\\t|\\n', decode_line)\n",
    "    row = list(filter(None, row))\n",
    "    data.append(row)"
   ]
  },
  {
   "cell_type": "code",
   "execution_count": 23,
   "id": "959802d8",
   "metadata": {},
   "outputs": [
    {
     "data": {
      "text/html": [
       "<div>\n",
       "<style scoped>\n",
       "    .dataframe tbody tr th:only-of-type {\n",
       "        vertical-align: middle;\n",
       "    }\n",
       "\n",
       "    .dataframe tbody tr th {\n",
       "        vertical-align: top;\n",
       "    }\n",
       "\n",
       "    .dataframe thead th {\n",
       "        text-align: right;\n",
       "    }\n",
       "</style>\n",
       "<table border=\"1\" class=\"dataframe\">\n",
       "  <thead>\n",
       "    <tr style=\"text-align: right;\">\n",
       "      <th></th>\n",
       "      <th>Area</th>\n",
       "      <th>Perimeter</th>\n",
       "      <th>Compactness</th>\n",
       "      <th>Length</th>\n",
       "      <th>Width</th>\n",
       "      <th>Asymmetry Coefficient</th>\n",
       "      <th>Length Groove</th>\n",
       "      <th>Classification</th>\n",
       "    </tr>\n",
       "  </thead>\n",
       "  <tbody>\n",
       "    <tr>\n",
       "      <th>0</th>\n",
       "      <td>15.26</td>\n",
       "      <td>14.84</td>\n",
       "      <td>0.871</td>\n",
       "      <td>5.763</td>\n",
       "      <td>3.312</td>\n",
       "      <td>2.221</td>\n",
       "      <td>5.22</td>\n",
       "      <td>1</td>\n",
       "    </tr>\n",
       "    <tr>\n",
       "      <th>1</th>\n",
       "      <td>14.88</td>\n",
       "      <td>14.57</td>\n",
       "      <td>0.8811</td>\n",
       "      <td>5.554</td>\n",
       "      <td>3.333</td>\n",
       "      <td>1.018</td>\n",
       "      <td>4.956</td>\n",
       "      <td>1</td>\n",
       "    </tr>\n",
       "    <tr>\n",
       "      <th>2</th>\n",
       "      <td>14.29</td>\n",
       "      <td>14.09</td>\n",
       "      <td>0.905</td>\n",
       "      <td>5.291</td>\n",
       "      <td>3.337</td>\n",
       "      <td>2.699</td>\n",
       "      <td>4.825</td>\n",
       "      <td>1</td>\n",
       "    </tr>\n",
       "    <tr>\n",
       "      <th>3</th>\n",
       "      <td>13.84</td>\n",
       "      <td>13.94</td>\n",
       "      <td>0.8955</td>\n",
       "      <td>5.324</td>\n",
       "      <td>3.379</td>\n",
       "      <td>2.259</td>\n",
       "      <td>4.805</td>\n",
       "      <td>1</td>\n",
       "    </tr>\n",
       "    <tr>\n",
       "      <th>4</th>\n",
       "      <td>16.14</td>\n",
       "      <td>14.99</td>\n",
       "      <td>0.9034</td>\n",
       "      <td>5.658</td>\n",
       "      <td>3.562</td>\n",
       "      <td>1.355</td>\n",
       "      <td>5.175</td>\n",
       "      <td>1</td>\n",
       "    </tr>\n",
       "    <tr>\n",
       "      <th>5</th>\n",
       "      <td>14.38</td>\n",
       "      <td>14.21</td>\n",
       "      <td>0.8951</td>\n",
       "      <td>5.386</td>\n",
       "      <td>3.312</td>\n",
       "      <td>2.462</td>\n",
       "      <td>4.956</td>\n",
       "      <td>1</td>\n",
       "    </tr>\n",
       "    <tr>\n",
       "      <th>6</th>\n",
       "      <td>14.69</td>\n",
       "      <td>14.49</td>\n",
       "      <td>0.8799</td>\n",
       "      <td>5.563</td>\n",
       "      <td>3.259</td>\n",
       "      <td>3.586</td>\n",
       "      <td>5.219</td>\n",
       "      <td>1</td>\n",
       "    </tr>\n",
       "    <tr>\n",
       "      <th>7</th>\n",
       "      <td>14.11</td>\n",
       "      <td>14.1</td>\n",
       "      <td>0.8911</td>\n",
       "      <td>5.42</td>\n",
       "      <td>3.302</td>\n",
       "      <td>2.7</td>\n",
       "      <td>5</td>\n",
       "      <td>1</td>\n",
       "    </tr>\n",
       "    <tr>\n",
       "      <th>8</th>\n",
       "      <td>16.63</td>\n",
       "      <td>15.46</td>\n",
       "      <td>0.8747</td>\n",
       "      <td>6.053</td>\n",
       "      <td>3.465</td>\n",
       "      <td>2.04</td>\n",
       "      <td>5.877</td>\n",
       "      <td>1</td>\n",
       "    </tr>\n",
       "    <tr>\n",
       "      <th>9</th>\n",
       "      <td>16.44</td>\n",
       "      <td>15.25</td>\n",
       "      <td>0.888</td>\n",
       "      <td>5.884</td>\n",
       "      <td>3.505</td>\n",
       "      <td>1.969</td>\n",
       "      <td>5.533</td>\n",
       "      <td>1</td>\n",
       "    </tr>\n",
       "  </tbody>\n",
       "</table>\n",
       "</div>"
      ],
      "text/plain": [
       "    Area Perimeter Compactness Length  Width Asymmetry Coefficient  \\\n",
       "0  15.26     14.84       0.871  5.763  3.312                 2.221   \n",
       "1  14.88     14.57      0.8811  5.554  3.333                 1.018   \n",
       "2  14.29     14.09       0.905  5.291  3.337                 2.699   \n",
       "3  13.84     13.94      0.8955  5.324  3.379                 2.259   \n",
       "4  16.14     14.99      0.9034  5.658  3.562                 1.355   \n",
       "5  14.38     14.21      0.8951  5.386  3.312                 2.462   \n",
       "6  14.69     14.49      0.8799  5.563  3.259                 3.586   \n",
       "7  14.11      14.1      0.8911   5.42  3.302                   2.7   \n",
       "8  16.63     15.46      0.8747  6.053  3.465                  2.04   \n",
       "9  16.44     15.25       0.888  5.884  3.505                 1.969   \n",
       "\n",
       "  Length Groove Classification  \n",
       "0          5.22              1  \n",
       "1         4.956              1  \n",
       "2         4.825              1  \n",
       "3         4.805              1  \n",
       "4         5.175              1  \n",
       "5         4.956              1  \n",
       "6         5.219              1  \n",
       "7             5              1  \n",
       "8         5.877              1  \n",
       "9         5.533              1  "
      ]
     },
     "execution_count": 23,
     "metadata": {},
     "output_type": "execute_result"
    }
   ],
   "source": [
    "data = pd.DataFrame(data, columns = ['Area', 'Perimeter', 'Compactness', 'Length', 'Width', 'Asymmetry Coefficient', 'Length Groove', 'Classification'])\n",
    "data.head(10)"
   ]
  },
  {
   "cell_type": "markdown",
   "id": "c0a91c64",
   "metadata": {},
   "source": [
    "### 2.b Feature Engineering and Selection  + 2.c Perform K-Mean Clustering"
   ]
  },
  {
   "cell_type": "markdown",
   "id": "f0bdc3ee",
   "metadata": {},
   "source": [
    "1. tranformations to normalize the fields if need. \n",
    "\n",
    "2. checking for outliers and handle them\n",
    "\n",
    "3. Compactness is related to Area and Perimeter (compactness C = 4piA/P^2,), so I will perform K-mean cluster with \n",
    "   * a. just Area and Perimeter\n",
    "   * b. just Compactness\n",
    "   * c. Area, Perimeter, and Compactness\n",
    "   \n",
    "> **Approach:**\n",
    ">   1. for features in data, add to model. (starting from column 4, LENGTH)\n",
    ">   2. select different random starting points\n",
    ">   3. find optimal K which gives acceptable total sum of square (**elbow plot - (k, tss)**)\n",
    ">   4. keep adding features to the model and repeat\n",
    "    "
   ]
  },
  {
   "cell_type": "markdown",
   "id": "dca0bf64",
   "metadata": {},
   "source": [
    "Notes: \n",
    "\n",
    "    Goal: minimize distance between points within a cluster and maximazing distance between clusters"
   ]
  },
  {
   "cell_type": "code",
   "execution_count": 24,
   "id": "bf2cea2c",
   "metadata": {},
   "outputs": [
    {
     "data": {
      "text/html": [
       "<div>\n",
       "<style scoped>\n",
       "    .dataframe tbody tr th:only-of-type {\n",
       "        vertical-align: middle;\n",
       "    }\n",
       "\n",
       "    .dataframe tbody tr th {\n",
       "        vertical-align: top;\n",
       "    }\n",
       "\n",
       "    .dataframe thead th {\n",
       "        text-align: right;\n",
       "    }\n",
       "</style>\n",
       "<table border=\"1\" class=\"dataframe\">\n",
       "  <thead>\n",
       "    <tr style=\"text-align: right;\">\n",
       "      <th></th>\n",
       "      <th>Area</th>\n",
       "      <th>Perimeter</th>\n",
       "      <th>Compactness</th>\n",
       "      <th>Length</th>\n",
       "      <th>Width</th>\n",
       "      <th>Asymmetry Coefficient</th>\n",
       "      <th>Length Groove</th>\n",
       "    </tr>\n",
       "  </thead>\n",
       "  <tbody>\n",
       "    <tr>\n",
       "      <th>0</th>\n",
       "      <td>15.26</td>\n",
       "      <td>14.84</td>\n",
       "      <td>0.8710</td>\n",
       "      <td>5.763</td>\n",
       "      <td>3.312</td>\n",
       "      <td>2.221</td>\n",
       "      <td>5.220</td>\n",
       "    </tr>\n",
       "    <tr>\n",
       "      <th>1</th>\n",
       "      <td>14.88</td>\n",
       "      <td>14.57</td>\n",
       "      <td>0.8811</td>\n",
       "      <td>5.554</td>\n",
       "      <td>3.333</td>\n",
       "      <td>1.018</td>\n",
       "      <td>4.956</td>\n",
       "    </tr>\n",
       "    <tr>\n",
       "      <th>2</th>\n",
       "      <td>14.29</td>\n",
       "      <td>14.09</td>\n",
       "      <td>0.9050</td>\n",
       "      <td>5.291</td>\n",
       "      <td>3.337</td>\n",
       "      <td>2.699</td>\n",
       "      <td>4.825</td>\n",
       "    </tr>\n",
       "    <tr>\n",
       "      <th>3</th>\n",
       "      <td>13.84</td>\n",
       "      <td>13.94</td>\n",
       "      <td>0.8955</td>\n",
       "      <td>5.324</td>\n",
       "      <td>3.379</td>\n",
       "      <td>2.259</td>\n",
       "      <td>4.805</td>\n",
       "    </tr>\n",
       "    <tr>\n",
       "      <th>4</th>\n",
       "      <td>16.14</td>\n",
       "      <td>14.99</td>\n",
       "      <td>0.9034</td>\n",
       "      <td>5.658</td>\n",
       "      <td>3.562</td>\n",
       "      <td>1.355</td>\n",
       "      <td>5.175</td>\n",
       "    </tr>\n",
       "  </tbody>\n",
       "</table>\n",
       "</div>"
      ],
      "text/plain": [
       "    Area  Perimeter  Compactness  Length  Width  Asymmetry Coefficient  \\\n",
       "0  15.26      14.84       0.8710   5.763  3.312                  2.221   \n",
       "1  14.88      14.57       0.8811   5.554  3.333                  1.018   \n",
       "2  14.29      14.09       0.9050   5.291  3.337                  2.699   \n",
       "3  13.84      13.94       0.8955   5.324  3.379                  2.259   \n",
       "4  16.14      14.99       0.9034   5.658  3.562                  1.355   \n",
       "\n",
       "   Length Groove  \n",
       "0          5.220  \n",
       "1          4.956  \n",
       "2          4.825  \n",
       "3          4.805  \n",
       "4          5.175  "
      ]
     },
     "execution_count": 24,
     "metadata": {},
     "output_type": "execute_result"
    }
   ],
   "source": [
    "data_tomodel = data.drop(['Classification'], axis = 1)\n",
    "\n",
    "# converting to float\n",
    "for i in data_tomodel.columns:\n",
    "    data_tomodel[i] = data_tomodel[i].astype(float)\n",
    "data_tomodel.head(5)"
   ]
  },
  {
   "cell_type": "code",
   "execution_count": 25,
   "id": "59634321",
   "metadata": {},
   "outputs": [],
   "source": [
    "import matplotlib.pyplot as plt"
   ]
  },
  {
   "cell_type": "code",
   "execution_count": 26,
   "id": "45bb39bd",
   "metadata": {},
   "outputs": [],
   "source": [
    "\n",
    "def hist_columns(data):\n",
    "    fig, ax = plt.subplots(3,3, figsize = (12, 10))\n",
    "    i = 0\n",
    "    j = 0\n",
    "    col = 0\n",
    "    columns = data.columns\n",
    "    while col <= len(columns)-1:\n",
    "        Title = columns[col]\n",
    "        ax[i,j].hist(data[columns[col]], edgecolor = 'black', bins = 20)\n",
    "        ax[i,j].set_title(f'Histogram of {Title}', color = 'blue')\n",
    "        ax[i,j].axvline(data[columns[col]].mean(), color = 'red', linestyle = 'dashed', linewidth = 2)\n",
    "        ax[i,j].axvline(data[columns[col]].median(), color = 'orange', linestyle = 'dashed', linewidth = 2)\n",
    "\n",
    "        i +=1\n",
    "        if i >2:\n",
    "            i = 0\n",
    "            j +=1\n",
    "        col +=1 \n"
   ]
  },
  {
   "cell_type": "code",
   "execution_count": 27,
   "id": "ddf0daf9",
   "metadata": {},
   "outputs": [
    {
     "data": {
      "image/png": "[encoded data removed]",
      "text/plain": [
       "<Figure size 864x720 with 9 Axes>"
      ]
     },
     "metadata": {
      "needs_background": "light"
     },
     "output_type": "display_data"
    }
   ],
   "source": [
    "hist_columns(data_tomodel)"
   ]
  },
  {
   "cell_type": "markdown",
   "id": "f1ef274d",
   "metadata": {},
   "source": [
    "Take away: \n",
    "\n",
    "* Some distributions are skewed - need to apply log normal transformation\n"
   ]
  },
  {
   "cell_type": "code",
   "execution_count": 28,
   "id": "1a691dc7",
   "metadata": {},
   "outputs": [],
   "source": [
    "from scipy import stats"
   ]
  },
  {
   "cell_type": "code",
   "execution_count": 29,
   "id": "654e8d54",
   "metadata": {},
   "outputs": [
    {
     "name": "stdout",
     "output_type": "stream",
     "text": [
      "Area\n",
      "Perimeter\n",
      "Compactness\n",
      "Length\n",
      "Width\n",
      "Asymmetry Coefficient\n",
      "Length Groove\n"
     ]
    }
   ],
   "source": [
    "def boxcox_cols(data):\n",
    "    for i in data.columns:\n",
    "        colname = i\n",
    "        transf_vect = stats.boxcox(data[i])[0]\n",
    "        print(i)\n",
    "        if min(transf_vect) < 0:\n",
    "            transf_vect = [i + abs(min(transf_vect)) for i in transf_vect]\n",
    "        data[f'boxcox_{colname}'] =transf_vect\n",
    "    return data\n",
    "\n",
    "data_transformed = boxcox_cols(data_tomodel)\n"
   ]
  },
  {
   "cell_type": "code",
   "execution_count": 30,
   "id": "f630e46c",
   "metadata": {},
   "outputs": [
    {
     "data": {
      "text/html": [
       "<div>\n",
       "<style scoped>\n",
       "    .dataframe tbody tr th:only-of-type {\n",
       "        vertical-align: middle;\n",
       "    }\n",
       "\n",
       "    .dataframe tbody tr th {\n",
       "        vertical-align: top;\n",
       "    }\n",
       "\n",
       "    .dataframe thead th {\n",
       "        text-align: right;\n",
       "    }\n",
       "</style>\n",
       "<table border=\"1\" class=\"dataframe\">\n",
       "  <thead>\n",
       "    <tr style=\"text-align: right;\">\n",
       "      <th></th>\n",
       "      <th>boxcox_Area</th>\n",
       "      <th>boxcox_Perimeter</th>\n",
       "      <th>boxcox_Compactness</th>\n",
       "      <th>boxcox_Length</th>\n",
       "      <th>boxcox_Width</th>\n",
       "      <th>boxcox_Asymmetry Coefficient</th>\n",
       "      <th>boxcox_Length Groove</th>\n",
       "    </tr>\n",
       "  </thead>\n",
       "  <tbody>\n",
       "    <tr>\n",
       "      <th>0</th>\n",
       "      <td>1.334476</td>\n",
       "      <td>0.476704</td>\n",
       "      <td>0.015676</td>\n",
       "      <td>0.320053</td>\n",
       "      <td>1.267674</td>\n",
       "      <td>1.260278</td>\n",
       "      <td>0.348877</td>\n",
       "    </tr>\n",
       "    <tr>\n",
       "      <th>1</th>\n",
       "      <td>1.329596</td>\n",
       "      <td>0.476637</td>\n",
       "      <td>0.019171</td>\n",
       "      <td>0.319885</td>\n",
       "      <td>1.274751</td>\n",
       "      <td>0.266122</td>\n",
       "      <td>0.348365</td>\n",
       "    </tr>\n",
       "    <tr>\n",
       "      <th>2</th>\n",
       "      <td>1.321609</td>\n",
       "      <td>0.476509</td>\n",
       "      <td>0.028836</td>\n",
       "      <td>0.319632</td>\n",
       "      <td>1.276094</td>\n",
       "      <td>1.586328</td>\n",
       "      <td>0.348069</td>\n",
       "    </tr>\n",
       "    <tr>\n",
       "      <th>3</th>\n",
       "      <td>1.315152</td>\n",
       "      <td>0.476466</td>\n",
       "      <td>0.024745</td>\n",
       "      <td>0.319667</td>\n",
       "      <td>1.290113</td>\n",
       "      <td>1.287229</td>\n",
       "      <td>0.348021</td>\n",
       "    </tr>\n",
       "    <tr>\n",
       "      <th>4</th>\n",
       "      <td>1.345063</td>\n",
       "      <td>0.476739</td>\n",
       "      <td>0.028122</td>\n",
       "      <td>0.319972</td>\n",
       "      <td>1.349409</td>\n",
       "      <td>0.580087</td>\n",
       "      <td>0.348796</td>\n",
       "    </tr>\n",
       "    <tr>\n",
       "      <th>...</th>\n",
       "      <td>...</td>\n",
       "      <td>...</td>\n",
       "      <td>...</td>\n",
       "      <td>...</td>\n",
       "      <td>...</td>\n",
       "      <td>...</td>\n",
       "      <td>...</td>\n",
       "    </tr>\n",
       "    <tr>\n",
       "      <th>205</th>\n",
       "      <td>1.288265</td>\n",
       "      <td>0.476231</td>\n",
       "      <td>0.018170</td>\n",
       "      <td>0.319459</td>\n",
       "      <td>1.150396</td>\n",
       "      <td>2.158056</td>\n",
       "      <td>0.348174</td>\n",
       "    </tr>\n",
       "    <tr>\n",
       "      <th>206</th>\n",
       "      <td>1.269761</td>\n",
       "      <td>0.476117</td>\n",
       "      <td>0.009673</td>\n",
       "      <td>0.319462</td>\n",
       "      <td>1.079207</td>\n",
       "      <td>2.543715</td>\n",
       "      <td>0.348463</td>\n",
       "    </tr>\n",
       "    <tr>\n",
       "      <th>207</th>\n",
       "      <td>1.305365</td>\n",
       "      <td>0.476382</td>\n",
       "      <td>0.021867</td>\n",
       "      <td>0.319573</td>\n",
       "      <td>1.240336</td>\n",
       "      <td>4.381830</td>\n",
       "      <td>0.348571</td>\n",
       "    </tr>\n",
       "    <tr>\n",
       "      <th>208</th>\n",
       "      <td>1.281798</td>\n",
       "      <td>0.476235</td>\n",
       "      <td>0.009949</td>\n",
       "      <td>0.319503</td>\n",
       "      <td>1.095261</td>\n",
       "      <td>2.138968</td>\n",
       "      <td>0.348547</td>\n",
       "    </tr>\n",
       "    <tr>\n",
       "      <th>209</th>\n",
       "      <td>1.290237</td>\n",
       "      <td>0.476279</td>\n",
       "      <td>0.014827</td>\n",
       "      <td>0.319580</td>\n",
       "      <td>1.147791</td>\n",
       "      <td>3.206855</td>\n",
       "      <td>0.348584</td>\n",
       "    </tr>\n",
       "  </tbody>\n",
       "</table>\n",
       "<p>210 rows × 7 columns</p>\n",
       "</div>"
      ],
      "text/plain": [
       "     boxcox_Area  boxcox_Perimeter  boxcox_Compactness  boxcox_Length  \\\n",
       "0       1.334476          0.476704            0.015676       0.320053   \n",
       "1       1.329596          0.476637            0.019171       0.319885   \n",
       "2       1.321609          0.476509            0.028836       0.319632   \n",
       "3       1.315152          0.476466            0.024745       0.319667   \n",
       "4       1.345063          0.476739            0.028122       0.319972   \n",
       "..           ...               ...                 ...            ...   \n",
       "205     1.288265          0.476231            0.018170       0.319459   \n",
       "206     1.269761          0.476117            0.009673       0.319462   \n",
       "207     1.305365          0.476382            0.021867       0.319573   \n",
       "208     1.281798          0.476235            0.009949       0.319503   \n",
       "209     1.290237          0.476279            0.014827       0.319580   \n",
       "\n",
       "     boxcox_Width  boxcox_Asymmetry Coefficient  boxcox_Length Groove  \n",
       "0        1.267674                      1.260278              0.348877  \n",
       "1        1.274751                      0.266122              0.348365  \n",
       "2        1.276094                      1.586328              0.348069  \n",
       "3        1.290113                      1.287229              0.348021  \n",
       "4        1.349409                      0.580087              0.348796  \n",
       "..            ...                           ...                   ...  \n",
       "205      1.150396                      2.158056              0.348174  \n",
       "206      1.079207                      2.543715              0.348463  \n",
       "207      1.240336                      4.381830              0.348571  \n",
       "208      1.095261                      2.138968              0.348547  \n",
       "209      1.147791                      3.206855              0.348584  \n",
       "\n",
       "[210 rows x 7 columns]"
      ]
     },
     "execution_count": 30,
     "metadata": {},
     "output_type": "execute_result"
    }
   ],
   "source": [
    "data_transformed.iloc[:,7:]"
   ]
  },
  {
   "cell_type": "code",
   "execution_count": 31,
   "id": "5b2f43cd",
   "metadata": {},
   "outputs": [
    {
     "data": {
      "image/png": "[encoded data removed]",
      "text/plain": [
       "<Figure size 864x720 with 9 Axes>"
      ]
     },
     "metadata": {
      "needs_background": "light"
     },
     "output_type": "display_data"
    }
   ],
   "source": [
    "graph = hist_columns(data_transformed.iloc[:,7:])  \n",
    "graph"
   ]
  },
  {
   "cell_type": "markdown",
   "id": "154bd394",
   "metadata": {},
   "source": [
    "**Conclusions**: \n",
    "- red line is the mean\n",
    "- orange line is the median\n",
    "\n",
    "We see that after applying boxcox tranformation, our distribution for each feature was normalized. The orange and red lines are closer together. This is ideal for our model. \n",
    "\n",
    "I don't see any apparent outliers."
   ]
  },
  {
   "cell_type": "markdown",
   "id": "7fe5d5e9",
   "metadata": {},
   "source": [
    "***"
   ]
  },
  {
   "cell_type": "markdown",
   "id": "2bbc5066",
   "metadata": {},
   "source": [
    "### Calculating K- Mean"
   ]
  },
  {
   "cell_type": "markdown",
   "id": "39a46d7b",
   "metadata": {},
   "source": [
    "Attributes of sklearn.cluster KMeans\n",
    "\n",
    "**inertia_**:\n",
    "* Sum of squared distances of samples to their closest cluster center, weighted by the sample weights if provided.\n",
    "\n",
    "I will be using this value to create elbow plots for analysis."
   ]
  },
  {
   "cell_type": "code",
   "execution_count": 32,
   "id": "03f75e37",
   "metadata": {},
   "outputs": [
    {
     "data": {
      "text/html": [
       "<div>\n",
       "<style scoped>\n",
       "    .dataframe tbody tr th:only-of-type {\n",
       "        vertical-align: middle;\n",
       "    }\n",
       "\n",
       "    .dataframe tbody tr th {\n",
       "        vertical-align: top;\n",
       "    }\n",
       "\n",
       "    .dataframe thead th {\n",
       "        text-align: right;\n",
       "    }\n",
       "</style>\n",
       "<table border=\"1\" class=\"dataframe\">\n",
       "  <thead>\n",
       "    <tr style=\"text-align: right;\">\n",
       "      <th></th>\n",
       "      <th>boxcox_Area</th>\n",
       "      <th>boxcox_Perimeter</th>\n",
       "      <th>boxcox_Compactness</th>\n",
       "      <th>boxcox_Length</th>\n",
       "      <th>boxcox_Width</th>\n",
       "      <th>boxcox_Asymmetry Coefficient</th>\n",
       "      <th>boxcox_Length Groove</th>\n",
       "    </tr>\n",
       "  </thead>\n",
       "  <tbody>\n",
       "    <tr>\n",
       "      <th>0</th>\n",
       "      <td>1.334476</td>\n",
       "      <td>0.476704</td>\n",
       "      <td>0.015676</td>\n",
       "      <td>0.320053</td>\n",
       "      <td>1.267674</td>\n",
       "      <td>1.260278</td>\n",
       "      <td>0.348877</td>\n",
       "    </tr>\n",
       "    <tr>\n",
       "      <th>1</th>\n",
       "      <td>1.329596</td>\n",
       "      <td>0.476637</td>\n",
       "      <td>0.019171</td>\n",
       "      <td>0.319885</td>\n",
       "      <td>1.274751</td>\n",
       "      <td>0.266122</td>\n",
       "      <td>0.348365</td>\n",
       "    </tr>\n",
       "    <tr>\n",
       "      <th>2</th>\n",
       "      <td>1.321609</td>\n",
       "      <td>0.476509</td>\n",
       "      <td>0.028836</td>\n",
       "      <td>0.319632</td>\n",
       "      <td>1.276094</td>\n",
       "      <td>1.586328</td>\n",
       "      <td>0.348069</td>\n",
       "    </tr>\n",
       "    <tr>\n",
       "      <th>3</th>\n",
       "      <td>1.315152</td>\n",
       "      <td>0.476466</td>\n",
       "      <td>0.024745</td>\n",
       "      <td>0.319667</td>\n",
       "      <td>1.290113</td>\n",
       "      <td>1.287229</td>\n",
       "      <td>0.348021</td>\n",
       "    </tr>\n",
       "    <tr>\n",
       "      <th>4</th>\n",
       "      <td>1.345063</td>\n",
       "      <td>0.476739</td>\n",
       "      <td>0.028122</td>\n",
       "      <td>0.319972</td>\n",
       "      <td>1.349409</td>\n",
       "      <td>0.580087</td>\n",
       "      <td>0.348796</td>\n",
       "    </tr>\n",
       "  </tbody>\n",
       "</table>\n",
       "</div>"
      ],
      "text/plain": [
       "   boxcox_Area  boxcox_Perimeter  boxcox_Compactness  boxcox_Length  \\\n",
       "0     1.334476          0.476704            0.015676       0.320053   \n",
       "1     1.329596          0.476637            0.019171       0.319885   \n",
       "2     1.321609          0.476509            0.028836       0.319632   \n",
       "3     1.315152          0.476466            0.024745       0.319667   \n",
       "4     1.345063          0.476739            0.028122       0.319972   \n",
       "\n",
       "   boxcox_Width  boxcox_Asymmetry Coefficient  boxcox_Length Groove  \n",
       "0      1.267674                      1.260278              0.348877  \n",
       "1      1.274751                      0.266122              0.348365  \n",
       "2      1.276094                      1.586328              0.348069  \n",
       "3      1.290113                      1.287229              0.348021  \n",
       "4      1.349409                      0.580087              0.348796  "
      ]
     },
     "execution_count": 32,
     "metadata": {},
     "output_type": "execute_result"
    }
   ],
   "source": [
    "data_norm = data_transformed.iloc[:,7:]\n",
    "data_norm.head(5)"
   ]
  },
  {
   "cell_type": "code",
   "execution_count": 33,
   "id": "e686fb24",
   "metadata": {},
   "outputs": [],
   "source": [
    "from sklearn.cluster import KMeans"
   ]
  },
  {
   "cell_type": "code",
   "execution_count": 55,
   "id": "56ca3cb3",
   "metadata": {},
   "outputs": [],
   "source": [
    "def optimial_k(data, i):\n",
    "    results = {}\n",
    "    columns = list(data.columns)\n",
    "    for k in range(1, 20):\n",
    "        # try 20 different random starting positions for each k\n",
    "        kmresult = KMeans(n_clusters = k, n_init = 20).fit(data)\n",
    "        results[k]= kmresult.inertia_\n",
    "    x = list(results.keys())\n",
    "    y = list(results.values())\n",
    "    plt.figure(figsize=(6, 4))\n",
    "    plt.plot(x,y, marker = 'o')\n",
    "    plt.xticks(x)\n",
    "    plt.title(f\"GRAPH # {i} : Elbow Plot for different K Values -\\n {columns}\", color = 'darkred')\n",
    "    plt.ylabel(\"Inertia - TSS\", color = 'red')\n",
    "    plt.xlabel('K - the number of clusters', color = 'red')\n",
    "    plt.axvline(x = 3, color = 'green', linestyle = 'dashed', linewidth = 2, alpha = 0.15)\n",
    "    plt.axhline(y = y[2], color = 'green', linestyle = 'dashed', linewidth = 2, alpha = 0.15)\n",
    "\n",
    "    plt.show()\n",
    "    print(f\"Inertia (TSS) at 5 clusters = {y[2]} \\n \\n\")\n",
    "    \n",
    "    "
   ]
  },
  {
   "cell_type": "code",
   "execution_count": 56,
   "id": "7008fc35",
   "metadata": {
    "scrolled": false
   },
   "outputs": [
    {
     "data": {
      "image/png": "[encoded data removed]",
      "text/plain": [
       "<Figure size 432x288 with 1 Axes>"
      ]
     },
     "metadata": {
      "needs_background": "light"
     },
     "output_type": "display_data"
    },
    {
     "name": "stdout",
     "output_type": "stream",
     "text": [
      "Inertia (TSS) at 5 clusters = 1.2775977723257017e-05 \n",
      " \n",
      "\n"
     ]
    },
    {
     "data": {
      "image/png": "[encoded data removed]",
      "text/plain": [
       "<Figure size 432x288 with 1 Axes>"
      ]
     },
     "metadata": {
      "needs_background": "light"
     },
     "output_type": "display_data"
    },
    {
     "name": "stdout",
     "output_type": "stream",
     "text": [
      "Inertia (TSS) at 5 clusters = 27.511595703398044 \n",
      " \n",
      "\n"
     ]
    },
    {
     "data": {
      "image/png": "[encoded data removed]",
      "text/plain": [
       "<Figure size 432x288 with 1 Axes>"
      ]
     },
     "metadata": {
      "needs_background": "light"
     },
     "output_type": "display_data"
    },
    {
     "name": "stdout",
     "output_type": "stream",
     "text": [
      "Inertia (TSS) at 5 clusters = 30.793692978114155 \n",
      " \n",
      "\n"
     ]
    },
    {
     "data": {
      "image/png": "[encoded data removed]",
      "text/plain": [
       "<Figure size 432x288 with 1 Axes>"
      ]
     },
     "metadata": {
      "needs_background": "light"
     },
     "output_type": "display_data"
    },
    {
     "name": "stdout",
     "output_type": "stream",
     "text": [
      "Inertia (TSS) at 5 clusters = 30.794365120285534 \n",
      " \n",
      "\n"
     ]
    },
    {
     "data": {
      "image/png": "[encoded data removed]",
      "text/plain": [
       "<Figure size 432x288 with 1 Axes>"
      ]
     },
     "metadata": {
      "needs_background": "light"
     },
     "output_type": "display_data"
    },
    {
     "name": "stdout",
     "output_type": "stream",
     "text": [
      "Inertia (TSS) at 5 clusters = 30.801801588386247 \n",
      " \n",
      "\n"
     ]
    },
    {
     "data": {
      "image/png": "[encoded data removed]",
      "text/plain": [
       "<Figure size 432x288 with 1 Axes>"
      ]
     },
     "metadata": {
      "needs_background": "light"
     },
     "output_type": "display_data"
    },
    {
     "name": "stdout",
     "output_type": "stream",
     "text": [
      "Inertia (TSS) at 5 clusters = 30.806883264642458 \n",
      " \n",
      "\n"
     ]
    },
    {
     "data": {
      "image/png": "[encoded data removed]",
      "text/plain": [
       "<Figure size 432x288 with 1 Axes>"
      ]
     },
     "metadata": {
      "needs_background": "light"
     },
     "output_type": "display_data"
    },
    {
     "name": "stdout",
     "output_type": "stream",
     "text": [
      "Inertia (TSS) at 5 clusters = 31.083692272935238 \n",
      " \n",
      "\n"
     ]
    }
   ],
   "source": [
    "for i in reversed(range(len(data_norm.columns))):\n",
    "    r = optimial_k(data_norm.iloc[:, i:], i)\n",
    "    "
   ]
  },
  {
   "cell_type": "markdown",
   "id": "ac9d52cf",
   "metadata": {},
   "source": [
    "***Conclusions and Findings:***\n",
    "\n",
    "3 types of wheats:  Kama, Rosa and Canadian\n",
    "\n",
    "> 1. Looks like the most optimal number of cluster is at K = 3. For varying number of features, ***3 clusters is at the elbow point***, returning the minimal Inertia(TSS). Any more clusters only marginally decrease the total sum of squares. \n",
    "\n",
    "> 2. Furthermore, I would not select GRAPH 0 or GRAPH 1 because having Area and Perimeter features do not decrease the variance in our clusters. \n",
    "\n",
    "> 3. GRAPH 4, GRAPH 3, GRAPH2 all have TSS around ~30 at k = 3 clusters.  \n",
    "\n",
    "\n",
    "> 4. Graph 6 only has one feature even though it has very little variance. This can lead to over reliance and might not capture the variation undoubtedly exits within a wheat. \n",
    "\n",
    "> 5. Graph 5 has two features with a TSS/Inertia of ~27.5. I think **GRAPH 5 is the best model**. \n",
    "    * Features  = [Asymmetry Coefficient, Length Groove] and k = 3. \n",
    "    * Additional features did not help in reducing the variation which may mean they might not actually have predictive power.. \n",
    "    * With 2 features and a reasonable amount of variation, I am not too worry about overfitting or over reliance. Also, these features do reduce TSS, so they must have some predictive power. "
   ]
  },
  {
   "cell_type": "code",
   "execution_count": 36,
   "id": "c40f63b9",
   "metadata": {},
   "outputs": [
    {
     "data": {
      "text/html": [
       "<div>\n",
       "<style scoped>\n",
       "    .dataframe tbody tr th:only-of-type {\n",
       "        vertical-align: middle;\n",
       "    }\n",
       "\n",
       "    .dataframe tbody tr th {\n",
       "        vertical-align: top;\n",
       "    }\n",
       "\n",
       "    .dataframe thead th {\n",
       "        text-align: right;\n",
       "    }\n",
       "</style>\n",
       "<table border=\"1\" class=\"dataframe\">\n",
       "  <thead>\n",
       "    <tr style=\"text-align: right;\">\n",
       "      <th></th>\n",
       "      <th>boxcox_Asymmetry Coefficient</th>\n",
       "      <th>boxcox_Length Groove</th>\n",
       "    </tr>\n",
       "  </thead>\n",
       "  <tbody>\n",
       "    <tr>\n",
       "      <th>0</th>\n",
       "      <td>1.260278</td>\n",
       "      <td>0.348877</td>\n",
       "    </tr>\n",
       "    <tr>\n",
       "      <th>1</th>\n",
       "      <td>0.266122</td>\n",
       "      <td>0.348365</td>\n",
       "    </tr>\n",
       "    <tr>\n",
       "      <th>2</th>\n",
       "      <td>1.586328</td>\n",
       "      <td>0.348069</td>\n",
       "    </tr>\n",
       "    <tr>\n",
       "      <th>3</th>\n",
       "      <td>1.287229</td>\n",
       "      <td>0.348021</td>\n",
       "    </tr>\n",
       "    <tr>\n",
       "      <th>4</th>\n",
       "      <td>0.580087</td>\n",
       "      <td>0.348796</td>\n",
       "    </tr>\n",
       "  </tbody>\n",
       "</table>\n",
       "</div>"
      ],
      "text/plain": [
       "   boxcox_Asymmetry Coefficient  boxcox_Length Groove\n",
       "0                      1.260278              0.348877\n",
       "1                      0.266122              0.348365\n",
       "2                      1.586328              0.348069\n",
       "3                      1.287229              0.348021\n",
       "4                      0.580087              0.348796"
      ]
     },
     "execution_count": 36,
     "metadata": {},
     "output_type": "execute_result"
    }
   ],
   "source": [
    "wheat_feat = data_norm[['boxcox_Asymmetry Coefficient','boxcox_Length Groove']]\n",
    "wheat_feat.head(5)"
   ]
  },
  {
   "cell_type": "code",
   "execution_count": 37,
   "id": "9770c452",
   "metadata": {},
   "outputs": [
    {
     "data": {
      "text/plain": [
       "Text(0, 0.5, 'Length of Groove')"
      ]
     },
     "execution_count": 37,
     "metadata": {},
     "output_type": "execute_result"
    },
    {
     "data": {
      "image/png": "[encoded data removed]",
      "text/plain": [
       "<Figure size 432x288 with 1 Axes>"
      ]
     },
     "metadata": {
      "needs_background": "light"
     },
     "output_type": "display_data"
    }
   ],
   "source": [
    "plt.scatter(wheat_feat['boxcox_Asymmetry Coefficient'], wheat_feat['boxcox_Length Groove'])\n",
    "plt.title('Before cluster')\n",
    "plt.xlabel('Asymmetry Coefficient')\n",
    "plt.ylabel('Length of Groove')"
   ]
  },
  {
   "cell_type": "code",
   "execution_count": 38,
   "id": "4d83fc44",
   "metadata": {},
   "outputs": [
    {
     "name": "stderr",
     "output_type": "stream",
     "text": [
      "/Library/Frameworks/Python.framework/Versions/3.7/lib/python3.7/site-packages/ipykernel_launcher.py:20: UserWarning: You passed a edgecolor/edgecolors ('black') for an unfilled marker ('+').  Matplotlib is ignoring the edgecolor in favor of the facecolor.  This behavior may change in the future.\n"
     ]
    },
    {
     "data": {
      "image/png": "[encoded data removed]",
      "text/plain": [
       "<Figure size 432x288 with 1 Axes>"
      ]
     },
     "metadata": {
      "needs_background": "light"
     },
     "output_type": "display_data"
    }
   ],
   "source": [
    "kmresult = KMeans(n_clusters = 3, n_init = 20, random_state = 3).fit_predict(wheat_feat)\n",
    "plt.scatter(\n",
    "    wheat_feat['boxcox_Asymmetry Coefficient'][kmresult ==0], wheat_feat['boxcox_Length Groove'][kmresult  ==0],\n",
    "    c = 'lightgreen',\n",
    "    marker = 's', edgecolor = 'black',\n",
    "    label = 'cluster1'\n",
    ")\n",
    "\n",
    "plt.scatter(\n",
    "    wheat_feat['boxcox_Asymmetry Coefficient'][kmresult ==1], wheat_feat['boxcox_Length Groove'][kmresult  ==1],\n",
    "    c = 'orange',\n",
    "    marker = 'o', edgecolor = 'black',\n",
    "    label = 'cluster2'\n",
    ")\n",
    "\n",
    "plt.scatter(\n",
    "    wheat_feat['boxcox_Asymmetry Coefficient'][kmresult ==2], wheat_feat['boxcox_Length Groove'][kmresult  ==2],\n",
    "    c = 'blue',\n",
    "    marker = '+', edgecolor = 'black',\n",
    "    label = 'cluster3'\n",
    ")\n",
    "plt.title('KMean - 3 Clusters')\n",
    "plt.xlabel('Asymmetry Coefficient')\n",
    "plt.ylabel('Length of Groove')\n",
    "\n",
    "plt.legend(scatterpoints=1)\n",
    "plt.show()"
   ]
  },
  {
   "cell_type": "code",
   "execution_count": 39,
   "id": "ee8867ff",
   "metadata": {},
   "outputs": [
    {
     "data": {
      "text/html": [
       "<div>\n",
       "<style scoped>\n",
       "    .dataframe tbody tr th:only-of-type {\n",
       "        vertical-align: middle;\n",
       "    }\n",
       "\n",
       "    .dataframe tbody tr th {\n",
       "        vertical-align: top;\n",
       "    }\n",
       "\n",
       "    .dataframe thead th {\n",
       "        text-align: right;\n",
       "    }\n",
       "</style>\n",
       "<table border=\"1\" class=\"dataframe\">\n",
       "  <thead>\n",
       "    <tr style=\"text-align: right;\">\n",
       "      <th></th>\n",
       "      <th>sepal length (cm)</th>\n",
       "      <th>sepal width (cm)</th>\n",
       "      <th>petal length (cm)</th>\n",
       "      <th>petal width (cm)</th>\n",
       "    </tr>\n",
       "  </thead>\n",
       "  <tbody>\n",
       "    <tr>\n",
       "      <th>0</th>\n",
       "      <td>5.1</td>\n",
       "      <td>3.5</td>\n",
       "      <td>1.4</td>\n",
       "      <td>0.2</td>\n",
       "    </tr>\n",
       "    <tr>\n",
       "      <th>1</th>\n",
       "      <td>4.9</td>\n",
       "      <td>3.0</td>\n",
       "      <td>1.4</td>\n",
       "      <td>0.2</td>\n",
       "    </tr>\n",
       "    <tr>\n",
       "      <th>2</th>\n",
       "      <td>4.7</td>\n",
       "      <td>3.2</td>\n",
       "      <td>1.3</td>\n",
       "      <td>0.2</td>\n",
       "    </tr>\n",
       "    <tr>\n",
       "      <th>3</th>\n",
       "      <td>4.6</td>\n",
       "      <td>3.1</td>\n",
       "      <td>1.5</td>\n",
       "      <td>0.2</td>\n",
       "    </tr>\n",
       "    <tr>\n",
       "      <th>4</th>\n",
       "      <td>5.0</td>\n",
       "      <td>3.6</td>\n",
       "      <td>1.4</td>\n",
       "      <td>0.2</td>\n",
       "    </tr>\n",
       "    <tr>\n",
       "      <th>5</th>\n",
       "      <td>5.4</td>\n",
       "      <td>3.9</td>\n",
       "      <td>1.7</td>\n",
       "      <td>0.4</td>\n",
       "    </tr>\n",
       "    <tr>\n",
       "      <th>6</th>\n",
       "      <td>4.6</td>\n",
       "      <td>3.4</td>\n",
       "      <td>1.4</td>\n",
       "      <td>0.3</td>\n",
       "    </tr>\n",
       "    <tr>\n",
       "      <th>7</th>\n",
       "      <td>5.0</td>\n",
       "      <td>3.4</td>\n",
       "      <td>1.5</td>\n",
       "      <td>0.2</td>\n",
       "    </tr>\n",
       "    <tr>\n",
       "      <th>8</th>\n",
       "      <td>4.4</td>\n",
       "      <td>2.9</td>\n",
       "      <td>1.4</td>\n",
       "      <td>0.2</td>\n",
       "    </tr>\n",
       "    <tr>\n",
       "      <th>9</th>\n",
       "      <td>4.9</td>\n",
       "      <td>3.1</td>\n",
       "      <td>1.5</td>\n",
       "      <td>0.1</td>\n",
       "    </tr>\n",
       "  </tbody>\n",
       "</table>\n",
       "</div>"
      ],
      "text/plain": [
       "   sepal length (cm)  sepal width (cm)  petal length (cm)  petal width (cm)\n",
       "0                5.1               3.5                1.4               0.2\n",
       "1                4.9               3.0                1.4               0.2\n",
       "2                4.7               3.2                1.3               0.2\n",
       "3                4.6               3.1                1.5               0.2\n",
       "4                5.0               3.6                1.4               0.2\n",
       "5                5.4               3.9                1.7               0.4\n",
       "6                4.6               3.4                1.4               0.3\n",
       "7                5.0               3.4                1.5               0.2\n",
       "8                4.4               2.9                1.4               0.2\n",
       "9                4.9               3.1                1.5               0.1"
      ]
     },
     "execution_count": 39,
     "metadata": {},
     "output_type": "execute_result"
    }
   ],
   "source": [
    "from sklearn import datasets\n",
    "\n",
    "\n",
    "iris = datasets.load_iris()\n",
    "iris_data = iris.data\n",
    "iris_names = iris.feature_names\n",
    "iris_df = pd.DataFrame(iris_data, columns = iris_names)\n",
    "iris_df[:10]"
   ]
  },
  {
   "cell_type": "markdown",
   "id": "53eeb065",
   "metadata": {},
   "source": [
    "### 3.a"
   ]
  },
  {
   "cell_type": "code",
   "execution_count": 40,
   "id": "e5655648",
   "metadata": {},
   "outputs": [
    {
     "data": {
      "image/png": "[encoded data removed]",
      "text/plain": [
       "<Figure size 360x432 with 2 Axes>"
      ]
     },
     "metadata": {
      "needs_background": "light"
     },
     "output_type": "display_data"
    }
   ],
   "source": [
    "fig, ax = plt.subplots(2, figsize = (5, 6))\n",
    "\n",
    "ax[0].scatter(iris_df['sepal length (cm)'], iris_df['sepal width (cm)'])\n",
    "ax[0].set_title('Sepal')\n",
    "ax[0].set_xlabel('sepal length (cm)')\n",
    "ax[0].set_ylabel('sepal width (cm)')\n",
    "\n",
    "ax[1].scatter(iris_df['petal length (cm)'], iris_df['petal width (cm)'], color = 'green')\n",
    "ax[1].set_title('Petal')\n",
    "ax[1].set_xlabel('petal length (cm)')\n",
    "ax[1].set_ylabel('petal width (cm)')\n",
    "\n",
    "plt.tight_layout()"
   ]
  },
  {
   "cell_type": "markdown",
   "id": "ccf1480c",
   "metadata": {},
   "source": [
    "### 3a. Standardizing with MinMax Scaler"
   ]
  },
  {
   "cell_type": "markdown",
   "id": "1497a039",
   "metadata": {},
   "source": [
    "https://scikit-learn.org/stable/modules/generated/sklearn.preprocessing.MinMaxScaler.html\n",
    "    \n",
    "Transform features by scaling each feature to a given range. (default is (0,1))\n",
    "\n",
    "This estimator scales and translates each feature individually such that it is in the given range on the training set, e.g. between zero and one.\n",
    "\n",
    "Formula:\n",
    "\n",
    " \n",
    "\n",
    "$$\\frac{x_i - Min(X)}{Max(X) - Min(X)}$$\n",
    "\n",
    "\n"
   ]
  },
  {
   "cell_type": "markdown",
   "id": "adf78390",
   "metadata": {},
   "source": [
    "$$ x_i*(max - min) + min$$"
   ]
  },
  {
   "cell_type": "markdown",
   "id": "df391fd4",
   "metadata": {},
   "source": [
    "where min and max are 0 and 1 here. "
   ]
  },
  {
   "cell_type": "code",
   "execution_count": 41,
   "id": "073d59b1",
   "metadata": {},
   "outputs": [],
   "source": [
    "# minmax scale\n",
    "from sklearn.preprocessing import MinMaxScaler"
   ]
  },
  {
   "cell_type": "code",
   "execution_count": 42,
   "id": "0e52735c",
   "metadata": {},
   "outputs": [],
   "source": [
    "scaler = MinMaxScaler() \n",
    "scaler.fit(iris_df)\n",
    "scaler.data_max_\n",
    "iris_minmax_scaled = pd.DataFrame(scaler.transform(iris_df), columns = iris_names)\n",
    "#iris_minmax_scaled"
   ]
  },
  {
   "cell_type": "code",
   "execution_count": 43,
   "id": "8136ca5a",
   "metadata": {},
   "outputs": [
    {
     "data": {
      "image/png": "[encoded data removed]",
      "text/plain": [
       "<Figure size 360x432 with 2 Axes>"
      ]
     },
     "metadata": {
      "needs_background": "light"
     },
     "output_type": "display_data"
    }
   ],
   "source": [
    "fig, ax = plt.subplots(2, figsize = (5, 6))\n",
    "\n",
    "ax[0].scatter(iris_minmax_scaled['sepal length (cm)'], iris_minmax_scaled['sepal width (cm)'])\n",
    "ax[0].set_title('Sepal - MinMax Scaled')\n",
    "ax[0].set_xlabel('sepal length (cm)')\n",
    "ax[0].set_ylabel('sepal width (cm)')\n",
    "\n",
    "ax[1].scatter(iris_minmax_scaled['petal length (cm)'], iris_minmax_scaled['petal width (cm)'], color = 'green')\n",
    "ax[1].set_title('Petal - MinMax Scaled')\n",
    "ax[1].set_xlabel('petal length (cm)')\n",
    "ax[1].set_ylabel('petal width (cm)')\n",
    "\n",
    "plt.tight_layout()"
   ]
  },
  {
   "cell_type": "markdown",
   "id": "3adca9cf",
   "metadata": {},
   "source": [
    "### 3b. - subsetting"
   ]
  },
  {
   "cell_type": "markdown",
   "id": "e10695b6",
   "metadata": {},
   "source": [
    "Direct says to get every 10th row. There are 150 rows, but in python index starts from 0 and ends at index 149. \n",
    "\n",
    "So I got the first row (index 0) and every 10th row afterwards. This means row 149 is not selected. \n",
    "\n",
    "I apply modular 10 to each index. If 0, then keep the row, else skip. This code will work for any number of rows in the dataset."
   ]
  },
  {
   "cell_type": "code",
   "execution_count": 44,
   "id": "19f2e3e8",
   "metadata": {},
   "outputs": [
    {
     "data": {
      "text/plain": [
       "150"
      ]
     },
     "execution_count": 44,
     "metadata": {},
     "output_type": "execute_result"
    }
   ],
   "source": [
    "len(iris_df)"
   ]
  },
  {
   "cell_type": "code",
   "execution_count": 45,
   "id": "ef78dbe6",
   "metadata": {},
   "outputs": [
    {
     "data": {
      "text/plain": [
       "[0, 10, 20, 30, 40, 50, 60, 70, 80, 90, 100, 110, 120, 130, 140]"
      ]
     },
     "execution_count": 45,
     "metadata": {},
     "output_type": "execute_result"
    }
   ],
   "source": [
    "keepindex = [i for i in iris_df.index if i%10 == 0]\n",
    "keepindex"
   ]
  },
  {
   "cell_type": "code",
   "execution_count": 46,
   "id": "74175141",
   "metadata": {},
   "outputs": [
    {
     "data": {
      "text/html": [
       "<div>\n",
       "<style scoped>\n",
       "    .dataframe tbody tr th:only-of-type {\n",
       "        vertical-align: middle;\n",
       "    }\n",
       "\n",
       "    .dataframe tbody tr th {\n",
       "        vertical-align: top;\n",
       "    }\n",
       "\n",
       "    .dataframe thead th {\n",
       "        text-align: right;\n",
       "    }\n",
       "</style>\n",
       "<table border=\"1\" class=\"dataframe\">\n",
       "  <thead>\n",
       "    <tr style=\"text-align: right;\">\n",
       "      <th></th>\n",
       "      <th>sepal length (cm)</th>\n",
       "      <th>sepal width (cm)</th>\n",
       "      <th>petal length (cm)</th>\n",
       "      <th>petal width (cm)</th>\n",
       "    </tr>\n",
       "  </thead>\n",
       "  <tbody>\n",
       "    <tr>\n",
       "      <th>0</th>\n",
       "      <td>5.1</td>\n",
       "      <td>3.5</td>\n",
       "      <td>1.4</td>\n",
       "      <td>0.2</td>\n",
       "    </tr>\n",
       "    <tr>\n",
       "      <th>10</th>\n",
       "      <td>5.4</td>\n",
       "      <td>3.7</td>\n",
       "      <td>1.5</td>\n",
       "      <td>0.2</td>\n",
       "    </tr>\n",
       "    <tr>\n",
       "      <th>20</th>\n",
       "      <td>5.4</td>\n",
       "      <td>3.4</td>\n",
       "      <td>1.7</td>\n",
       "      <td>0.2</td>\n",
       "    </tr>\n",
       "    <tr>\n",
       "      <th>30</th>\n",
       "      <td>4.8</td>\n",
       "      <td>3.1</td>\n",
       "      <td>1.6</td>\n",
       "      <td>0.2</td>\n",
       "    </tr>\n",
       "    <tr>\n",
       "      <th>40</th>\n",
       "      <td>5.0</td>\n",
       "      <td>3.5</td>\n",
       "      <td>1.3</td>\n",
       "      <td>0.3</td>\n",
       "    </tr>\n",
       "    <tr>\n",
       "      <th>50</th>\n",
       "      <td>7.0</td>\n",
       "      <td>3.2</td>\n",
       "      <td>4.7</td>\n",
       "      <td>1.4</td>\n",
       "    </tr>\n",
       "    <tr>\n",
       "      <th>60</th>\n",
       "      <td>5.0</td>\n",
       "      <td>2.0</td>\n",
       "      <td>3.5</td>\n",
       "      <td>1.0</td>\n",
       "    </tr>\n",
       "    <tr>\n",
       "      <th>70</th>\n",
       "      <td>5.9</td>\n",
       "      <td>3.2</td>\n",
       "      <td>4.8</td>\n",
       "      <td>1.8</td>\n",
       "    </tr>\n",
       "    <tr>\n",
       "      <th>80</th>\n",
       "      <td>5.5</td>\n",
       "      <td>2.4</td>\n",
       "      <td>3.8</td>\n",
       "      <td>1.1</td>\n",
       "    </tr>\n",
       "    <tr>\n",
       "      <th>90</th>\n",
       "      <td>5.5</td>\n",
       "      <td>2.6</td>\n",
       "      <td>4.4</td>\n",
       "      <td>1.2</td>\n",
       "    </tr>\n",
       "    <tr>\n",
       "      <th>100</th>\n",
       "      <td>6.3</td>\n",
       "      <td>3.3</td>\n",
       "      <td>6.0</td>\n",
       "      <td>2.5</td>\n",
       "    </tr>\n",
       "    <tr>\n",
       "      <th>110</th>\n",
       "      <td>6.5</td>\n",
       "      <td>3.2</td>\n",
       "      <td>5.1</td>\n",
       "      <td>2.0</td>\n",
       "    </tr>\n",
       "    <tr>\n",
       "      <th>120</th>\n",
       "      <td>6.9</td>\n",
       "      <td>3.2</td>\n",
       "      <td>5.7</td>\n",
       "      <td>2.3</td>\n",
       "    </tr>\n",
       "    <tr>\n",
       "      <th>130</th>\n",
       "      <td>7.4</td>\n",
       "      <td>2.8</td>\n",
       "      <td>6.1</td>\n",
       "      <td>1.9</td>\n",
       "    </tr>\n",
       "    <tr>\n",
       "      <th>140</th>\n",
       "      <td>6.7</td>\n",
       "      <td>3.1</td>\n",
       "      <td>5.6</td>\n",
       "      <td>2.4</td>\n",
       "    </tr>\n",
       "  </tbody>\n",
       "</table>\n",
       "</div>"
      ],
      "text/plain": [
       "     sepal length (cm)  sepal width (cm)  petal length (cm)  petal width (cm)\n",
       "0                  5.1               3.5                1.4               0.2\n",
       "10                 5.4               3.7                1.5               0.2\n",
       "20                 5.4               3.4                1.7               0.2\n",
       "30                 4.8               3.1                1.6               0.2\n",
       "40                 5.0               3.5                1.3               0.3\n",
       "50                 7.0               3.2                4.7               1.4\n",
       "60                 5.0               2.0                3.5               1.0\n",
       "70                 5.9               3.2                4.8               1.8\n",
       "80                 5.5               2.4                3.8               1.1\n",
       "90                 5.5               2.6                4.4               1.2\n",
       "100                6.3               3.3                6.0               2.5\n",
       "110                6.5               3.2                5.1               2.0\n",
       "120                6.9               3.2                5.7               2.3\n",
       "130                7.4               2.8                6.1               1.9\n",
       "140                6.7               3.1                5.6               2.4"
      ]
     },
     "execution_count": 46,
     "metadata": {},
     "output_type": "execute_result"
    }
   ],
   "source": [
    "subset_iris = iris_df.iloc[keepindex, :]\n",
    "subset_iris"
   ]
  },
  {
   "attachments": {},
   "cell_type": "markdown",
   "id": "8abff57b",
   "metadata": {},
   "source": [
    "### 3c. Manhattan Distance Matrix  + 3d. Euclidean distance \n",
    "\n",
    "\n",
    "**Manhattan**\n",
    "$\\sum\\limits_{i = 1}^{n}\\lvert{x_i - y_i}\\rvert$\n",
    "\n",
    "**Euclidean**\n",
    "$\\sqrt{\\sum\\limits_{i=1}^{n}(x_i - y_i) ^2}$"
   ]
  },
  {
   "cell_type": "code",
   "execution_count": 47,
   "id": "6e001324",
   "metadata": {},
   "outputs": [],
   "source": [
    "from scipy.spatial import distance"
   ]
  },
  {
   "cell_type": "code",
   "execution_count": 48,
   "id": "7cad2f34",
   "metadata": {},
   "outputs": [
    {
     "data": {
      "text/plain": [
       "42.2"
      ]
     },
     "execution_count": 48,
     "metadata": {},
     "output_type": "execute_result"
    }
   ],
   "source": [
    "distance.cityblock(subset_iris['sepal length (cm)'],subset_iris['sepal width (cm)'])"
   ]
  },
  {
   "cell_type": "code",
   "execution_count": 49,
   "id": "c593627b",
   "metadata": {},
   "outputs": [],
   "source": [
    "def create_distance_matrix(data):\n",
    "    manh= []\n",
    "    euclid = []\n",
    "    columns = data.columns\n",
    "    \n",
    "    for col in columns:\n",
    "        manh_col = []\n",
    "        euclid_col = []\n",
    "        for j in columns:\n",
    "            manh_col.append(np.linalg.norm(data[col] - data[j], ord = 1))\n",
    "            euclid_col.append(np.linalg.norm(data[col] - data[j], ord = 2))\n",
    "        manh.append(manh_col)\n",
    "        euclid.append(euclid_col)\n",
    "        \n",
    "    return np.array(manh), np.array(euclid)"
   ]
  },
  {
   "cell_type": "code",
   "execution_count": 50,
   "id": "2aa38374",
   "metadata": {},
   "outputs": [],
   "source": [
    "manhattan_matrix , euclidean_matrix = create_distance_matrix(subset_iris)"
   ]
  },
  {
   "cell_type": "code",
   "execution_count": 51,
   "id": "40a58d2f",
   "metadata": {},
   "outputs": [
    {
     "data": {
      "text/plain": [
       "array([[ 0. , 42.2, 31.2, 69.7],\n",
       "       [42.2,  0. , 30.4, 27.5],\n",
       "       [31.2, 30.4,  0. , 38.5],\n",
       "       [69.7, 27.5, 38.5,  0. ]])"
      ]
     },
     "execution_count": 51,
     "metadata": {},
     "output_type": "execute_result"
    }
   ],
   "source": [
    "manhattan_matrix"
   ]
  },
  {
   "cell_type": "code",
   "execution_count": 52,
   "id": "8123f598",
   "metadata": {},
   "outputs": [
    {
     "data": {
      "text/plain": [
       "<function matplotlib.pyplot.show(close=None, block=None)>"
      ]
     },
     "execution_count": 52,
     "metadata": {},
     "output_type": "execute_result"
    },
    {
     "data": {
      "image/png": "[encoded data removed]",
      "text/plain": [
       "<Figure size 432x288 with 2 Axes>"
      ]
     },
     "metadata": {
      "needs_background": "light"
     },
     "output_type": "display_data"
    }
   ],
   "source": [
    "im = plt.imshow(manhattan_matrix, interpolation='nearest', cmap = 'inferno')\n",
    "plt.colorbar(im)\n",
    "plt.title('manhattan_matrix')\n",
    "plt.show"
   ]
  },
  {
   "cell_type": "markdown",
   "id": "6a6cd40e",
   "metadata": {},
   "source": [
    "***"
   ]
  },
  {
   "cell_type": "code",
   "execution_count": 53,
   "id": "3aadc3c4",
   "metadata": {},
   "outputs": [
    {
     "data": {
      "text/plain": [
       "array([[ 0.        , 11.44727042,  9.26066952, 18.10938983],\n",
       "       [11.44727042,  0.        ,  8.11048704,  8.12834547],\n",
       "       [ 9.26066952,  8.11048704,  0.        , 10.644717  ],\n",
       "       [18.10938983,  8.12834547, 10.644717  ,  0.        ]])"
      ]
     },
     "execution_count": 53,
     "metadata": {},
     "output_type": "execute_result"
    }
   ],
   "source": [
    "euclidean_matrix"
   ]
  },
  {
   "cell_type": "code",
   "execution_count": 54,
   "id": "b1ebaa12",
   "metadata": {},
   "outputs": [
    {
     "data": {
      "text/plain": [
       "<function matplotlib.pyplot.show(close=None, block=None)>"
      ]
     },
     "execution_count": 54,
     "metadata": {},
     "output_type": "execute_result"
    },
    {
     "data": {
      "image/png": "[encoded data removed]",
      "text/plain": [
       "<Figure size 432x288 with 2 Axes>"
      ]
     },
     "metadata": {
      "needs_background": "light"
     },
     "output_type": "display_data"
    }
   ],
   "source": [
    "im = plt.imshow(euclidean_matrix, interpolation='nearest', cmap = 'inferno')\n",
    "plt.colorbar(im)\n",
    "plt.title('euclidean_matrix')\n",
    "plt.show"
   ]
  },
  {
   "cell_type": "code",
   "execution_count": null,
   "id": "c71275a1",
   "metadata": {},
   "outputs": [],
   "source": []
  }
 ],
 "metadata": {
  "kernelspec": {
   "display_name": "Python 3 (ipykernel)",
   "language": "python",
   "name": "python3"
  },
  "language_info": {
   "codemirror_mode": {
    "name": "ipython",
    "version": 3
   },
   "file_extension": ".py",
   "mimetype": "text/x-python",
   "name": "python",
   "nbconvert_exporter": "python",
   "pygments_lexer": "ipython3",
   "version": "3.7.1"
  }
 },
 "nbformat": 4,
 "nbformat_minor": 5
}
