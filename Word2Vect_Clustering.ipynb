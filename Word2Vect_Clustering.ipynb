{
 "cells": [
  {
   "cell_type": "markdown",
   "id": "f6acca75",
   "metadata": {},
   "source": [
    "\n",
    "Select a month of data from the Indiegogo dataset at https://webrobots.io/indiegogo-dataset/. You can choose whether to load the json.gz files or deal with the zips of CSV files. You may need to research how to use R/Python to read the gz compression or unzip the file.\n",
    "\n",
    "If you do not get at least 15,000 rows of data, select a second month and combine it with the first file.\n",
    "\n",
    "Finally, select only the feature named “title” (you can discard all other features).\n"
   ]
  },
  {
   "cell_type": "markdown",
   "id": "3d1f66df",
   "metadata": {},
   "source": [
    "**------------------------Q1 Answer:------------------------**\n",
    "\n",
    "I requested the data from the url https://webrobots.io/indiegogo-dataset/ and used BeautifulSoup to parse the html in order to retrieve the links for the json.gz files. \n",
    "\n",
    "I decided on the most recent dataset (2022-03-25). Then I \n",
    "1. Read in the data - using `requests.get(url).content`\n",
    "2. Decompressed the packaged file - `from gzip import decompress`\n",
    "3. decoded it - `decode(\"utf-8\")`\n",
    "\n",
    "\n",
    "> As I am reading it line by line, I only parsed it and only fetched `Title` column. I have a total of 68664 titles. "
   ]
  },
  {
   "cell_type": "markdown",
   "id": "dd5ff38b",
   "metadata": {},
   "source": [
    "**------------------------Q1 Code:------------------------**"
   ]
  },
  {
   "cell_type": "code",
   "execution_count": 165,
   "id": "359879f8",
   "metadata": {},
   "outputs": [],
   "source": [
    "import requests\n",
    "from bs4 import BeautifulSoup"
   ]
  },
  {
   "cell_type": "code",
   "execution_count": 166,
   "id": "4e8ec083",
   "metadata": {},
   "outputs": [],
   "source": [
    "url = 'https://webrobots.io/indiegogo-dataset/'\n",
    "\n",
    "webpage = requests.get(url)\n",
    "soup = BeautifulSoup(webpage.text, 'html.parser')"
   ]
  },
  {
   "cell_type": "code",
   "execution_count": 167,
   "id": "bcfa6c43",
   "metadata": {},
   "outputs": [
    {
     "data": {
      "text/plain": [
       "['https://s3.amazonaws.com/weruns/forfun/Indiegogo/Indiegogo_2022-03-25T20_40_41_780Z.json.gz',\n",
       " 'https://s3.amazonaws.com/weruns/forfun/Indiegogo/Indiegogo_2022-02-11T20_40_44_295Z.json.gz',\n",
       " 'https://s3.amazonaws.com/weruns/forfun/Indiegogo/Indiegogo_2022-01-21T20_40_42_239Z.json.gz',\n",
       " 'https://s3.amazonaws.com/weruns/forfun/Indiegogo/Indiegogo_2021-12-10T20_40_47_580Z.json.gz',\n",
       " 'https://s3.amazonaws.com/weruns/forfun/Indiegogo/Indiegogo_2021-11-19T20_40_48_076Z.json.gz']"
      ]
     },
     "execution_count": 167,
     "metadata": {},
     "output_type": "execute_result"
    }
   ],
   "source": [
    "datafiles = [a['href'] for a in soup.find_all('a', href = True) if '.json.gz' in a['href']]\n",
    "datafiles[:5]"
   ]
  },
  {
   "cell_type": "code",
   "execution_count": 168,
   "id": "8c6886ae",
   "metadata": {},
   "outputs": [
    {
     "data": {
      "text/plain": [
       "'https://s3.amazonaws.com/weruns/forfun/Indiegogo/Indiegogo_2022-03-25T20_40_41_780Z.json.gz'"
      ]
     },
     "execution_count": 168,
     "metadata": {},
     "output_type": "execute_result"
    }
   ],
   "source": [
    "data_url = datafiles[0]\n",
    "data_url"
   ]
  },
  {
   "cell_type": "code",
   "execution_count": 169,
   "id": "e67496da",
   "metadata": {},
   "outputs": [],
   "source": [
    "import ssl\n",
    "\n",
    "try:\n",
    "    _create_unverified_https_context = ssl._create_unverified_context\n",
    "except AttributeError:\n",
    "    pass\n",
    "else:\n",
    "    ssl._create_default_https_context = _create_unverified_https_context"
   ]
  },
  {
   "cell_type": "code",
   "execution_count": 170,
   "id": "985dc189",
   "metadata": {},
   "outputs": [],
   "source": [
    "from gzip import decompress\n",
    "from json import loads"
   ]
  },
  {
   "cell_type": "code",
   "execution_count": 171,
   "id": "7e9a9310",
   "metadata": {},
   "outputs": [],
   "source": [
    "def get_clean_data(url):\n",
    "    data = decompress(requests.get(url).content).decode(\"utf-8\")\n",
    "    list_data = data.split('}}')\n",
    "    title =[]\n",
    "    for record in list_data[0:-1]:\n",
    "        try:\n",
    "            record = record + '}}'\n",
    "            record = record.replace(':false', ':\"False\"').replace(':null', ':\"Null\"').replace(':true', ':\"True\"')\n",
    "            record = eval(record)\n",
    "            title.append(record.get('data').get('title'))\n",
    "        except:\n",
    "            print(record)\n",
    "            breakpoint()\n",
    "    return title"
   ]
  },
  {
   "cell_type": "code",
   "execution_count": 172,
   "id": "b4482708",
   "metadata": {},
   "outputs": [
    {
     "data": {
      "text/plain": [
       "68664"
      ]
     },
     "execution_count": 172,
     "metadata": {},
     "output_type": "execute_result"
    }
   ],
   "source": [
    "titles=get_clean_data(data_url)\n",
    "len(titles)"
   ]
  },
  {
   "cell_type": "markdown",
   "id": "58f1a351",
   "metadata": {},
   "source": [
    "### 2.1 Pre-process the text - basic cleaning"
   ]
  },
  {
   "cell_type": "markdown",
   "id": "98ee2430",
   "metadata": {},
   "source": [
    "**------------------------2.1 Answer------------------------**\n",
    "\n",
    "This step is for *Basic* text preprocessing with nltk modules. I applied the following techniques:\n",
    "\n",
    "For each title, I split it into words and applied the following before concatenating the words back. \n",
    "1. First I checked if it is an ENGLISH word using `enchant.Dict(\"en_US\")\n",
    "2. Then I removed stopwords using `from nltk.corpus import stopwords`\n",
    "3. Removed words of len <= 2\n",
    "4. Removed numeric words e.g. `type(12) is string`\n",
    "5. Applied `from nltk.stem import PorterStemmer`\n",
    "\n",
    "\n",
    "Next, I randomly set seed and randomly selecte 15000 titles. \n",
    "* `random.seed(12345)`\n",
    "* `selected_titles = random.choices(titles, k=15000)`\n",
    "\n",
    "Finally, I have returned 15000 rows of cleaned text titles. 5016 of the documents titles after cleaning is ' '. Based on Office Hour/ Saturday Discussion, we want to keep these as a cluster."
   ]
  },
  {
   "cell_type": "markdown",
   "id": "680962c0",
   "metadata": {},
   "source": [
    "**------------------------2.1 Code------------------------**"
   ]
  },
  {
   "cell_type": "code",
   "execution_count": 174,
   "id": "a6a0b29b",
   "metadata": {},
   "outputs": [],
   "source": [
    "from nltk.corpus import stopwords\n",
    "from nltk.tokenize import word_tokenize\n",
    "from nltk.tokenize import RegexpTokenizer\n",
    "from nltk.stem import PorterStemmer\n",
    "#from nltk.corpus import words # too slow\n",
    "import enchant \n",
    "d = enchant.Dict(\"en_US\") \n",
    "#import nltk.data "
   ]
  },
  {
   "cell_type": "code",
   "execution_count": 175,
   "id": "49fd105b",
   "metadata": {},
   "outputs": [],
   "source": [
    "stop_words = set(stopwords.words('english'))\n",
    "word_tokenize_nopunct = RegexpTokenizer(r'\\w+').tokenize\n",
    "ps = PorterStemmer()"
   ]
  },
  {
   "cell_type": "code",
   "execution_count": 176,
   "id": "49f4471b",
   "metadata": {},
   "outputs": [],
   "source": [
    "def clean_text(title_list):\n",
    "    title_cleaned = []\n",
    "    for title_i in title_list:\n",
    "        title_token = word_tokenize_nopunct(title_i)\n",
    "        build_back_title = []\n",
    "        for word in title_token: \n",
    "            word = word.lower()\n",
    "            try:\n",
    "                if d.check(word):\n",
    "                    if word in stop_words:\n",
    "                        word = ''\n",
    "                    if len(word) <= 2:\n",
    "                        word = ''\n",
    "                    if word.isnumeric():\n",
    "                        word = ''\n",
    "                    word = ps.stem(word)\n",
    "                    build_back_title.append(word)\n",
    "            except:\n",
    "                pass\n",
    "        while(\"\" in build_back_title):\n",
    "            try:\n",
    "                build_back_title.remove(\"\")\n",
    "            except:\n",
    "                pass\n",
    "        title = ' '.join(build_back_title)\n",
    "        title_cleaned.append(title)\n",
    "    return title_cleaned"
   ]
  },
  {
   "cell_type": "code",
   "execution_count": 177,
   "id": "d9caba64",
   "metadata": {},
   "outputs": [
    {
     "data": {
      "text/plain": [
       "['Learning in Quarantine using LEGO SERIOUS PLAY',\n",
       " 'Emergency Surgery for Alonso. Cirugía de urgencia',\n",
       " 'Pollinate the Peninsula',\n",
       " 'Nature Knows Best',\n",
       " 'The SADA Project',\n",
       " 'The Harmonic Egg is Coming to Long Island!',\n",
       " 'Equipment Sponsorship & Capital Fundraiser',\n",
       " 'Pre Order 2nd Edition of Lighter: Living Tantra',\n",
       " 'United States Happiness Report',\n",
       " 'Path to Peru']"
      ]
     },
     "execution_count": 177,
     "metadata": {},
     "output_type": "execute_result"
    }
   ],
   "source": [
    "titles[:10]"
   ]
  },
  {
   "cell_type": "markdown",
   "id": "f1a6ec69",
   "metadata": {},
   "source": [
    "***reduced number of rows by randomly selecting 15000 rows***"
   ]
  },
  {
   "cell_type": "code",
   "execution_count": 178,
   "id": "2c875d25",
   "metadata": {},
   "outputs": [],
   "source": [
    "import random\n",
    "random.seed(12345)\n",
    "selected_titles = random.choices(titles, k=15000)"
   ]
  },
  {
   "cell_type": "code",
   "execution_count": 179,
   "id": "4a2be25b",
   "metadata": {},
   "outputs": [
    {
     "name": "stdout",
     "output_type": "stream",
     "text": [
      "CPU times: user 3.87 s, sys: 1.3 s, total: 5.17 s\n",
      "Wall time: 6.62 s\n"
     ]
    }
   ],
   "source": [
    "%time cleaned_title = clean_text(selected_titles)"
   ]
  },
  {
   "cell_type": "code",
   "execution_count": 180,
   "id": "67d916e2",
   "metadata": {},
   "outputs": [
    {
     "data": {
      "text/plain": [
       "15000"
      ]
     },
     "execution_count": 180,
     "metadata": {},
     "output_type": "execute_result"
    }
   ],
   "source": [
    "len(cleaned_title)\n"
   ]
  },
  {
   "cell_type": "code",
   "execution_count": 181,
   "id": "4dcb8098",
   "metadata": {},
   "outputs": [
    {
     "data": {
      "text/plain": [
       "9984"
      ]
     },
     "execution_count": 181,
     "metadata": {},
     "output_type": "execute_result"
    }
   ],
   "source": [
    "len(set(cleaned_title))"
   ]
  },
  {
   "cell_type": "code",
   "execution_count": 182,
   "id": "a4c66121",
   "metadata": {},
   "outputs": [
    {
     "data": {
      "text/plain": [
       "5016"
      ]
     },
     "execution_count": 182,
     "metadata": {},
     "output_type": "execute_result"
    }
   ],
   "source": [
    "len(cleaned_title) -len(set(cleaned_title))"
   ]
  },
  {
   "cell_type": "code",
   "execution_count": 183,
   "id": "df38b77c",
   "metadata": {},
   "outputs": [
    {
     "data": {
      "text/plain": [
       "['build new bike pirat workspac',\n",
       " 'gong essenti daili practic set chi yoga medit',\n",
       " 'patchwork monkey',\n",
       " '',\n",
       " 'right know day',\n",
       " 'make music way anytim anywher',\n",
       " 'journey first mar surviv onlin game',\n",
       " 'sun wind advertis wind',\n",
       " 'post alcohol recoveri',\n",
       " 'glass keep eye road']"
      ]
     },
     "execution_count": 183,
     "metadata": {},
     "output_type": "execute_result"
    }
   ],
   "source": [
    "cleaned_title[:10]"
   ]
  },
  {
   "cell_type": "markdown",
   "id": "4c3a805c",
   "metadata": {},
   "source": [
    "***\n"
   ]
  },
  {
   "cell_type": "markdown",
   "id": "d25e453a",
   "metadata": {},
   "source": [
    "### 2.2  Creating DTM - with original cleaned titles"
   ]
  },
  {
   "cell_type": "markdown",
   "id": "e0b24628",
   "metadata": {},
   "source": [
    "**------------------------2.2 Answer------------------------**\n",
    "\n",
    "I used `sklearn.feature_extraction.text import TfidfVectorizer` to create a dtm on my list of titles. \n",
    "\n",
    "1. I created a \"vectorizer\" using default values. \n",
    "2. Then I applied `fit_transform()` to my list of titles. \n",
    "3. Finally, I put it into a pandas dataframe using `pd.DataFrame(arrays, feature_names(words))`\n",
    "\n",
    "However I had too many words. I had 5843 distinct words! So I explored other methods to reduce the number of words. \n"
   ]
  },
  {
   "cell_type": "markdown",
   "id": "41cda90b",
   "metadata": {},
   "source": [
    "**------------------------2.2 Code:------------------------**"
   ]
  },
  {
   "cell_type": "code",
   "execution_count": 184,
   "id": "c40173c5",
   "metadata": {},
   "outputs": [],
   "source": [
    "from sklearn.feature_extraction.text import TfidfVectorizer\n",
    "import pandas as pd\n",
    "vectorizer = TfidfVectorizer()"
   ]
  },
  {
   "cell_type": "code",
   "execution_count": 185,
   "id": "f248f108",
   "metadata": {},
   "outputs": [
    {
     "name": "stderr",
     "output_type": "stream",
     "text": [
      "/Library/Frameworks/Python.framework/Versions/3.7/lib/python3.7/site-packages/sklearn/utils/deprecation.py:87: FutureWarning: Function get_feature_names is deprecated; get_feature_names is deprecated in 1.0 and will be removed in 1.2. Please use get_feature_names_out instead.\n",
      "  warnings.warn(msg, category=FutureWarning)\n"
     ]
    },
    {
     "data": {
      "text/html": [
       "<div>\n",
       "<style scoped>\n",
       "    .dataframe tbody tr th:only-of-type {\n",
       "        vertical-align: middle;\n",
       "    }\n",
       "\n",
       "    .dataframe tbody tr th {\n",
       "        vertical-align: top;\n",
       "    }\n",
       "\n",
       "    .dataframe thead th {\n",
       "        text-align: right;\n",
       "    }\n",
       "</style>\n",
       "<table border=\"1\" class=\"dataframe\">\n",
       "  <thead>\n",
       "    <tr style=\"text-align: right;\">\n",
       "      <th></th>\n",
       "      <th>abandon</th>\n",
       "      <th>abey</th>\n",
       "      <th>abil</th>\n",
       "      <th>aboard</th>\n",
       "      <th>aborigin</th>\n",
       "      <th>abort</th>\n",
       "      <th>abridg</th>\n",
       "      <th>abroad</th>\n",
       "      <th>absolut</th>\n",
       "      <th>abstract</th>\n",
       "      <th>...</th>\n",
       "      <th>zinc</th>\n",
       "      <th>zine</th>\n",
       "      <th>zing</th>\n",
       "      <th>zipper</th>\n",
       "      <th>zodiac</th>\n",
       "      <th>zombi</th>\n",
       "      <th>zone</th>\n",
       "      <th>zoo</th>\n",
       "      <th>zoom</th>\n",
       "      <th>zooplankton</th>\n",
       "    </tr>\n",
       "  </thead>\n",
       "  <tbody>\n",
       "    <tr>\n",
       "      <th>0</th>\n",
       "      <td>0.0</td>\n",
       "      <td>0.0</td>\n",
       "      <td>0.0</td>\n",
       "      <td>0.0</td>\n",
       "      <td>0.0</td>\n",
       "      <td>0.0</td>\n",
       "      <td>0.0</td>\n",
       "      <td>0.0</td>\n",
       "      <td>0.0</td>\n",
       "      <td>0.0</td>\n",
       "      <td>...</td>\n",
       "      <td>0.0</td>\n",
       "      <td>0.0</td>\n",
       "      <td>0.0</td>\n",
       "      <td>0.0</td>\n",
       "      <td>0.0</td>\n",
       "      <td>0.0</td>\n",
       "      <td>0.0</td>\n",
       "      <td>0.0</td>\n",
       "      <td>0.0</td>\n",
       "      <td>0.0</td>\n",
       "    </tr>\n",
       "    <tr>\n",
       "      <th>1</th>\n",
       "      <td>0.0</td>\n",
       "      <td>0.0</td>\n",
       "      <td>0.0</td>\n",
       "      <td>0.0</td>\n",
       "      <td>0.0</td>\n",
       "      <td>0.0</td>\n",
       "      <td>0.0</td>\n",
       "      <td>0.0</td>\n",
       "      <td>0.0</td>\n",
       "      <td>0.0</td>\n",
       "      <td>...</td>\n",
       "      <td>0.0</td>\n",
       "      <td>0.0</td>\n",
       "      <td>0.0</td>\n",
       "      <td>0.0</td>\n",
       "      <td>0.0</td>\n",
       "      <td>0.0</td>\n",
       "      <td>0.0</td>\n",
       "      <td>0.0</td>\n",
       "      <td>0.0</td>\n",
       "      <td>0.0</td>\n",
       "    </tr>\n",
       "    <tr>\n",
       "      <th>2</th>\n",
       "      <td>0.0</td>\n",
       "      <td>0.0</td>\n",
       "      <td>0.0</td>\n",
       "      <td>0.0</td>\n",
       "      <td>0.0</td>\n",
       "      <td>0.0</td>\n",
       "      <td>0.0</td>\n",
       "      <td>0.0</td>\n",
       "      <td>0.0</td>\n",
       "      <td>0.0</td>\n",
       "      <td>...</td>\n",
       "      <td>0.0</td>\n",
       "      <td>0.0</td>\n",
       "      <td>0.0</td>\n",
       "      <td>0.0</td>\n",
       "      <td>0.0</td>\n",
       "      <td>0.0</td>\n",
       "      <td>0.0</td>\n",
       "      <td>0.0</td>\n",
       "      <td>0.0</td>\n",
       "      <td>0.0</td>\n",
       "    </tr>\n",
       "    <tr>\n",
       "      <th>3</th>\n",
       "      <td>0.0</td>\n",
       "      <td>0.0</td>\n",
       "      <td>0.0</td>\n",
       "      <td>0.0</td>\n",
       "      <td>0.0</td>\n",
       "      <td>0.0</td>\n",
       "      <td>0.0</td>\n",
       "      <td>0.0</td>\n",
       "      <td>0.0</td>\n",
       "      <td>0.0</td>\n",
       "      <td>...</td>\n",
       "      <td>0.0</td>\n",
       "      <td>0.0</td>\n",
       "      <td>0.0</td>\n",
       "      <td>0.0</td>\n",
       "      <td>0.0</td>\n",
       "      <td>0.0</td>\n",
       "      <td>0.0</td>\n",
       "      <td>0.0</td>\n",
       "      <td>0.0</td>\n",
       "      <td>0.0</td>\n",
       "    </tr>\n",
       "    <tr>\n",
       "      <th>4</th>\n",
       "      <td>0.0</td>\n",
       "      <td>0.0</td>\n",
       "      <td>0.0</td>\n",
       "      <td>0.0</td>\n",
       "      <td>0.0</td>\n",
       "      <td>0.0</td>\n",
       "      <td>0.0</td>\n",
       "      <td>0.0</td>\n",
       "      <td>0.0</td>\n",
       "      <td>0.0</td>\n",
       "      <td>...</td>\n",
       "      <td>0.0</td>\n",
       "      <td>0.0</td>\n",
       "      <td>0.0</td>\n",
       "      <td>0.0</td>\n",
       "      <td>0.0</td>\n",
       "      <td>0.0</td>\n",
       "      <td>0.0</td>\n",
       "      <td>0.0</td>\n",
       "      <td>0.0</td>\n",
       "      <td>0.0</td>\n",
       "    </tr>\n",
       "    <tr>\n",
       "      <th>...</th>\n",
       "      <td>...</td>\n",
       "      <td>...</td>\n",
       "      <td>...</td>\n",
       "      <td>...</td>\n",
       "      <td>...</td>\n",
       "      <td>...</td>\n",
       "      <td>...</td>\n",
       "      <td>...</td>\n",
       "      <td>...</td>\n",
       "      <td>...</td>\n",
       "      <td>...</td>\n",
       "      <td>...</td>\n",
       "      <td>...</td>\n",
       "      <td>...</td>\n",
       "      <td>...</td>\n",
       "      <td>...</td>\n",
       "      <td>...</td>\n",
       "      <td>...</td>\n",
       "      <td>...</td>\n",
       "      <td>...</td>\n",
       "      <td>...</td>\n",
       "    </tr>\n",
       "    <tr>\n",
       "      <th>14995</th>\n",
       "      <td>0.0</td>\n",
       "      <td>0.0</td>\n",
       "      <td>0.0</td>\n",
       "      <td>0.0</td>\n",
       "      <td>0.0</td>\n",
       "      <td>0.0</td>\n",
       "      <td>0.0</td>\n",
       "      <td>0.0</td>\n",
       "      <td>0.0</td>\n",
       "      <td>0.0</td>\n",
       "      <td>...</td>\n",
       "      <td>0.0</td>\n",
       "      <td>0.0</td>\n",
       "      <td>0.0</td>\n",
       "      <td>0.0</td>\n",
       "      <td>0.0</td>\n",
       "      <td>0.0</td>\n",
       "      <td>0.0</td>\n",
       "      <td>0.0</td>\n",
       "      <td>0.0</td>\n",
       "      <td>0.0</td>\n",
       "    </tr>\n",
       "    <tr>\n",
       "      <th>14996</th>\n",
       "      <td>0.0</td>\n",
       "      <td>0.0</td>\n",
       "      <td>0.0</td>\n",
       "      <td>0.0</td>\n",
       "      <td>0.0</td>\n",
       "      <td>0.0</td>\n",
       "      <td>0.0</td>\n",
       "      <td>0.0</td>\n",
       "      <td>0.0</td>\n",
       "      <td>0.0</td>\n",
       "      <td>...</td>\n",
       "      <td>0.0</td>\n",
       "      <td>0.0</td>\n",
       "      <td>0.0</td>\n",
       "      <td>0.0</td>\n",
       "      <td>0.0</td>\n",
       "      <td>0.0</td>\n",
       "      <td>0.0</td>\n",
       "      <td>0.0</td>\n",
       "      <td>0.0</td>\n",
       "      <td>0.0</td>\n",
       "    </tr>\n",
       "    <tr>\n",
       "      <th>14997</th>\n",
       "      <td>0.0</td>\n",
       "      <td>0.0</td>\n",
       "      <td>0.0</td>\n",
       "      <td>0.0</td>\n",
       "      <td>0.0</td>\n",
       "      <td>0.0</td>\n",
       "      <td>0.0</td>\n",
       "      <td>0.0</td>\n",
       "      <td>0.0</td>\n",
       "      <td>0.0</td>\n",
       "      <td>...</td>\n",
       "      <td>0.0</td>\n",
       "      <td>0.0</td>\n",
       "      <td>0.0</td>\n",
       "      <td>0.0</td>\n",
       "      <td>0.0</td>\n",
       "      <td>0.0</td>\n",
       "      <td>0.0</td>\n",
       "      <td>0.0</td>\n",
       "      <td>0.0</td>\n",
       "      <td>0.0</td>\n",
       "    </tr>\n",
       "    <tr>\n",
       "      <th>14998</th>\n",
       "      <td>0.0</td>\n",
       "      <td>0.0</td>\n",
       "      <td>0.0</td>\n",
       "      <td>0.0</td>\n",
       "      <td>0.0</td>\n",
       "      <td>0.0</td>\n",
       "      <td>0.0</td>\n",
       "      <td>0.0</td>\n",
       "      <td>0.0</td>\n",
       "      <td>0.0</td>\n",
       "      <td>...</td>\n",
       "      <td>0.0</td>\n",
       "      <td>0.0</td>\n",
       "      <td>0.0</td>\n",
       "      <td>0.0</td>\n",
       "      <td>0.0</td>\n",
       "      <td>0.0</td>\n",
       "      <td>0.0</td>\n",
       "      <td>0.0</td>\n",
       "      <td>0.0</td>\n",
       "      <td>0.0</td>\n",
       "    </tr>\n",
       "    <tr>\n",
       "      <th>14999</th>\n",
       "      <td>0.0</td>\n",
       "      <td>0.0</td>\n",
       "      <td>0.0</td>\n",
       "      <td>0.0</td>\n",
       "      <td>0.0</td>\n",
       "      <td>0.0</td>\n",
       "      <td>0.0</td>\n",
       "      <td>0.0</td>\n",
       "      <td>0.0</td>\n",
       "      <td>0.0</td>\n",
       "      <td>...</td>\n",
       "      <td>0.0</td>\n",
       "      <td>0.0</td>\n",
       "      <td>0.0</td>\n",
       "      <td>0.0</td>\n",
       "      <td>0.0</td>\n",
       "      <td>0.0</td>\n",
       "      <td>0.0</td>\n",
       "      <td>0.0</td>\n",
       "      <td>0.0</td>\n",
       "      <td>0.0</td>\n",
       "    </tr>\n",
       "  </tbody>\n",
       "</table>\n",
       "<p>15000 rows × 5843 columns</p>\n",
       "</div>"
      ],
      "text/plain": [
       "       abandon  abey  abil  aboard  aborigin  abort  abridg  abroad  absolut  \\\n",
       "0          0.0   0.0   0.0     0.0       0.0    0.0     0.0     0.0      0.0   \n",
       "1          0.0   0.0   0.0     0.0       0.0    0.0     0.0     0.0      0.0   \n",
       "2          0.0   0.0   0.0     0.0       0.0    0.0     0.0     0.0      0.0   \n",
       "3          0.0   0.0   0.0     0.0       0.0    0.0     0.0     0.0      0.0   \n",
       "4          0.0   0.0   0.0     0.0       0.0    0.0     0.0     0.0      0.0   \n",
       "...        ...   ...   ...     ...       ...    ...     ...     ...      ...   \n",
       "14995      0.0   0.0   0.0     0.0       0.0    0.0     0.0     0.0      0.0   \n",
       "14996      0.0   0.0   0.0     0.0       0.0    0.0     0.0     0.0      0.0   \n",
       "14997      0.0   0.0   0.0     0.0       0.0    0.0     0.0     0.0      0.0   \n",
       "14998      0.0   0.0   0.0     0.0       0.0    0.0     0.0     0.0      0.0   \n",
       "14999      0.0   0.0   0.0     0.0       0.0    0.0     0.0     0.0      0.0   \n",
       "\n",
       "       abstract  ...  zinc  zine  zing  zipper  zodiac  zombi  zone  zoo  \\\n",
       "0           0.0  ...   0.0   0.0   0.0     0.0     0.0    0.0   0.0  0.0   \n",
       "1           0.0  ...   0.0   0.0   0.0     0.0     0.0    0.0   0.0  0.0   \n",
       "2           0.0  ...   0.0   0.0   0.0     0.0     0.0    0.0   0.0  0.0   \n",
       "3           0.0  ...   0.0   0.0   0.0     0.0     0.0    0.0   0.0  0.0   \n",
       "4           0.0  ...   0.0   0.0   0.0     0.0     0.0    0.0   0.0  0.0   \n",
       "...         ...  ...   ...   ...   ...     ...     ...    ...   ...  ...   \n",
       "14995       0.0  ...   0.0   0.0   0.0     0.0     0.0    0.0   0.0  0.0   \n",
       "14996       0.0  ...   0.0   0.0   0.0     0.0     0.0    0.0   0.0  0.0   \n",
       "14997       0.0  ...   0.0   0.0   0.0     0.0     0.0    0.0   0.0  0.0   \n",
       "14998       0.0  ...   0.0   0.0   0.0     0.0     0.0    0.0   0.0  0.0   \n",
       "14999       0.0  ...   0.0   0.0   0.0     0.0     0.0    0.0   0.0  0.0   \n",
       "\n",
       "       zoom  zooplankton  \n",
       "0       0.0          0.0  \n",
       "1       0.0          0.0  \n",
       "2       0.0          0.0  \n",
       "3       0.0          0.0  \n",
       "4       0.0          0.0  \n",
       "...     ...          ...  \n",
       "14995   0.0          0.0  \n",
       "14996   0.0          0.0  \n",
       "14997   0.0          0.0  \n",
       "14998   0.0          0.0  \n",
       "14999   0.0          0.0  \n",
       "\n",
       "[15000 rows x 5843 columns]"
      ]
     },
     "execution_count": 185,
     "metadata": {},
     "output_type": "execute_result"
    }
   ],
   "source": [
    "doc_vec = vectorizer.fit_transform(cleaned_title)\n",
    "dtm = pd.DataFrame(doc_vec.toarray(), columns = vectorizer.get_feature_names())\n",
    "dtm"
   ]
  },
  {
   "cell_type": "markdown",
   "id": "22d7047e",
   "metadata": {},
   "source": [
    "**------------------------2.2 Reduce Word Count - Ideas:------------------------**\n",
    "\n",
    "1. Method 1 - Histogram (Selected this method for the homework. See the code in the following section)\n",
    "    * Created a Histogram\n",
    "    * Applied Box-Cox transformation\n",
    "    * Tried to filtered out words that have frequency of beyond x standard deviation. This removed a lot of noise words. \n",
    "        * Tested 3 standard deviation, 2, and 1. Note that the the graph is heavily skewed right which means variance is highly sensitive. So I applied this boundary cutoff on the Box-Cox transformation. \n",
    "        \n",
    "        \n",
    "\n",
    "2. Method 2 - Testing SVD (***Appendix Section at the end.***)\n",
    "    * Did not end up using for the model because I do not totally understand the concepts in SVD, such as the components, eigenvalues, eigenvectors, or Left and Right Covariance Matrix Transformations. \n",
    "\n",
    "\n",
    "3. Method 3 - Synonyms (***Appendix Section at the end.***) \n",
    "    * Reduced number of words. \n",
    "    * problem: lost of semantics in the words because of poor implementation on my end. \n",
    "    * used `from nltk.corpus import wordnet` follow by `word = sorted(wordnet.synsets(word)[0].lemmas())[0].name()`\n",
    "\n",
    "\n",
    "4. Method 4 - Bigram (***Appendix Section at the end.***)\n",
    "    * `vectorizer = TfidfVectorizer( stop_words='english', ngram_range=(2,2))`\n",
    "    * problem: introduced more words. Believe this might increase accuracy of the model though. "
   ]
  },
  {
   "cell_type": "markdown",
   "id": "666f6c3b",
   "metadata": {},
   "source": [
    "**------------------------2.2 Reduced Word Count - Code:------------------------**"
   ]
  },
  {
   "cell_type": "markdown",
   "id": "ff44ca93",
   "metadata": {},
   "source": [
    "### Method 1 - Histogram"
   ]
  },
  {
   "cell_type": "markdown",
   "id": "1f279397",
   "metadata": {},
   "source": [
    "\n",
    "1. Get frequency for each word\n",
    "2. Create Histogram\n",
    "3. Set cutoffs for words that has no predictive power\n",
    "    * too frequent \n",
    "    * not frequent enough"
   ]
  },
  {
   "cell_type": "markdown",
   "id": "eebda0fe",
   "metadata": {},
   "source": [
    "***Step1: Get Word Freq***"
   ]
  },
  {
   "cell_type": "code",
   "execution_count": 186,
   "id": "dc38eddb",
   "metadata": {},
   "outputs": [],
   "source": [
    "import collections"
   ]
  },
  {
   "cell_type": "code",
   "execution_count": 187,
   "id": "5763baf9",
   "metadata": {},
   "outputs": [],
   "source": [
    "def get_word_freq(data):\n",
    "    word_freq= {}\n",
    "    for col in data.columns:\n",
    "        freqDict = collections.Counter(data[col])\n",
    "        word_freq[col] = len(cleaned_title)-freqDict.get(0.0)\n",
    "    return word_freq"
   ]
  },
  {
   "cell_type": "code",
   "execution_count": 188,
   "id": "c1e58b5d",
   "metadata": {},
   "outputs": [
    {
     "name": "stdout",
     "output_type": "stream",
     "text": [
      "CPU times: user 42.9 s, sys: 1.26 s, total: 44.2 s\n",
      "Wall time: 47.9 s\n"
     ]
    }
   ],
   "source": [
    "\n",
    "%time freq_dtm = get_word_freq(dtm)\n"
   ]
  },
  {
   "cell_type": "code",
   "execution_count": 189,
   "id": "7a62bb61",
   "metadata": {},
   "outputs": [
    {
     "data": {
      "text/plain": [
       "5843"
      ]
     },
     "execution_count": 189,
     "metadata": {},
     "output_type": "execute_result"
    }
   ],
   "source": [
    "len(freq_dtm)"
   ]
  },
  {
   "cell_type": "markdown",
   "id": "cf154d0c",
   "metadata": {},
   "source": [
    "***Step2: Histogram***"
   ]
  },
  {
   "cell_type": "code",
   "execution_count": 190,
   "id": "8078b6a9",
   "metadata": {},
   "outputs": [],
   "source": [
    "import seaborn as sns\n",
    "import matplotlib.pyplot as plt"
   ]
  },
  {
   "cell_type": "code",
   "execution_count": 191,
   "id": "e25dde37",
   "metadata": {},
   "outputs": [
    {
     "name": "stderr",
     "output_type": "stream",
     "text": [
      "/Library/Frameworks/Python.framework/Versions/3.7/lib/python3.7/site-packages/seaborn/distributions.py:2619: FutureWarning: `distplot` is a deprecated function and will be removed in a future version. Please adapt your code to use either `displot` (a figure-level function with similar flexibility) or `histplot` (an axes-level function for histograms).\n",
      "  warnings.warn(msg, FutureWarning)\n"
     ]
    },
    {
     "data": {
      "text/plain": [
       "[Text(0.5, 1.0, 'Word Freq')]"
      ]
     },
     "execution_count": 191,
     "metadata": {},
     "output_type": "execute_result"
    },
    {
     "data": {
      "image/png": "[encoded data removed]",
      "text/plain": [
       "<Figure size 432x288 with 1 Axes>"
      ]
     },
     "metadata": {
      "needs_background": "light"
     },
     "output_type": "display_data"
    }
   ],
   "source": [
    "sns.distplot(list(freq_dtm.values())).set(title ='Word Freq')"
   ]
  },
  {
   "cell_type": "markdown",
   "id": "229125ea",
   "metadata": {},
   "source": [
    "**Hight concentration around 0. Super skewed right. Remove words that have count < 15 which is 1% of the documents**"
   ]
  },
  {
   "cell_type": "code",
   "execution_count": 192,
   "id": "826fdcba",
   "metadata": {},
   "outputs": [],
   "source": [
    "bound = 0.01 * 1500"
   ]
  },
  {
   "cell_type": "code",
   "execution_count": 193,
   "id": "cbcefc62",
   "metadata": {},
   "outputs": [
    {
     "data": {
      "text/plain": [
       "5843"
      ]
     },
     "execution_count": 193,
     "metadata": {},
     "output_type": "execute_result"
    }
   ],
   "source": [
    "len(freq_dtm)"
   ]
  },
  {
   "cell_type": "code",
   "execution_count": 194,
   "id": "f9dbad9f",
   "metadata": {},
   "outputs": [
    {
     "data": {
      "text/plain": [
       "['access',\n",
       " 'accessori',\n",
       " 'act',\n",
       " 'action',\n",
       " 'activ',\n",
       " 'adapt',\n",
       " 'advanc',\n",
       " 'adventur',\n",
       " 'afford',\n",
       " 'age']"
      ]
     },
     "execution_count": 194,
     "metadata": {},
     "output_type": "execute_result"
    }
   ],
   "source": [
    "# noise\n",
    "noise_words_onepercent= {key: val for key, val in freq_dtm.items() if val < bound}\n",
    "\n",
    "# not noise\n",
    "freq_dtm= {key: val for key, val in freq_dtm.items() if val >= bound}\n",
    "\n",
    "list(freq_dtm)[:10]"
   ]
  },
  {
   "cell_type": "code",
   "execution_count": 195,
   "id": "cbaca0e1",
   "metadata": {},
   "outputs": [
    {
     "data": {
      "text/plain": [
       "['abandon',\n",
       " 'abey',\n",
       " 'abil',\n",
       " 'aboard',\n",
       " 'aborigin',\n",
       " 'abort',\n",
       " 'abridg',\n",
       " 'abroad',\n",
       " 'absolut',\n",
       " 'abstract']"
      ]
     },
     "execution_count": 195,
     "metadata": {},
     "output_type": "execute_result"
    }
   ],
   "source": [
    "list(noise_words_onepercent)[:10]"
   ]
  },
  {
   "cell_type": "code",
   "execution_count": 196,
   "id": "3fb9f172",
   "metadata": {},
   "outputs": [],
   "source": [
    "from scipy import stats\n",
    "import numpy as np"
   ]
  },
  {
   "cell_type": "code",
   "execution_count": 197,
   "id": "c32f9521",
   "metadata": {},
   "outputs": [],
   "source": [
    "word_freq = list(freq_dtm.values())\n",
    "transformed_wd_freq = stats.boxcox(word_freq)"
   ]
  },
  {
   "cell_type": "code",
   "execution_count": 198,
   "id": "6279ab63",
   "metadata": {},
   "outputs": [],
   "source": [
    "upperbound = np.mean(transformed_wd_freq[0]) + np.std(transformed_wd_freq[0])\n",
    "lowerbound = np.mean(transformed_wd_freq[0]) - np.std(transformed_wd_freq[0])"
   ]
  },
  {
   "cell_type": "code",
   "execution_count": 199,
   "id": "478e241a",
   "metadata": {},
   "outputs": [
    {
     "name": "stderr",
     "output_type": "stream",
     "text": [
      "/Library/Frameworks/Python.framework/Versions/3.7/lib/python3.7/site-packages/seaborn/distributions.py:2619: FutureWarning: `distplot` is a deprecated function and will be removed in a future version. Please adapt your code to use either `displot` (a figure-level function with similar flexibility) or `histplot` (an axes-level function for histograms).\n",
      "  warnings.warn(msg, FutureWarning)\n"
     ]
    },
    {
     "data": {
      "text/plain": [
       "<matplotlib.lines.Line2D at 0x10e82ef98>"
      ]
     },
     "execution_count": 199,
     "metadata": {},
     "output_type": "execute_result"
    },
    {
     "data": {
      "image/png": "[encoded data removed]",
      "text/plain": [
       "<Figure size 432x288 with 1 Axes>"
      ]
     },
     "metadata": {
      "needs_background": "light"
     },
     "output_type": "display_data"
    }
   ],
   "source": [
    "\n",
    "ax = sns.distplot(list(transformed_wd_freq[0]))\n",
    "ax.set(title ='Word Freq')\n",
    "ax.set_xlabel('Box_Cox(Word Freq)')\n",
    "plt.axvline(x = upperbound, color = 'r', linestyle = '--')\n",
    "plt.axvline(x = lowerbound, color = 'r', linestyle = '--')"
   ]
  },
  {
   "cell_type": "code",
   "execution_count": 200,
   "id": "d39003cc",
   "metadata": {},
   "outputs": [
    {
     "data": {
      "text/plain": [
       "704"
      ]
     },
     "execution_count": 200,
     "metadata": {},
     "output_type": "execute_result"
    }
   ],
   "source": [
    "len(transformed_wd_freq[0])"
   ]
  },
  {
   "cell_type": "code",
   "execution_count": 201,
   "id": "f7ed9d0e",
   "metadata": {},
   "outputs": [
    {
     "name": "stdout",
     "output_type": "stream",
     "text": [
      "upperbound = 1.2839896814419027\n"
     ]
    }
   ],
   "source": [
    "print('upperbound = '+ str(upperbound))"
   ]
  },
  {
   "cell_type": "code",
   "execution_count": 202,
   "id": "59f07a42",
   "metadata": {},
   "outputs": [
    {
     "name": "stdout",
     "output_type": "stream",
     "text": [
      "lowerbound = 1.1945974126370256\n"
     ]
    }
   ],
   "source": [
    "print('lowerbound = '+ str(lowerbound))"
   ]
  },
  {
   "cell_type": "markdown",
   "id": "1d03eff2",
   "metadata": {},
   "source": [
    "Looking at the graph of the distribution. I will be removing words that are beyond 2 standard deviation - 95% of the data is within this boundary. \n",
    "\n",
    "Note that this is a DENSITY PLOT not a PDF.\n",
    " \n",
    "The difference is the probability density is the probability per unit on the x-axis.  y-axis on a density plot as a value only for relative comparisons between different categories."
   ]
  },
  {
   "cell_type": "markdown",
   "id": "94f02794",
   "metadata": {},
   "source": [
    "***Step 3: Finding the words to remove***\n",
    "\n",
    "1. create a new dictionary - for each word (key), the value = boxcox(freq) value instead\n",
    "2. identify significant_words\n",
    "3. identify noise_words (add to text cleaning - prior to creating the dtm)\n"
   ]
  },
  {
   "cell_type": "code",
   "execution_count": 203,
   "id": "5e64cc23",
   "metadata": {},
   "outputs": [],
   "source": [
    "transformed_word_dict = dict(zip(freq_dtm.keys(), transformed_wd_freq[0]))\n",
    "#print(len(transformed_word_dict))\n",
    "\n",
    "significant_words = {key:val for key, val in transformed_word_dict.items() if (val >= lowerbound)& (val <= upperbound)}\n",
    "noise_words = {key:val for key, val in transformed_word_dict.items() if (val > upperbound) | (val < lowerbound)}\n"
   ]
  },
  {
   "cell_type": "code",
   "execution_count": 204,
   "id": "0d57db33",
   "metadata": {},
   "outputs": [
    {
     "data": {
      "text/plain": [
       "True"
      ]
     },
     "execution_count": 204,
     "metadata": {},
     "output_type": "execute_result"
    }
   ],
   "source": [
    "# checks\n",
    "len(transformed_word_dict) == len(significant_words) + len(noise_words)"
   ]
  },
  {
   "cell_type": "code",
   "execution_count": 205,
   "id": "e15fc522",
   "metadata": {},
   "outputs": [
    {
     "data": {
      "text/plain": [
       "293"
      ]
     },
     "execution_count": 205,
     "metadata": {},
     "output_type": "execute_result"
    }
   ],
   "source": [
    "len(noise_words)"
   ]
  },
  {
   "cell_type": "code",
   "execution_count": 206,
   "id": "82f19a9e",
   "metadata": {},
   "outputs": [
    {
     "name": "stdout",
     "output_type": "stream",
     "text": [
      "Examine list of noise words\n"
     ]
    },
    {
     "data": {
      "text/plain": [
       "[('act', 1.1864229439352878),\n",
       " ('adventur', 1.3081490795053041),\n",
       " ('air', 1.2985585270452595),\n",
       " ('album', 1.3266798253399097),\n",
       " ('amp', 1.1702643971245135),\n",
       " ('ancient', 1.1933193942187803),\n",
       " ('angel', 1.1702643971245135),\n",
       " ('anniversari', 1.1787828334641481),\n",
       " ('app', 1.3240083681252452),\n",
       " ('apparel', 1.1864229439352878)]"
      ]
     },
     "execution_count": 206,
     "metadata": {},
     "output_type": "execute_result"
    }
   ],
   "source": [
    "print('Examine list of noise words')\n",
    "list(noise_words.items())[:10]"
   ]
  },
  {
   "cell_type": "code",
   "execution_count": 207,
   "id": "9922cf55",
   "metadata": {},
   "outputs": [
    {
     "name": "stdout",
     "output_type": "stream",
     "text": [
      "Examine list of significant words\n"
     ]
    },
    {
     "data": {
      "text/plain": [
       "[('access', 1.2435785150656593),\n",
       " ('accessori', 1.1995801572489875),\n",
       " ('action', 1.2732597470156126),\n",
       " ('activ', 1.2347051689659025),\n",
       " ('adapt', 1.240798395596487),\n",
       " ('advanc', 1.2378463982570287),\n",
       " ('afford', 1.2732597470156126),\n",
       " ('age', 1.2153496794274519),\n",
       " ('aid', 1.2347051689659025),\n",
       " ('android', 1.2313548700972725)]"
      ]
     },
     "execution_count": 207,
     "metadata": {},
     "output_type": "execute_result"
    }
   ],
   "source": [
    "print('Examine list of significant words')\n",
    "list(significant_words.items())[:10]"
   ]
  },
  {
   "cell_type": "markdown",
   "id": "e146aa4d",
   "metadata": {},
   "source": [
    "***Step 4: Apply noise word logic to text cleaning***"
   ]
  },
  {
   "cell_type": "code",
   "execution_count": 208,
   "id": "38bc7ff1",
   "metadata": {},
   "outputs": [],
   "source": [
    "def remove_noise_words(titles_list, noise_words_list):\n",
    "    cleaned_titles = []\n",
    "    for title in titles_list:\n",
    "        for word in title.split():\n",
    "            build_back_title = []\n",
    "            if word in noise_words_list:\n",
    "                word = ''\n",
    "            build_back_title.append(word)\n",
    "        title = ' '.join(build_back_title)\n",
    "        cleaned_titles.append(title)\n",
    "    print('# of Titles = '+str(len(cleaned_titles)))\n",
    "    return cleaned_titles"
   ]
  },
  {
   "cell_type": "code",
   "execution_count": 209,
   "id": "ca78b01d",
   "metadata": {},
   "outputs": [],
   "source": [
    "# adding two list of noise words\n",
    "noise_wds = list(noise_words_onepercent.keys())\n",
    "noise_wds.append(list(noise_words.keys()))\n",
    "#noise_wds"
   ]
  },
  {
   "cell_type": "code",
   "execution_count": 210,
   "id": "bd6d0e38",
   "metadata": {},
   "outputs": [
    {
     "name": "stdout",
     "output_type": "stream",
     "text": [
      "# of Titles = 15000\n",
      "CPU times: user 6.44 s, sys: 110 ms, total: 6.55 s\n",
      "Wall time: 8.43 s\n"
     ]
    }
   ],
   "source": [
    "# cleaned_title -  preprocessed list of titles extracted from source. \n",
    "\n",
    "%time no_noise_titles = remove_noise_words(cleaned_title, noise_wds)"
   ]
  },
  {
   "cell_type": "code",
   "execution_count": 211,
   "id": "0e57d197",
   "metadata": {},
   "outputs": [
    {
     "data": {
      "text/plain": [
       "True"
      ]
     },
     "execution_count": 211,
     "metadata": {},
     "output_type": "execute_result"
    }
   ],
   "source": [
    "# Checks\n",
    "len(no_noise_titles) == len(cleaned_title)"
   ]
  },
  {
   "cell_type": "markdown",
   "id": "b9ae544c",
   "metadata": {},
   "source": [
    "***Step 5: Creating New DTM***"
   ]
  },
  {
   "cell_type": "code",
   "execution_count": 212,
   "id": "03f4cce6",
   "metadata": {},
   "outputs": [
    {
     "name": "stderr",
     "output_type": "stream",
     "text": [
      "/Library/Frameworks/Python.framework/Versions/3.7/lib/python3.7/site-packages/sklearn/utils/deprecation.py:87: FutureWarning: Function get_feature_names is deprecated; get_feature_names is deprecated in 1.0 and will be removed in 1.2. Please use get_feature_names_out instead.\n",
      "  warnings.warn(msg, category=FutureWarning)\n"
     ]
    },
    {
     "data": {
      "text/html": [
       "<div>\n",
       "<style scoped>\n",
       "    .dataframe tbody tr th:only-of-type {\n",
       "        vertical-align: middle;\n",
       "    }\n",
       "\n",
       "    .dataframe tbody tr th {\n",
       "        vertical-align: top;\n",
       "    }\n",
       "\n",
       "    .dataframe thead th {\n",
       "        text-align: right;\n",
       "    }\n",
       "</style>\n",
       "<table border=\"1\" class=\"dataframe\">\n",
       "  <thead>\n",
       "    <tr style=\"text-align: right;\">\n",
       "      <th></th>\n",
       "      <th>access</th>\n",
       "      <th>accessori</th>\n",
       "      <th>act</th>\n",
       "      <th>action</th>\n",
       "      <th>activ</th>\n",
       "      <th>adapt</th>\n",
       "      <th>advanc</th>\n",
       "      <th>adventur</th>\n",
       "      <th>afford</th>\n",
       "      <th>age</th>\n",
       "      <th>...</th>\n",
       "      <th>within</th>\n",
       "      <th>women</th>\n",
       "      <th>wooden</th>\n",
       "      <th>work</th>\n",
       "      <th>world</th>\n",
       "      <th>write</th>\n",
       "      <th>year</th>\n",
       "      <th>yoga</th>\n",
       "      <th>youth</th>\n",
       "      <th>zero</th>\n",
       "    </tr>\n",
       "  </thead>\n",
       "  <tbody>\n",
       "    <tr>\n",
       "      <th>0</th>\n",
       "      <td>0.0</td>\n",
       "      <td>0.0</td>\n",
       "      <td>0.0</td>\n",
       "      <td>0.0</td>\n",
       "      <td>0.0</td>\n",
       "      <td>0.0</td>\n",
       "      <td>0.0</td>\n",
       "      <td>0.0</td>\n",
       "      <td>0.0</td>\n",
       "      <td>0.0</td>\n",
       "      <td>...</td>\n",
       "      <td>0.0</td>\n",
       "      <td>0.0</td>\n",
       "      <td>0.0</td>\n",
       "      <td>0.0</td>\n",
       "      <td>0.0</td>\n",
       "      <td>0.0</td>\n",
       "      <td>0.0</td>\n",
       "      <td>0.0</td>\n",
       "      <td>0.0</td>\n",
       "      <td>0.0</td>\n",
       "    </tr>\n",
       "    <tr>\n",
       "      <th>1</th>\n",
       "      <td>0.0</td>\n",
       "      <td>0.0</td>\n",
       "      <td>0.0</td>\n",
       "      <td>0.0</td>\n",
       "      <td>0.0</td>\n",
       "      <td>0.0</td>\n",
       "      <td>0.0</td>\n",
       "      <td>0.0</td>\n",
       "      <td>0.0</td>\n",
       "      <td>0.0</td>\n",
       "      <td>...</td>\n",
       "      <td>0.0</td>\n",
       "      <td>0.0</td>\n",
       "      <td>0.0</td>\n",
       "      <td>0.0</td>\n",
       "      <td>0.0</td>\n",
       "      <td>0.0</td>\n",
       "      <td>0.0</td>\n",
       "      <td>0.0</td>\n",
       "      <td>0.0</td>\n",
       "      <td>0.0</td>\n",
       "    </tr>\n",
       "    <tr>\n",
       "      <th>2</th>\n",
       "      <td>0.0</td>\n",
       "      <td>0.0</td>\n",
       "      <td>0.0</td>\n",
       "      <td>0.0</td>\n",
       "      <td>0.0</td>\n",
       "      <td>0.0</td>\n",
       "      <td>0.0</td>\n",
       "      <td>0.0</td>\n",
       "      <td>0.0</td>\n",
       "      <td>0.0</td>\n",
       "      <td>...</td>\n",
       "      <td>0.0</td>\n",
       "      <td>0.0</td>\n",
       "      <td>0.0</td>\n",
       "      <td>0.0</td>\n",
       "      <td>0.0</td>\n",
       "      <td>0.0</td>\n",
       "      <td>0.0</td>\n",
       "      <td>0.0</td>\n",
       "      <td>0.0</td>\n",
       "      <td>0.0</td>\n",
       "    </tr>\n",
       "    <tr>\n",
       "      <th>3</th>\n",
       "      <td>0.0</td>\n",
       "      <td>0.0</td>\n",
       "      <td>0.0</td>\n",
       "      <td>0.0</td>\n",
       "      <td>0.0</td>\n",
       "      <td>0.0</td>\n",
       "      <td>0.0</td>\n",
       "      <td>0.0</td>\n",
       "      <td>0.0</td>\n",
       "      <td>0.0</td>\n",
       "      <td>...</td>\n",
       "      <td>0.0</td>\n",
       "      <td>0.0</td>\n",
       "      <td>0.0</td>\n",
       "      <td>0.0</td>\n",
       "      <td>0.0</td>\n",
       "      <td>0.0</td>\n",
       "      <td>0.0</td>\n",
       "      <td>0.0</td>\n",
       "      <td>0.0</td>\n",
       "      <td>0.0</td>\n",
       "    </tr>\n",
       "    <tr>\n",
       "      <th>4</th>\n",
       "      <td>0.0</td>\n",
       "      <td>0.0</td>\n",
       "      <td>0.0</td>\n",
       "      <td>0.0</td>\n",
       "      <td>0.0</td>\n",
       "      <td>0.0</td>\n",
       "      <td>0.0</td>\n",
       "      <td>0.0</td>\n",
       "      <td>0.0</td>\n",
       "      <td>0.0</td>\n",
       "      <td>...</td>\n",
       "      <td>0.0</td>\n",
       "      <td>0.0</td>\n",
       "      <td>0.0</td>\n",
       "      <td>0.0</td>\n",
       "      <td>0.0</td>\n",
       "      <td>0.0</td>\n",
       "      <td>0.0</td>\n",
       "      <td>0.0</td>\n",
       "      <td>0.0</td>\n",
       "      <td>0.0</td>\n",
       "    </tr>\n",
       "    <tr>\n",
       "      <th>...</th>\n",
       "      <td>...</td>\n",
       "      <td>...</td>\n",
       "      <td>...</td>\n",
       "      <td>...</td>\n",
       "      <td>...</td>\n",
       "      <td>...</td>\n",
       "      <td>...</td>\n",
       "      <td>...</td>\n",
       "      <td>...</td>\n",
       "      <td>...</td>\n",
       "      <td>...</td>\n",
       "      <td>...</td>\n",
       "      <td>...</td>\n",
       "      <td>...</td>\n",
       "      <td>...</td>\n",
       "      <td>...</td>\n",
       "      <td>...</td>\n",
       "      <td>...</td>\n",
       "      <td>...</td>\n",
       "      <td>...</td>\n",
       "      <td>...</td>\n",
       "    </tr>\n",
       "    <tr>\n",
       "      <th>14995</th>\n",
       "      <td>0.0</td>\n",
       "      <td>0.0</td>\n",
       "      <td>0.0</td>\n",
       "      <td>0.0</td>\n",
       "      <td>0.0</td>\n",
       "      <td>0.0</td>\n",
       "      <td>0.0</td>\n",
       "      <td>0.0</td>\n",
       "      <td>0.0</td>\n",
       "      <td>0.0</td>\n",
       "      <td>...</td>\n",
       "      <td>0.0</td>\n",
       "      <td>0.0</td>\n",
       "      <td>0.0</td>\n",
       "      <td>0.0</td>\n",
       "      <td>0.0</td>\n",
       "      <td>0.0</td>\n",
       "      <td>0.0</td>\n",
       "      <td>0.0</td>\n",
       "      <td>0.0</td>\n",
       "      <td>0.0</td>\n",
       "    </tr>\n",
       "    <tr>\n",
       "      <th>14996</th>\n",
       "      <td>0.0</td>\n",
       "      <td>0.0</td>\n",
       "      <td>0.0</td>\n",
       "      <td>0.0</td>\n",
       "      <td>0.0</td>\n",
       "      <td>0.0</td>\n",
       "      <td>0.0</td>\n",
       "      <td>0.0</td>\n",
       "      <td>0.0</td>\n",
       "      <td>0.0</td>\n",
       "      <td>...</td>\n",
       "      <td>0.0</td>\n",
       "      <td>0.0</td>\n",
       "      <td>0.0</td>\n",
       "      <td>0.0</td>\n",
       "      <td>0.0</td>\n",
       "      <td>0.0</td>\n",
       "      <td>0.0</td>\n",
       "      <td>0.0</td>\n",
       "      <td>0.0</td>\n",
       "      <td>0.0</td>\n",
       "    </tr>\n",
       "    <tr>\n",
       "      <th>14997</th>\n",
       "      <td>0.0</td>\n",
       "      <td>0.0</td>\n",
       "      <td>0.0</td>\n",
       "      <td>0.0</td>\n",
       "      <td>0.0</td>\n",
       "      <td>0.0</td>\n",
       "      <td>0.0</td>\n",
       "      <td>0.0</td>\n",
       "      <td>0.0</td>\n",
       "      <td>0.0</td>\n",
       "      <td>...</td>\n",
       "      <td>0.0</td>\n",
       "      <td>0.0</td>\n",
       "      <td>0.0</td>\n",
       "      <td>0.0</td>\n",
       "      <td>0.0</td>\n",
       "      <td>0.0</td>\n",
       "      <td>0.0</td>\n",
       "      <td>0.0</td>\n",
       "      <td>0.0</td>\n",
       "      <td>0.0</td>\n",
       "    </tr>\n",
       "    <tr>\n",
       "      <th>14998</th>\n",
       "      <td>0.0</td>\n",
       "      <td>0.0</td>\n",
       "      <td>0.0</td>\n",
       "      <td>0.0</td>\n",
       "      <td>0.0</td>\n",
       "      <td>0.0</td>\n",
       "      <td>0.0</td>\n",
       "      <td>0.0</td>\n",
       "      <td>0.0</td>\n",
       "      <td>0.0</td>\n",
       "      <td>...</td>\n",
       "      <td>0.0</td>\n",
       "      <td>0.0</td>\n",
       "      <td>0.0</td>\n",
       "      <td>0.0</td>\n",
       "      <td>0.0</td>\n",
       "      <td>0.0</td>\n",
       "      <td>0.0</td>\n",
       "      <td>0.0</td>\n",
       "      <td>0.0</td>\n",
       "      <td>0.0</td>\n",
       "    </tr>\n",
       "    <tr>\n",
       "      <th>14999</th>\n",
       "      <td>0.0</td>\n",
       "      <td>0.0</td>\n",
       "      <td>0.0</td>\n",
       "      <td>0.0</td>\n",
       "      <td>0.0</td>\n",
       "      <td>0.0</td>\n",
       "      <td>0.0</td>\n",
       "      <td>0.0</td>\n",
       "      <td>0.0</td>\n",
       "      <td>0.0</td>\n",
       "      <td>...</td>\n",
       "      <td>0.0</td>\n",
       "      <td>0.0</td>\n",
       "      <td>0.0</td>\n",
       "      <td>0.0</td>\n",
       "      <td>0.0</td>\n",
       "      <td>0.0</td>\n",
       "      <td>0.0</td>\n",
       "      <td>0.0</td>\n",
       "      <td>0.0</td>\n",
       "      <td>0.0</td>\n",
       "    </tr>\n",
       "  </tbody>\n",
       "</table>\n",
       "<p>15000 rows × 650 columns</p>\n",
       "</div>"
      ],
      "text/plain": [
       "       access  accessori  act  action  activ  adapt  advanc  adventur  afford  \\\n",
       "0         0.0        0.0  0.0     0.0    0.0    0.0     0.0       0.0     0.0   \n",
       "1         0.0        0.0  0.0     0.0    0.0    0.0     0.0       0.0     0.0   \n",
       "2         0.0        0.0  0.0     0.0    0.0    0.0     0.0       0.0     0.0   \n",
       "3         0.0        0.0  0.0     0.0    0.0    0.0     0.0       0.0     0.0   \n",
       "4         0.0        0.0  0.0     0.0    0.0    0.0     0.0       0.0     0.0   \n",
       "...       ...        ...  ...     ...    ...    ...     ...       ...     ...   \n",
       "14995     0.0        0.0  0.0     0.0    0.0    0.0     0.0       0.0     0.0   \n",
       "14996     0.0        0.0  0.0     0.0    0.0    0.0     0.0       0.0     0.0   \n",
       "14997     0.0        0.0  0.0     0.0    0.0    0.0     0.0       0.0     0.0   \n",
       "14998     0.0        0.0  0.0     0.0    0.0    0.0     0.0       0.0     0.0   \n",
       "14999     0.0        0.0  0.0     0.0    0.0    0.0     0.0       0.0     0.0   \n",
       "\n",
       "       age  ...  within  women  wooden  work  world  write  year  yoga  youth  \\\n",
       "0      0.0  ...     0.0    0.0     0.0   0.0    0.0    0.0   0.0   0.0    0.0   \n",
       "1      0.0  ...     0.0    0.0     0.0   0.0    0.0    0.0   0.0   0.0    0.0   \n",
       "2      0.0  ...     0.0    0.0     0.0   0.0    0.0    0.0   0.0   0.0    0.0   \n",
       "3      0.0  ...     0.0    0.0     0.0   0.0    0.0    0.0   0.0   0.0    0.0   \n",
       "4      0.0  ...     0.0    0.0     0.0   0.0    0.0    0.0   0.0   0.0    0.0   \n",
       "...    ...  ...     ...    ...     ...   ...    ...    ...   ...   ...    ...   \n",
       "14995  0.0  ...     0.0    0.0     0.0   0.0    0.0    0.0   0.0   0.0    0.0   \n",
       "14996  0.0  ...     0.0    0.0     0.0   0.0    0.0    0.0   0.0   0.0    0.0   \n",
       "14997  0.0  ...     0.0    0.0     0.0   0.0    0.0    0.0   0.0   0.0    0.0   \n",
       "14998  0.0  ...     0.0    0.0     0.0   0.0    0.0    0.0   0.0   0.0    0.0   \n",
       "14999  0.0  ...     0.0    0.0     0.0   0.0    0.0    0.0   0.0   0.0    0.0   \n",
       "\n",
       "       zero  \n",
       "0       0.0  \n",
       "1       0.0  \n",
       "2       0.0  \n",
       "3       0.0  \n",
       "4       0.0  \n",
       "...     ...  \n",
       "14995   0.0  \n",
       "14996   0.0  \n",
       "14997   0.0  \n",
       "14998   0.0  \n",
       "14999   0.0  \n",
       "\n",
       "[15000 rows x 650 columns]"
      ]
     },
     "execution_count": 212,
     "metadata": {},
     "output_type": "execute_result"
    }
   ],
   "source": [
    "vectorizer = TfidfVectorizer()\n",
    "title_vec = vectorizer.fit_transform(no_noise_titles)\n",
    "dtm_hist = pd.DataFrame(title_vec.toarray(), columns = vectorizer.get_feature_names())\n",
    "dtm_hist"
   ]
  },
  {
   "cell_type": "markdown",
   "id": "73c55ecf",
   "metadata": {},
   "source": [
    "\n",
    "# 3.\t(20 points) \n",
    "\n",
    "Implement a hierarchical clustering algorithm of your choosing."
   ]
  },
  {
   "cell_type": "markdown",
   "id": "b700f1d8",
   "metadata": {},
   "source": [
    "**------------------------3 Answer:------------------------**"
   ]
  },
  {
   "cell_type": "markdown",
   "id": "c0e9ba59",
   "metadata": {},
   "source": [
    "1. First I calculated the cosine_similarity of the dtm. \n",
    "2. Then I calculated the distance matrix \n",
    "3. Finally, I applied hierarchical clustering methods using `from scipy.cluster import hierarchy`\n",
    "    * 3a. divisive: `hierarchy.linkage(distance matrix)` + dendrogram.\n",
    "    * 3b. agglomerative: `AgglomerativeClustering(distance_threshold=10, n_clusters=None)` \n",
    "        * no dendrogram here because it took too long to run. "
   ]
  },
  {
   "cell_type": "markdown",
   "id": "58afdd18",
   "metadata": {},
   "source": [
    "**------------------------3 Code:------------------------**"
   ]
  },
  {
   "cell_type": "markdown",
   "id": "6cc7377f",
   "metadata": {},
   "source": [
    "\n",
    "\n",
    "***First Need to Create a Distance Matrix - Cosine Similarity***"
   ]
  },
  {
   "cell_type": "code",
   "execution_count": 213,
   "id": "6118a82c",
   "metadata": {},
   "outputs": [
    {
     "name": "stdout",
     "output_type": "stream",
     "text": [
      "CPU times: user 18.9 s, sys: 8.98 s, total: 27.9 s\n",
      "Wall time: 30.6 s\n"
     ]
    }
   ],
   "source": [
    "from sklearn.metrics.pairwise import cosine_similarity\n",
    "%time dist_hist = 1 - cosine_similarity(dtm_hist)"
   ]
  },
  {
   "cell_type": "code",
   "execution_count": 261,
   "id": "93e91c95",
   "metadata": {},
   "outputs": [
    {
     "data": {
      "text/plain": [
       "{0.0, 0.46509029850239786, 0.4864610464859512, 0.522994581468462}"
      ]
     },
     "execution_count": 261,
     "metadata": {},
     "output_type": "execute_result"
    }
   ],
   "source": [
    "set(dtm.iloc[0,:])"
   ]
  },
  {
   "cell_type": "markdown",
   "id": "e003e9eb",
   "metadata": {},
   "source": [
    "***3a. Divisive with cosine similarity's distance matrix***"
   ]
  },
  {
   "cell_type": "code",
   "execution_count": 214,
   "id": "16614b05",
   "metadata": {},
   "outputs": [],
   "source": [
    " \n",
    "dist_matrix = pd.DataFrame(dist_hist)"
   ]
  },
  {
   "cell_type": "code",
   "execution_count": 215,
   "id": "7381eddd",
   "metadata": {},
   "outputs": [
    {
     "name": "stdout",
     "output_type": "stream",
     "text": [
      "CPU times: user 25min 40s, sys: 23min 33s, total: 49min 13s\n",
      "Wall time: 1h 25min 59s\n"
     ]
    }
   ],
   "source": [
    "from matplotlib import pyplot as plt\n",
    "from scipy.cluster import hierarchy\n",
    "\n",
    "%time Z = hierarchy.linkage(dist_matrix)\n"
   ]
  },
  {
   "cell_type": "code",
   "execution_count": 216,
   "id": "13240ac9",
   "metadata": {},
   "outputs": [
    {
     "data": {
      "text/plain": [
       "Text(0.5, 1.0, 'Divisive Hierarchical Clustering')"
      ]
     },
     "execution_count": 216,
     "metadata": {},
     "output_type": "execute_result"
    },
    {
     "data": {
      "image/png": "[encoded data removed]",
      "text/plain": [
       "<Figure size 1080x432 with 1 Axes>"
      ]
     },
     "metadata": {
      "needs_background": "light"
     },
     "output_type": "display_data"
    }
   ],
   "source": [
    "fig = plt.figure(figsize = (15, 6))\n",
    "dn = hierarchy.dendrogram(Z, truncate_mode = 'level', p=5, leaf_rotation=45, leaf_font_size=10, \n",
    "                          labels = dist_matrix.index, color_threshold=3)\n",
    "plt.title('Divisive Hierarchical Clustering')"
   ]
  },
  {
   "cell_type": "markdown",
   "id": "04ca6191",
   "metadata": {},
   "source": [
    "***3b. Agglomerative***"
   ]
  },
  {
   "cell_type": "code",
   "execution_count": 217,
   "id": "e20e2346",
   "metadata": {},
   "outputs": [
    {
     "name": "stdout",
     "output_type": "stream",
     "text": [
      "CPU times: user 20min 44s, sys: 38.9 s, total: 21min 23s\n",
      "Wall time: 22min 47s\n"
     ]
    },
    {
     "data": {
      "text/plain": [
       "AgglomerativeClustering(distance_threshold=10, n_clusters=None)"
      ]
     },
     "execution_count": 217,
     "metadata": {},
     "output_type": "execute_result"
    }
   ],
   "source": [
    "from sklearn.cluster import AgglomerativeClustering\n",
    "from scipy.cluster.hierarchy import dendrogram\n",
    "\n",
    "# setting distance_threshold=0 ensures we compute the full tree.\n",
    "model = AgglomerativeClustering(distance_threshold=10, n_clusters=None)\n",
    "\n",
    "%time model = model.fit(dist_matrix)\n",
    "model"
   ]
  },
  {
   "cell_type": "markdown",
   "id": "19d804e4",
   "metadata": {},
   "source": [
    "***This takes too long to run!***"
   ]
  },
  {
   "cell_type": "code",
   "execution_count": 218,
   "id": "bab2eaef",
   "metadata": {},
   "outputs": [],
   "source": [
    "\n",
    "# #https://scikit-learn.org/stable/auto_examples/cluster/plot_agglomerative_dendrogram.html\n",
    "\n",
    "# def plot_dendrogram(model, **kwargs):\n",
    "#     # Create linkage matrix and then plot the dendrogram\n",
    "\n",
    "#     # create the counts of samples under each node\n",
    "#     counts = np.zeros(model.children_.shape[0])\n",
    "#     n_samples = len(model.labels_)\n",
    "#     for i, merge in enumerate(model.children_):\n",
    "#         current_count = 0\n",
    "#         for child_idx in merge:\n",
    "#             if child_idx < n_samples:\n",
    "#                 current_count += 1  # leaf node\n",
    "#             else:\n",
    "#                 current_count += counts[child_idx - n_samples]\n",
    "#         counts[i] = current_count\n",
    "\n",
    "#     linkage_matrix = np.column_stack(\n",
    "#         [model.children_, model.distances_, counts]\n",
    "#     ).astype(float)\n",
    "\n",
    "#     # Plot the corresponding dendrogram\n",
    "    \n",
    "#     fig = plt.figure(figsize = (15, 6))\n",
    "#     dendrogram(linkage_matrix, **kwargs)\n",
    "#     plt.title(\"Hierarchical Clustering Dendrogram\")\n",
    "#     # plot the top three levels of the dendrogram\n",
    "# #    plot_dendrogram(model, truncate_mode=\"level\", p=20)\n",
    "#     plt.xlabel(\"Number of points in node (or index of point if no parenthesis).\")\n",
    "#     plt.show()"
   ]
  },
  {
   "cell_type": "code",
   "execution_count": 219,
   "id": "d5a42410",
   "metadata": {},
   "outputs": [],
   "source": [
    "# %time plot_dendrogram(model, truncate_mode=\"level\", p=5)\n"
   ]
  },
  {
   "cell_type": "markdown",
   "id": "0d82f88c",
   "metadata": {},
   "source": [
    "**------------------------4 Answer:------------------------**"
   ]
  },
  {
   "cell_type": "markdown",
   "id": "9519b45a",
   "metadata": {},
   "source": [
    "I used the silhouette score to determine how many cluster I should use. The higher the score the better the model. \n",
    "\n",
    "Because Birch hierarchical clustering algorithm is much faster, ran the distance matrix with this model several time under different number of clusters. \n",
    "\n",
    "The number of clusters that returned the best output is 4. "
   ]
  },
  {
   "cell_type": "markdown",
   "id": "43a77366",
   "metadata": {},
   "source": [
    "**------------------------4 Code:------------------------**"
   ]
  },
  {
   "cell_type": "code",
   "execution_count": 220,
   "id": "e6914344",
   "metadata": {},
   "outputs": [],
   "source": [
    "df = dist_hist"
   ]
  },
  {
   "cell_type": "code",
   "execution_count": 221,
   "id": "f92e0afc",
   "metadata": {},
   "outputs": [],
   "source": [
    "brc = Birch(branching_factor = 50, threshold = 0.5,  n_clusters=2)\n",
    "brc_model = brc.fit(df)\n",
    "brc_result = brc.predict(df)"
   ]
  },
  {
   "cell_type": "code",
   "execution_count": 222,
   "id": "94d02ea1",
   "metadata": {},
   "outputs": [],
   "source": [
    "from sklearn.metrics import silhouette_samples, silhouette_score\n"
   ]
  },
  {
   "cell_type": "code",
   "execution_count": 223,
   "id": "da2c327c",
   "metadata": {},
   "outputs": [
    {
     "name": "stdout",
     "output_type": "stream",
     "text": [
      "For n_clusters = 2 The average silhouette_score is : 0.6061651496261511\n",
      "For n_clusters = 3 The average silhouette_score is : 0.6252017742889926\n",
      "For n_clusters = 4 The average silhouette_score is : 0.6433827866062412\n",
      "For n_clusters = 5 The average silhouette_score is : 0.6253813391297037\n",
      "For n_clusters = 6 The average silhouette_score is : 0.6402861343667355\n",
      "For n_clusters = 10 The average silhouette_score is : 0.6105582200855076\n",
      "For n_clusters = 15 The average silhouette_score is : 0.6030840862469787\n",
      "For n_clusters = 25 The average silhouette_score is : 0.6004826916014743\n",
      "For n_clusters = 30 The average silhouette_score is : 0.48361786431567855\n"
     ]
    }
   ],
   "source": [
    "range_n_clusters = [2, 3, 4, 5, 6, 10, 15, 25, 30]\n",
    "k_bir_sil = {}\n",
    "\n",
    "for n_clusters in range_n_clusters:\n",
    "    clusterer = Birch(n_clusters=n_clusters)\n",
    "    cluster_labels = clusterer.fit_predict(df)\n",
    "\n",
    "    # The silhouette_score gives the average value for all the samples.\n",
    "    # This gives a perspective into the density and separation of the formed\n",
    "    # clusters\n",
    "\n",
    "    silhouette_avg = silhouette_score(df, cluster_labels)\n",
    "    print(\n",
    "        \"For n_clusters =\",\n",
    "        n_clusters,\n",
    "        \"The average silhouette_score is :\",\n",
    "        silhouette_avg,\n",
    "    )\n",
    "    k_bir_sil[n_clusters]=silhouette_avg\n",
    "    "
   ]
  },
  {
   "cell_type": "code",
   "execution_count": 224,
   "id": "93739b22",
   "metadata": {},
   "outputs": [
    {
     "name": "stdout",
     "output_type": "stream",
     "text": [
      "Number of Clusters with the Highest Silhouette Score = 4\n"
     ]
    }
   ],
   "source": [
    "fin_max = max(k_bir_sil, key=k_bir_sil.get)\n",
    "print(\"Number of Clusters with the Highest Silhouette Score = \"+ str(fin_max))"
   ]
  },
  {
   "cell_type": "markdown",
   "id": "0fbd0fc5",
   "metadata": {},
   "source": [
    "\n",
    "\n",
    "Visualize the article clustering results in a dendrogram or heatmap. Please be sure to show a clean dendrogram and not a sloppy dendrogram. Delivering an imbalanced unclear dendrogram, or a heatmap with too small text, will result in reducing your grade. You might consider finding out how to only show one branch per cluster (rather than one branch per observation). \n",
    "\n"
   ]
  },
  {
   "cell_type": "markdown",
   "id": "07c95658",
   "metadata": {},
   "source": [
    "**------------------------5 Answer:------------------------**"
   ]
  },
  {
   "cell_type": "markdown",
   "id": "284505c1",
   "metadata": {},
   "source": [
    "Q4 returned the best number of cluster (=4) and I fed this into the Divisive Hierarchical Clustering dendrogram. \n",
    "\n",
    "`trucate_mode = 'lastp'` and `p = fin_max` where fin_max = number of cluster with the best silhouette Score. "
   ]
  },
  {
   "cell_type": "markdown",
   "id": "5a4b3b75",
   "metadata": {},
   "source": [
    "**------------------------5 Code:------------------------**"
   ]
  },
  {
   "cell_type": "code",
   "execution_count": 225,
   "id": "18de1e69",
   "metadata": {},
   "outputs": [],
   "source": [
    "#%time Z = hierarchy.linkage(dist_matrix.iloc[:,:100])\n"
   ]
  },
  {
   "cell_type": "code",
   "execution_count": 226,
   "id": "9ae78a91",
   "metadata": {},
   "outputs": [
    {
     "data": {
      "text/plain": [
       "Text(0.5, 1.0, 'Divisive Hierarchical Clustering')"
      ]
     },
     "execution_count": 226,
     "metadata": {},
     "output_type": "execute_result"
    },
    {
     "data": {
      "image/png": "[encoded data removed]",
      "text/plain": [
       "<Figure size 720x432 with 1 Axes>"
      ]
     },
     "metadata": {
      "needs_background": "light"
     },
     "output_type": "display_data"
    }
   ],
   "source": [
    "fig = plt.figure(figsize = (10, 6))\n",
    "\n",
    "dn = hierarchy.dendrogram(Z, truncate_mode = 'lastp', p=fin_max, leaf_rotation=45, leaf_font_size=10, \n",
    "                          labels = dist_matrix.index)\n",
    "plt.title('Divisive Hierarchical Clustering')"
   ]
  },
  {
   "cell_type": "markdown",
   "id": "72fb790c",
   "metadata": {},
   "source": [
    "***"
   ]
  },
  {
   "cell_type": "markdown",
   "id": "d40e3e80",
   "metadata": {},
   "source": [
    "# APPENDIX\n",
    "\n",
    "1. Testing SVD\n",
    "2. Synonyms\n",
    "3. DTM - Bigram"
   ]
  },
  {
   "cell_type": "markdown",
   "id": "961d9acb",
   "metadata": {},
   "source": [
    "### 1. Testing SVD"
   ]
  },
  {
   "cell_type": "code",
   "execution_count": 229,
   "id": "5f4294cb",
   "metadata": {},
   "outputs": [],
   "source": [
    "from sklearn.decomposition import TruncatedSVD"
   ]
  },
  {
   "cell_type": "code",
   "execution_count": 230,
   "id": "d922c67c",
   "metadata": {},
   "outputs": [
    {
     "data": {
      "text/plain": [
       "TruncatedSVD(n_components=200, n_iter=7, random_state=42)"
      ]
     },
     "execution_count": 230,
     "metadata": {},
     "output_type": "execute_result"
    }
   ],
   "source": [
    "svd = TruncatedSVD(n_components=200, n_iter=7, random_state=42)\n",
    "svd.fit(dtm_hist)"
   ]
  },
  {
   "cell_type": "code",
   "execution_count": 231,
   "id": "1d913367",
   "metadata": {},
   "outputs": [
    {
     "data": {
      "text/plain": [
       "0.712949106807215"
      ]
     },
     "execution_count": 231,
     "metadata": {},
     "output_type": "execute_result"
    }
   ],
   "source": [
    "svd.explained_variance_ratio_.sum()"
   ]
  },
  {
   "cell_type": "code",
   "execution_count": 232,
   "id": "294efb34",
   "metadata": {},
   "outputs": [
    {
     "data": {
      "text/plain": [
       "650"
      ]
     },
     "execution_count": 232,
     "metadata": {},
     "output_type": "execute_result"
    }
   ],
   "source": [
    "svd.n_features_in_"
   ]
  },
  {
   "cell_type": "code",
   "execution_count": 233,
   "id": "b4d36785",
   "metadata": {},
   "outputs": [
    {
     "data": {
      "text/html": [
       "<div>\n",
       "<style scoped>\n",
       "    .dataframe tbody tr th:only-of-type {\n",
       "        vertical-align: middle;\n",
       "    }\n",
       "\n",
       "    .dataframe tbody tr th {\n",
       "        vertical-align: top;\n",
       "    }\n",
       "\n",
       "    .dataframe thead th {\n",
       "        text-align: right;\n",
       "    }\n",
       "</style>\n",
       "<table border=\"1\" class=\"dataframe\">\n",
       "  <thead>\n",
       "    <tr style=\"text-align: right;\">\n",
       "      <th></th>\n",
       "      <th>0</th>\n",
       "      <th>1</th>\n",
       "      <th>2</th>\n",
       "      <th>3</th>\n",
       "      <th>4</th>\n",
       "      <th>5</th>\n",
       "      <th>6</th>\n",
       "      <th>7</th>\n",
       "      <th>8</th>\n",
       "      <th>9</th>\n",
       "      <th>...</th>\n",
       "      <th>640</th>\n",
       "      <th>641</th>\n",
       "      <th>642</th>\n",
       "      <th>643</th>\n",
       "      <th>644</th>\n",
       "      <th>645</th>\n",
       "      <th>646</th>\n",
       "      <th>647</th>\n",
       "      <th>648</th>\n",
       "      <th>649</th>\n",
       "    </tr>\n",
       "  </thead>\n",
       "  <tbody>\n",
       "    <tr>\n",
       "      <th>0</th>\n",
       "      <td>2.222993e-16</td>\n",
       "      <td>4.975201e-12</td>\n",
       "      <td>-4.193316e-16</td>\n",
       "      <td>7.378695e-12</td>\n",
       "      <td>5.010880e-13</td>\n",
       "      <td>-1.832064e-12</td>\n",
       "      <td>-2.562376e-19</td>\n",
       "      <td>2.427797e-15</td>\n",
       "      <td>-2.525145e-13</td>\n",
       "      <td>-8.536568e-14</td>\n",
       "      <td>...</td>\n",
       "      <td>1.476183e-14</td>\n",
       "      <td>6.474357e-14</td>\n",
       "      <td>6.861770e-17</td>\n",
       "      <td>1.229084e-11</td>\n",
       "      <td>-3.926904e-16</td>\n",
       "      <td>-2.798507e-20</td>\n",
       "      <td>-7.659820e-14</td>\n",
       "      <td>1.013082e-11</td>\n",
       "      <td>-1.423338e-14</td>\n",
       "      <td>8.682839e-15</td>\n",
       "    </tr>\n",
       "    <tr>\n",
       "      <th>1</th>\n",
       "      <td>-2.049169e-17</td>\n",
       "      <td>7.480313e-12</td>\n",
       "      <td>-2.879340e-15</td>\n",
       "      <td>2.523662e-12</td>\n",
       "      <td>1.820280e-13</td>\n",
       "      <td>-1.182523e-12</td>\n",
       "      <td>9.429722e-19</td>\n",
       "      <td>-2.074779e-16</td>\n",
       "      <td>-1.189845e-12</td>\n",
       "      <td>4.272044e-13</td>\n",
       "      <td>...</td>\n",
       "      <td>-3.111288e-15</td>\n",
       "      <td>-1.731376e-13</td>\n",
       "      <td>-1.369770e-16</td>\n",
       "      <td>3.048469e-12</td>\n",
       "      <td>3.362726e-16</td>\n",
       "      <td>6.341692e-21</td>\n",
       "      <td>-3.845538e-14</td>\n",
       "      <td>1.628130e-11</td>\n",
       "      <td>1.316747e-14</td>\n",
       "      <td>-1.778024e-14</td>\n",
       "    </tr>\n",
       "    <tr>\n",
       "      <th>2</th>\n",
       "      <td>1.214405e-16</td>\n",
       "      <td>-4.365580e-12</td>\n",
       "      <td>-2.638322e-15</td>\n",
       "      <td>-9.220966e-12</td>\n",
       "      <td>1.299564e-14</td>\n",
       "      <td>5.461298e-13</td>\n",
       "      <td>3.406398e-19</td>\n",
       "      <td>-1.081879e-15</td>\n",
       "      <td>6.015732e-13</td>\n",
       "      <td>9.153659e-13</td>\n",
       "      <td>...</td>\n",
       "      <td>-8.671670e-15</td>\n",
       "      <td>-1.009887e-13</td>\n",
       "      <td>2.919478e-17</td>\n",
       "      <td>-2.233192e-13</td>\n",
       "      <td>1.979372e-16</td>\n",
       "      <td>1.282768e-20</td>\n",
       "      <td>2.564084e-13</td>\n",
       "      <td>-1.391082e-11</td>\n",
       "      <td>5.346482e-15</td>\n",
       "      <td>-2.331658e-15</td>\n",
       "    </tr>\n",
       "    <tr>\n",
       "      <th>3</th>\n",
       "      <td>-1.505235e-16</td>\n",
       "      <td>-7.009554e-11</td>\n",
       "      <td>1.279702e-14</td>\n",
       "      <td>3.149434e-11</td>\n",
       "      <td>-1.521327e-12</td>\n",
       "      <td>2.372353e-12</td>\n",
       "      <td>3.575644e-18</td>\n",
       "      <td>-2.526226e-14</td>\n",
       "      <td>-7.027691e-12</td>\n",
       "      <td>4.830634e-12</td>\n",
       "      <td>...</td>\n",
       "      <td>-5.908829e-14</td>\n",
       "      <td>3.015427e-13</td>\n",
       "      <td>1.790205e-15</td>\n",
       "      <td>-2.913795e-11</td>\n",
       "      <td>-1.396114e-15</td>\n",
       "      <td>-2.882845e-20</td>\n",
       "      <td>-2.538137e-12</td>\n",
       "      <td>2.731010e-11</td>\n",
       "      <td>-3.133345e-14</td>\n",
       "      <td>3.818991e-14</td>\n",
       "    </tr>\n",
       "    <tr>\n",
       "      <th>4</th>\n",
       "      <td>3.840367e-16</td>\n",
       "      <td>-4.374397e-11</td>\n",
       "      <td>2.313012e-15</td>\n",
       "      <td>-1.163540e-10</td>\n",
       "      <td>7.975789e-13</td>\n",
       "      <td>7.586499e-12</td>\n",
       "      <td>-2.255854e-18</td>\n",
       "      <td>-1.898332e-14</td>\n",
       "      <td>1.204643e-11</td>\n",
       "      <td>6.492091e-14</td>\n",
       "      <td>...</td>\n",
       "      <td>1.916047e-14</td>\n",
       "      <td>-4.905289e-13</td>\n",
       "      <td>-7.730567e-16</td>\n",
       "      <td>-5.530759e-11</td>\n",
       "      <td>1.112239e-15</td>\n",
       "      <td>-3.124763e-20</td>\n",
       "      <td>-1.477287e-12</td>\n",
       "      <td>4.648821e-11</td>\n",
       "      <td>1.306255e-15</td>\n",
       "      <td>-1.839629e-14</td>\n",
       "    </tr>\n",
       "    <tr>\n",
       "      <th>...</th>\n",
       "      <td>...</td>\n",
       "      <td>...</td>\n",
       "      <td>...</td>\n",
       "      <td>...</td>\n",
       "      <td>...</td>\n",
       "      <td>...</td>\n",
       "      <td>...</td>\n",
       "      <td>...</td>\n",
       "      <td>...</td>\n",
       "      <td>...</td>\n",
       "      <td>...</td>\n",
       "      <td>...</td>\n",
       "      <td>...</td>\n",
       "      <td>...</td>\n",
       "      <td>...</td>\n",
       "      <td>...</td>\n",
       "      <td>...</td>\n",
       "      <td>...</td>\n",
       "      <td>...</td>\n",
       "      <td>...</td>\n",
       "      <td>...</td>\n",
       "    </tr>\n",
       "    <tr>\n",
       "      <th>195</th>\n",
       "      <td>-8.028063e-07</td>\n",
       "      <td>-5.456226e-02</td>\n",
       "      <td>5.905987e-06</td>\n",
       "      <td>-1.130648e-03</td>\n",
       "      <td>-6.225420e-03</td>\n",
       "      <td>-1.002089e-04</td>\n",
       "      <td>1.519204e-10</td>\n",
       "      <td>-1.184677e-07</td>\n",
       "      <td>8.804405e-03</td>\n",
       "      <td>-4.936996e-04</td>\n",
       "      <td>...</td>\n",
       "      <td>-3.291699e-05</td>\n",
       "      <td>-6.109044e-06</td>\n",
       "      <td>-7.201150e-07</td>\n",
       "      <td>-1.497145e-01</td>\n",
       "      <td>-9.033152e-09</td>\n",
       "      <td>3.207353e-12</td>\n",
       "      <td>-5.970221e-05</td>\n",
       "      <td>-2.521372e-03</td>\n",
       "      <td>-1.934204e-05</td>\n",
       "      <td>1.136554e-04</td>\n",
       "    </tr>\n",
       "    <tr>\n",
       "      <th>196</th>\n",
       "      <td>-2.243481e-07</td>\n",
       "      <td>-8.842557e-02</td>\n",
       "      <td>-2.216591e-06</td>\n",
       "      <td>3.120509e-02</td>\n",
       "      <td>-1.450862e-03</td>\n",
       "      <td>1.306059e-04</td>\n",
       "      <td>-1.375184e-11</td>\n",
       "      <td>9.900558e-08</td>\n",
       "      <td>-5.386804e-03</td>\n",
       "      <td>4.892805e-04</td>\n",
       "      <td>...</td>\n",
       "      <td>-1.254393e-04</td>\n",
       "      <td>1.377599e-05</td>\n",
       "      <td>1.469065e-07</td>\n",
       "      <td>5.420356e-02</td>\n",
       "      <td>1.541648e-08</td>\n",
       "      <td>5.758138e-11</td>\n",
       "      <td>1.445497e-04</td>\n",
       "      <td>5.359496e-04</td>\n",
       "      <td>-5.531578e-06</td>\n",
       "      <td>3.925145e-06</td>\n",
       "    </tr>\n",
       "    <tr>\n",
       "      <th>197</th>\n",
       "      <td>-1.041403e-06</td>\n",
       "      <td>-3.815723e-02</td>\n",
       "      <td>5.487183e-06</td>\n",
       "      <td>5.555555e-02</td>\n",
       "      <td>-1.089348e-02</td>\n",
       "      <td>5.781829e-04</td>\n",
       "      <td>7.629528e-11</td>\n",
       "      <td>1.236268e-07</td>\n",
       "      <td>-5.999873e-03</td>\n",
       "      <td>5.675028e-03</td>\n",
       "      <td>...</td>\n",
       "      <td>5.248301e-05</td>\n",
       "      <td>7.807801e-06</td>\n",
       "      <td>8.338706e-08</td>\n",
       "      <td>2.655141e-01</td>\n",
       "      <td>1.416134e-08</td>\n",
       "      <td>-2.808511e-10</td>\n",
       "      <td>-3.842179e-05</td>\n",
       "      <td>8.941035e-04</td>\n",
       "      <td>-5.643346e-06</td>\n",
       "      <td>1.433819e-04</td>\n",
       "    </tr>\n",
       "    <tr>\n",
       "      <th>198</th>\n",
       "      <td>-9.932603e-07</td>\n",
       "      <td>-1.431696e-02</td>\n",
       "      <td>1.378056e-05</td>\n",
       "      <td>-1.936791e-02</td>\n",
       "      <td>8.134218e-03</td>\n",
       "      <td>-4.733756e-04</td>\n",
       "      <td>9.219270e-11</td>\n",
       "      <td>1.077104e-07</td>\n",
       "      <td>-1.025977e-03</td>\n",
       "      <td>4.283655e-03</td>\n",
       "      <td>...</td>\n",
       "      <td>-1.721352e-04</td>\n",
       "      <td>2.189871e-05</td>\n",
       "      <td>-6.685291e-07</td>\n",
       "      <td>-1.293417e-01</td>\n",
       "      <td>1.267611e-08</td>\n",
       "      <td>-2.076707e-11</td>\n",
       "      <td>5.890238e-05</td>\n",
       "      <td>-1.433588e-01</td>\n",
       "      <td>1.975337e-04</td>\n",
       "      <td>2.089675e-05</td>\n",
       "    </tr>\n",
       "    <tr>\n",
       "      <th>199</th>\n",
       "      <td>-9.848414e-07</td>\n",
       "      <td>2.744893e-02</td>\n",
       "      <td>-1.567858e-06</td>\n",
       "      <td>-1.874527e-02</td>\n",
       "      <td>-9.571751e-03</td>\n",
       "      <td>3.117172e-04</td>\n",
       "      <td>-3.781418e-11</td>\n",
       "      <td>-1.810258e-07</td>\n",
       "      <td>-4.847334e-03</td>\n",
       "      <td>-6.537587e-03</td>\n",
       "      <td>...</td>\n",
       "      <td>1.562328e-05</td>\n",
       "      <td>-2.522804e-05</td>\n",
       "      <td>-8.289775e-07</td>\n",
       "      <td>-1.291568e-01</td>\n",
       "      <td>2.767198e-08</td>\n",
       "      <td>2.268049e-10</td>\n",
       "      <td>-3.297975e-05</td>\n",
       "      <td>9.231920e-02</td>\n",
       "      <td>8.059869e-05</td>\n",
       "      <td>8.020533e-05</td>\n",
       "    </tr>\n",
       "  </tbody>\n",
       "</table>\n",
       "<p>200 rows × 650 columns</p>\n",
       "</div>"
      ],
      "text/plain": [
       "              0             1             2             3             4    \\\n",
       "0    2.222993e-16  4.975201e-12 -4.193316e-16  7.378695e-12  5.010880e-13   \n",
       "1   -2.049169e-17  7.480313e-12 -2.879340e-15  2.523662e-12  1.820280e-13   \n",
       "2    1.214405e-16 -4.365580e-12 -2.638322e-15 -9.220966e-12  1.299564e-14   \n",
       "3   -1.505235e-16 -7.009554e-11  1.279702e-14  3.149434e-11 -1.521327e-12   \n",
       "4    3.840367e-16 -4.374397e-11  2.313012e-15 -1.163540e-10  7.975789e-13   \n",
       "..            ...           ...           ...           ...           ...   \n",
       "195 -8.028063e-07 -5.456226e-02  5.905987e-06 -1.130648e-03 -6.225420e-03   \n",
       "196 -2.243481e-07 -8.842557e-02 -2.216591e-06  3.120509e-02 -1.450862e-03   \n",
       "197 -1.041403e-06 -3.815723e-02  5.487183e-06  5.555555e-02 -1.089348e-02   \n",
       "198 -9.932603e-07 -1.431696e-02  1.378056e-05 -1.936791e-02  8.134218e-03   \n",
       "199 -9.848414e-07  2.744893e-02 -1.567858e-06 -1.874527e-02 -9.571751e-03   \n",
       "\n",
       "              5             6             7             8             9    \\\n",
       "0   -1.832064e-12 -2.562376e-19  2.427797e-15 -2.525145e-13 -8.536568e-14   \n",
       "1   -1.182523e-12  9.429722e-19 -2.074779e-16 -1.189845e-12  4.272044e-13   \n",
       "2    5.461298e-13  3.406398e-19 -1.081879e-15  6.015732e-13  9.153659e-13   \n",
       "3    2.372353e-12  3.575644e-18 -2.526226e-14 -7.027691e-12  4.830634e-12   \n",
       "4    7.586499e-12 -2.255854e-18 -1.898332e-14  1.204643e-11  6.492091e-14   \n",
       "..            ...           ...           ...           ...           ...   \n",
       "195 -1.002089e-04  1.519204e-10 -1.184677e-07  8.804405e-03 -4.936996e-04   \n",
       "196  1.306059e-04 -1.375184e-11  9.900558e-08 -5.386804e-03  4.892805e-04   \n",
       "197  5.781829e-04  7.629528e-11  1.236268e-07 -5.999873e-03  5.675028e-03   \n",
       "198 -4.733756e-04  9.219270e-11  1.077104e-07 -1.025977e-03  4.283655e-03   \n",
       "199  3.117172e-04 -3.781418e-11 -1.810258e-07 -4.847334e-03 -6.537587e-03   \n",
       "\n",
       "     ...           640           641           642           643  \\\n",
       "0    ...  1.476183e-14  6.474357e-14  6.861770e-17  1.229084e-11   \n",
       "1    ... -3.111288e-15 -1.731376e-13 -1.369770e-16  3.048469e-12   \n",
       "2    ... -8.671670e-15 -1.009887e-13  2.919478e-17 -2.233192e-13   \n",
       "3    ... -5.908829e-14  3.015427e-13  1.790205e-15 -2.913795e-11   \n",
       "4    ...  1.916047e-14 -4.905289e-13 -7.730567e-16 -5.530759e-11   \n",
       "..   ...           ...           ...           ...           ...   \n",
       "195  ... -3.291699e-05 -6.109044e-06 -7.201150e-07 -1.497145e-01   \n",
       "196  ... -1.254393e-04  1.377599e-05  1.469065e-07  5.420356e-02   \n",
       "197  ...  5.248301e-05  7.807801e-06  8.338706e-08  2.655141e-01   \n",
       "198  ... -1.721352e-04  2.189871e-05 -6.685291e-07 -1.293417e-01   \n",
       "199  ...  1.562328e-05 -2.522804e-05 -8.289775e-07 -1.291568e-01   \n",
       "\n",
       "              644           645           646           647           648  \\\n",
       "0   -3.926904e-16 -2.798507e-20 -7.659820e-14  1.013082e-11 -1.423338e-14   \n",
       "1    3.362726e-16  6.341692e-21 -3.845538e-14  1.628130e-11  1.316747e-14   \n",
       "2    1.979372e-16  1.282768e-20  2.564084e-13 -1.391082e-11  5.346482e-15   \n",
       "3   -1.396114e-15 -2.882845e-20 -2.538137e-12  2.731010e-11 -3.133345e-14   \n",
       "4    1.112239e-15 -3.124763e-20 -1.477287e-12  4.648821e-11  1.306255e-15   \n",
       "..            ...           ...           ...           ...           ...   \n",
       "195 -9.033152e-09  3.207353e-12 -5.970221e-05 -2.521372e-03 -1.934204e-05   \n",
       "196  1.541648e-08  5.758138e-11  1.445497e-04  5.359496e-04 -5.531578e-06   \n",
       "197  1.416134e-08 -2.808511e-10 -3.842179e-05  8.941035e-04 -5.643346e-06   \n",
       "198  1.267611e-08 -2.076707e-11  5.890238e-05 -1.433588e-01  1.975337e-04   \n",
       "199  2.767198e-08  2.268049e-10 -3.297975e-05  9.231920e-02  8.059869e-05   \n",
       "\n",
       "              649  \n",
       "0    8.682839e-15  \n",
       "1   -1.778024e-14  \n",
       "2   -2.331658e-15  \n",
       "3    3.818991e-14  \n",
       "4   -1.839629e-14  \n",
       "..            ...  \n",
       "195  1.136554e-04  \n",
       "196  3.925145e-06  \n",
       "197  1.433819e-04  \n",
       "198  2.089675e-05  \n",
       "199  8.020533e-05  \n",
       "\n",
       "[200 rows x 650 columns]"
      ]
     },
     "execution_count": 233,
     "metadata": {},
     "output_type": "execute_result"
    }
   ],
   "source": [
    "pd.DataFrame(svd.components_)"
   ]
  },
  {
   "cell_type": "markdown",
   "id": "a04dfba7",
   "metadata": {},
   "source": [
    "***"
   ]
  },
  {
   "cell_type": "markdown",
   "id": "ff618765",
   "metadata": {},
   "source": [
    "### 2. Converting to synonyms - Idea (Did not end up using)\n",
    "\n",
    "Lost of word semantics - not very helpful"
   ]
  },
  {
   "cell_type": "code",
   "execution_count": 234,
   "id": "cf29022e",
   "metadata": {},
   "outputs": [],
   "source": [
    "from nltk.corpus import wordnet"
   ]
  },
  {
   "cell_type": "code",
   "execution_count": 235,
   "id": "98f7e695",
   "metadata": {},
   "outputs": [],
   "source": [
    "subsettitle = cleaned_title[:15000]\n",
    "#subsettitle"
   ]
  },
  {
   "cell_type": "code",
   "execution_count": 236,
   "id": "222ea3a6",
   "metadata": {},
   "outputs": [],
   "source": [
    "def convert_to_synonyms(data):\n",
    "    data_sysn = []\n",
    "    for title in data:\n",
    "        build_back_title = []\n",
    "        for word in title.split():\n",
    "            \n",
    "            w = get_synonyms(word)\n",
    "            build_back_title.append(w)\n",
    "        title =' '.join(build_back_title)\n",
    "        data_sysn.append(title)\n",
    "    return data_sysn"
   ]
  },
  {
   "cell_type": "code",
   "execution_count": 237,
   "id": "54cc602b",
   "metadata": {},
   "outputs": [],
   "source": [
    "def get_synonyms(word):\n",
    "    try:\n",
    "        word = sorted(wordnet.synsets(word)[0].lemmas())[0].name()\n",
    "    except:\n",
    "        pass\n",
    "    return word"
   ]
  },
  {
   "cell_type": "code",
   "execution_count": 238,
   "id": "a8bd769c",
   "metadata": {},
   "outputs": [
    {
     "name": "stdout",
     "output_type": "stream",
     "text": [
      "CPU times: user 8.01 s, sys: 4.04 s, total: 12.1 s\n",
      "Wall time: 18.4 s\n"
     ]
    }
   ],
   "source": [
    "%time sys_title = convert_to_synonyms(subsettitle)"
   ]
  },
  {
   "cell_type": "markdown",
   "id": "177d5713",
   "metadata": {},
   "source": [
    "***Testing if finding synonyms will reduce number of dimensions***\n",
    "\n",
    "Trade-off lose semantics"
   ]
  },
  {
   "cell_type": "code",
   "execution_count": 239,
   "id": "e5534446",
   "metadata": {},
   "outputs": [
    {
     "name": "stdout",
     "output_type": "stream",
     "text": [
      "CPU times: user 161 ms, sys: 28.4 ms, total: 190 ms\n",
      "Wall time: 253 ms\n"
     ]
    },
    {
     "name": "stderr",
     "output_type": "stream",
     "text": [
      "/Library/Frameworks/Python.framework/Versions/3.7/lib/python3.7/site-packages/sklearn/utils/deprecation.py:87: FutureWarning: Function get_feature_names is deprecated; get_feature_names is deprecated in 1.0 and will be removed in 1.2. Please use get_feature_names_out instead.\n",
      "  warnings.warn(msg, category=FutureWarning)\n"
     ]
    }
   ],
   "source": [
    "from sklearn.feature_extraction.text import TfidfVectorizer\n",
    "import pandas as pd\n",
    "\n",
    "vectorizer = TfidfVectorizer()\n",
    "%time title_vec = vectorizer.fit_transform(subsettitle)\n",
    "feat1= vectorizer.get_feature_names()"
   ]
  },
  {
   "cell_type": "code",
   "execution_count": 240,
   "id": "a6c575ea",
   "metadata": {},
   "outputs": [
    {
     "data": {
      "text/plain": [
       "(15000, 5843)"
      ]
     },
     "execution_count": 240,
     "metadata": {},
     "output_type": "execute_result"
    }
   ],
   "source": [
    "title_vec.shape"
   ]
  },
  {
   "cell_type": "code",
   "execution_count": 241,
   "id": "bea96c74",
   "metadata": {},
   "outputs": [
    {
     "name": "stdout",
     "output_type": "stream",
     "text": [
      "CPU times: user 155 ms, sys: 18.9 ms, total: 174 ms\n",
      "Wall time: 306 ms\n"
     ]
    }
   ],
   "source": [
    "%time title_vec2 = vectorizer.fit_transform(sys_title)\n",
    "title_vec2.shape\n",
    "feat2= vectorizer.get_feature_names()"
   ]
  },
  {
   "cell_type": "code",
   "execution_count": 242,
   "id": "64066da5",
   "metadata": {},
   "outputs": [
    {
     "data": {
      "text/plain": [
       "(15000, 5437)"
      ]
     },
     "execution_count": 242,
     "metadata": {},
     "output_type": "execute_result"
    }
   ],
   "source": [
    "title_vec2.shape"
   ]
  },
  {
   "cell_type": "code",
   "execution_count": 243,
   "id": "f4f2e00d",
   "metadata": {},
   "outputs": [
    {
     "data": {
      "text/plain": [
       "406"
      ]
     },
     "execution_count": 243,
     "metadata": {},
     "output_type": "execute_result"
    }
   ],
   "source": [
    "# reduction in features: \n",
    "title_vec.shape[1] - title_vec2.shape[1]"
   ]
  },
  {
   "cell_type": "code",
   "execution_count": 249,
   "id": "3d3255d5",
   "metadata": {},
   "outputs": [
    {
     "data": {
      "text/html": [
       "<div>\n",
       "<style scoped>\n",
       "    .dataframe tbody tr th:only-of-type {\n",
       "        vertical-align: middle;\n",
       "    }\n",
       "\n",
       "    .dataframe tbody tr th {\n",
       "        vertical-align: top;\n",
       "    }\n",
       "\n",
       "    .dataframe thead th {\n",
       "        text-align: right;\n",
       "    }\n",
       "</style>\n",
       "<table border=\"1\" class=\"dataframe\">\n",
       "  <thead>\n",
       "    <tr style=\"text-align: right;\">\n",
       "      <th></th>\n",
       "      <th>10</th>\n",
       "      <th>1000</th>\n",
       "      <th>1000000</th>\n",
       "      <th>1000000000000</th>\n",
       "      <th>12</th>\n",
       "      <th>13</th>\n",
       "      <th>14</th>\n",
       "      <th>15</th>\n",
       "      <th>19</th>\n",
       "      <th>21</th>\n",
       "      <th>...</th>\n",
       "      <th>zealot</th>\n",
       "      <th>zen</th>\n",
       "      <th>zenith</th>\n",
       "      <th>zine</th>\n",
       "      <th>zing</th>\n",
       "      <th>zn</th>\n",
       "      <th>zodiac</th>\n",
       "      <th>zombi</th>\n",
       "      <th>zone</th>\n",
       "      <th>zooplankton</th>\n",
       "    </tr>\n",
       "  </thead>\n",
       "  <tbody>\n",
       "    <tr>\n",
       "      <th>0</th>\n",
       "      <td>0.0</td>\n",
       "      <td>0.0</td>\n",
       "      <td>0.0</td>\n",
       "      <td>0.0</td>\n",
       "      <td>0.0</td>\n",
       "      <td>0.0</td>\n",
       "      <td>0.0</td>\n",
       "      <td>0.0</td>\n",
       "      <td>0.0</td>\n",
       "      <td>0.0</td>\n",
       "      <td>...</td>\n",
       "      <td>0.0</td>\n",
       "      <td>0.0</td>\n",
       "      <td>0.0</td>\n",
       "      <td>0.0</td>\n",
       "      <td>0.0</td>\n",
       "      <td>0.0</td>\n",
       "      <td>0.0</td>\n",
       "      <td>0.0</td>\n",
       "      <td>0.0</td>\n",
       "      <td>0.0</td>\n",
       "    </tr>\n",
       "    <tr>\n",
       "      <th>1</th>\n",
       "      <td>0.0</td>\n",
       "      <td>0.0</td>\n",
       "      <td>0.0</td>\n",
       "      <td>0.0</td>\n",
       "      <td>0.0</td>\n",
       "      <td>0.0</td>\n",
       "      <td>0.0</td>\n",
       "      <td>0.0</td>\n",
       "      <td>0.0</td>\n",
       "      <td>0.0</td>\n",
       "      <td>...</td>\n",
       "      <td>0.0</td>\n",
       "      <td>0.0</td>\n",
       "      <td>0.0</td>\n",
       "      <td>0.0</td>\n",
       "      <td>0.0</td>\n",
       "      <td>0.0</td>\n",
       "      <td>0.0</td>\n",
       "      <td>0.0</td>\n",
       "      <td>0.0</td>\n",
       "      <td>0.0</td>\n",
       "    </tr>\n",
       "    <tr>\n",
       "      <th>2</th>\n",
       "      <td>0.0</td>\n",
       "      <td>0.0</td>\n",
       "      <td>0.0</td>\n",
       "      <td>0.0</td>\n",
       "      <td>0.0</td>\n",
       "      <td>0.0</td>\n",
       "      <td>0.0</td>\n",
       "      <td>0.0</td>\n",
       "      <td>0.0</td>\n",
       "      <td>0.0</td>\n",
       "      <td>...</td>\n",
       "      <td>0.0</td>\n",
       "      <td>0.0</td>\n",
       "      <td>0.0</td>\n",
       "      <td>0.0</td>\n",
       "      <td>0.0</td>\n",
       "      <td>0.0</td>\n",
       "      <td>0.0</td>\n",
       "      <td>0.0</td>\n",
       "      <td>0.0</td>\n",
       "      <td>0.0</td>\n",
       "    </tr>\n",
       "    <tr>\n",
       "      <th>3</th>\n",
       "      <td>0.0</td>\n",
       "      <td>0.0</td>\n",
       "      <td>0.0</td>\n",
       "      <td>0.0</td>\n",
       "      <td>0.0</td>\n",
       "      <td>0.0</td>\n",
       "      <td>0.0</td>\n",
       "      <td>0.0</td>\n",
       "      <td>0.0</td>\n",
       "      <td>0.0</td>\n",
       "      <td>...</td>\n",
       "      <td>0.0</td>\n",
       "      <td>0.0</td>\n",
       "      <td>0.0</td>\n",
       "      <td>0.0</td>\n",
       "      <td>0.0</td>\n",
       "      <td>0.0</td>\n",
       "      <td>0.0</td>\n",
       "      <td>0.0</td>\n",
       "      <td>0.0</td>\n",
       "      <td>0.0</td>\n",
       "    </tr>\n",
       "    <tr>\n",
       "      <th>4</th>\n",
       "      <td>0.0</td>\n",
       "      <td>0.0</td>\n",
       "      <td>0.0</td>\n",
       "      <td>0.0</td>\n",
       "      <td>0.0</td>\n",
       "      <td>0.0</td>\n",
       "      <td>0.0</td>\n",
       "      <td>0.0</td>\n",
       "      <td>0.0</td>\n",
       "      <td>0.0</td>\n",
       "      <td>...</td>\n",
       "      <td>0.0</td>\n",
       "      <td>0.0</td>\n",
       "      <td>0.0</td>\n",
       "      <td>0.0</td>\n",
       "      <td>0.0</td>\n",
       "      <td>0.0</td>\n",
       "      <td>0.0</td>\n",
       "      <td>0.0</td>\n",
       "      <td>0.0</td>\n",
       "      <td>0.0</td>\n",
       "    </tr>\n",
       "    <tr>\n",
       "      <th>...</th>\n",
       "      <td>...</td>\n",
       "      <td>...</td>\n",
       "      <td>...</td>\n",
       "      <td>...</td>\n",
       "      <td>...</td>\n",
       "      <td>...</td>\n",
       "      <td>...</td>\n",
       "      <td>...</td>\n",
       "      <td>...</td>\n",
       "      <td>...</td>\n",
       "      <td>...</td>\n",
       "      <td>...</td>\n",
       "      <td>...</td>\n",
       "      <td>...</td>\n",
       "      <td>...</td>\n",
       "      <td>...</td>\n",
       "      <td>...</td>\n",
       "      <td>...</td>\n",
       "      <td>...</td>\n",
       "      <td>...</td>\n",
       "      <td>...</td>\n",
       "    </tr>\n",
       "    <tr>\n",
       "      <th>14995</th>\n",
       "      <td>0.0</td>\n",
       "      <td>0.0</td>\n",
       "      <td>0.0</td>\n",
       "      <td>0.0</td>\n",
       "      <td>0.0</td>\n",
       "      <td>0.0</td>\n",
       "      <td>0.0</td>\n",
       "      <td>0.0</td>\n",
       "      <td>0.0</td>\n",
       "      <td>0.0</td>\n",
       "      <td>...</td>\n",
       "      <td>0.0</td>\n",
       "      <td>0.0</td>\n",
       "      <td>0.0</td>\n",
       "      <td>0.0</td>\n",
       "      <td>0.0</td>\n",
       "      <td>0.0</td>\n",
       "      <td>0.0</td>\n",
       "      <td>0.0</td>\n",
       "      <td>0.0</td>\n",
       "      <td>0.0</td>\n",
       "    </tr>\n",
       "    <tr>\n",
       "      <th>14996</th>\n",
       "      <td>0.0</td>\n",
       "      <td>0.0</td>\n",
       "      <td>0.0</td>\n",
       "      <td>0.0</td>\n",
       "      <td>0.0</td>\n",
       "      <td>0.0</td>\n",
       "      <td>0.0</td>\n",
       "      <td>0.0</td>\n",
       "      <td>0.0</td>\n",
       "      <td>0.0</td>\n",
       "      <td>...</td>\n",
       "      <td>0.0</td>\n",
       "      <td>0.0</td>\n",
       "      <td>0.0</td>\n",
       "      <td>0.0</td>\n",
       "      <td>0.0</td>\n",
       "      <td>0.0</td>\n",
       "      <td>0.0</td>\n",
       "      <td>0.0</td>\n",
       "      <td>0.0</td>\n",
       "      <td>0.0</td>\n",
       "    </tr>\n",
       "    <tr>\n",
       "      <th>14997</th>\n",
       "      <td>0.0</td>\n",
       "      <td>0.0</td>\n",
       "      <td>0.0</td>\n",
       "      <td>0.0</td>\n",
       "      <td>0.0</td>\n",
       "      <td>0.0</td>\n",
       "      <td>0.0</td>\n",
       "      <td>0.0</td>\n",
       "      <td>0.0</td>\n",
       "      <td>0.0</td>\n",
       "      <td>...</td>\n",
       "      <td>0.0</td>\n",
       "      <td>0.0</td>\n",
       "      <td>0.0</td>\n",
       "      <td>0.0</td>\n",
       "      <td>0.0</td>\n",
       "      <td>0.0</td>\n",
       "      <td>0.0</td>\n",
       "      <td>0.0</td>\n",
       "      <td>0.0</td>\n",
       "      <td>0.0</td>\n",
       "    </tr>\n",
       "    <tr>\n",
       "      <th>14998</th>\n",
       "      <td>0.0</td>\n",
       "      <td>0.0</td>\n",
       "      <td>0.0</td>\n",
       "      <td>0.0</td>\n",
       "      <td>0.0</td>\n",
       "      <td>0.0</td>\n",
       "      <td>0.0</td>\n",
       "      <td>0.0</td>\n",
       "      <td>0.0</td>\n",
       "      <td>0.0</td>\n",
       "      <td>...</td>\n",
       "      <td>0.0</td>\n",
       "      <td>0.0</td>\n",
       "      <td>0.0</td>\n",
       "      <td>0.0</td>\n",
       "      <td>0.0</td>\n",
       "      <td>0.0</td>\n",
       "      <td>0.0</td>\n",
       "      <td>0.0</td>\n",
       "      <td>0.0</td>\n",
       "      <td>0.0</td>\n",
       "    </tr>\n",
       "    <tr>\n",
       "      <th>14999</th>\n",
       "      <td>0.0</td>\n",
       "      <td>0.0</td>\n",
       "      <td>0.0</td>\n",
       "      <td>0.0</td>\n",
       "      <td>0.0</td>\n",
       "      <td>0.0</td>\n",
       "      <td>0.0</td>\n",
       "      <td>0.0</td>\n",
       "      <td>0.0</td>\n",
       "      <td>0.0</td>\n",
       "      <td>...</td>\n",
       "      <td>0.0</td>\n",
       "      <td>0.0</td>\n",
       "      <td>0.0</td>\n",
       "      <td>0.0</td>\n",
       "      <td>0.0</td>\n",
       "      <td>0.0</td>\n",
       "      <td>0.0</td>\n",
       "      <td>0.0</td>\n",
       "      <td>0.0</td>\n",
       "      <td>0.0</td>\n",
       "    </tr>\n",
       "  </tbody>\n",
       "</table>\n",
       "<p>15000 rows × 5437 columns</p>\n",
       "</div>"
      ],
      "text/plain": [
       "        10  1000  1000000  1000000000000   12   13   14   15   19   21  ...  \\\n",
       "0      0.0   0.0      0.0            0.0  0.0  0.0  0.0  0.0  0.0  0.0  ...   \n",
       "1      0.0   0.0      0.0            0.0  0.0  0.0  0.0  0.0  0.0  0.0  ...   \n",
       "2      0.0   0.0      0.0            0.0  0.0  0.0  0.0  0.0  0.0  0.0  ...   \n",
       "3      0.0   0.0      0.0            0.0  0.0  0.0  0.0  0.0  0.0  0.0  ...   \n",
       "4      0.0   0.0      0.0            0.0  0.0  0.0  0.0  0.0  0.0  0.0  ...   \n",
       "...    ...   ...      ...            ...  ...  ...  ...  ...  ...  ...  ...   \n",
       "14995  0.0   0.0      0.0            0.0  0.0  0.0  0.0  0.0  0.0  0.0  ...   \n",
       "14996  0.0   0.0      0.0            0.0  0.0  0.0  0.0  0.0  0.0  0.0  ...   \n",
       "14997  0.0   0.0      0.0            0.0  0.0  0.0  0.0  0.0  0.0  0.0  ...   \n",
       "14998  0.0   0.0      0.0            0.0  0.0  0.0  0.0  0.0  0.0  0.0  ...   \n",
       "14999  0.0   0.0      0.0            0.0  0.0  0.0  0.0  0.0  0.0  0.0  ...   \n",
       "\n",
       "       zealot  zen  zenith  zine  zing   zn  zodiac  zombi  zone  zooplankton  \n",
       "0         0.0  0.0     0.0   0.0   0.0  0.0     0.0    0.0   0.0          0.0  \n",
       "1         0.0  0.0     0.0   0.0   0.0  0.0     0.0    0.0   0.0          0.0  \n",
       "2         0.0  0.0     0.0   0.0   0.0  0.0     0.0    0.0   0.0          0.0  \n",
       "3         0.0  0.0     0.0   0.0   0.0  0.0     0.0    0.0   0.0          0.0  \n",
       "4         0.0  0.0     0.0   0.0   0.0  0.0     0.0    0.0   0.0          0.0  \n",
       "...       ...  ...     ...   ...   ...  ...     ...    ...   ...          ...  \n",
       "14995     0.0  0.0     0.0   0.0   0.0  0.0     0.0    0.0   0.0          0.0  \n",
       "14996     0.0  0.0     0.0   0.0   0.0  0.0     0.0    0.0   0.0          0.0  \n",
       "14997     0.0  0.0     0.0   0.0   0.0  0.0     0.0    0.0   0.0          0.0  \n",
       "14998     0.0  0.0     0.0   0.0   0.0  0.0     0.0    0.0   0.0          0.0  \n",
       "14999     0.0  0.0     0.0   0.0   0.0  0.0     0.0    0.0   0.0          0.0  \n",
       "\n",
       "[15000 rows x 5437 columns]"
      ]
     },
     "execution_count": 249,
     "metadata": {},
     "output_type": "execute_result"
    }
   ],
   "source": [
    "dtm1 = pd.DataFrame(title_vec2.toarray(), columns = feat2)\n",
    "dtm1"
   ]
  },
  {
   "cell_type": "code",
   "execution_count": 252,
   "id": "1350dcde",
   "metadata": {},
   "outputs": [],
   "source": [
    "#set(feat1).difference(set(feat2))"
   ]
  },
  {
   "cell_type": "markdown",
   "id": "0c990293",
   "metadata": {},
   "source": [
    "Conclusion: \n",
    "\n",
    "Might come back to test using synonyms to rate clustering performance, but right now the words don't look right. I'm removing semantics and introducing numbers. I am only looking at the first word from the list of synonyms which is not the best approach. "
   ]
  },
  {
   "cell_type": "markdown",
   "id": "3702e4c2",
   "metadata": {},
   "source": [
    "### 3. Getting DTM - Bigram"
   ]
  },
  {
   "cell_type": "code",
   "execution_count": 253,
   "id": "69bf6664",
   "metadata": {},
   "outputs": [],
   "source": [
    "\n",
    "from sklearn.feature_extraction.text import TfidfVectorizer\n",
    "\n",
    "#define vectorizer parameters\n",
    "vectorizer = TfidfVectorizer( stop_words='english',\n",
    "                                  ngram_range=(2,2))\n",
    "\n"
   ]
  },
  {
   "cell_type": "code",
   "execution_count": 254,
   "id": "6b54975b",
   "metadata": {},
   "outputs": [
    {
     "name": "stderr",
     "output_type": "stream",
     "text": [
      "/Library/Frameworks/Python.framework/Versions/3.7/lib/python3.7/site-packages/sklearn/utils/deprecation.py:87: FutureWarning: Function get_feature_names is deprecated; get_feature_names is deprecated in 1.0 and will be removed in 1.2. Please use get_feature_names_out instead.\n",
      "  warnings.warn(msg, category=FutureWarning)\n"
     ]
    },
    {
     "data": {
      "text/html": [
       "<div>\n",
       "<style scoped>\n",
       "    .dataframe tbody tr th:only-of-type {\n",
       "        vertical-align: middle;\n",
       "    }\n",
       "\n",
       "    .dataframe tbody tr th {\n",
       "        vertical-align: top;\n",
       "    }\n",
       "\n",
       "    .dataframe thead th {\n",
       "        text-align: right;\n",
       "    }\n",
       "</style>\n",
       "<table border=\"1\" class=\"dataframe\">\n",
       "  <thead>\n",
       "    <tr style=\"text-align: right;\">\n",
       "      <th></th>\n",
       "      <th>abandon hous</th>\n",
       "      <th>abey fring</th>\n",
       "      <th>abil awar</th>\n",
       "      <th>abil order</th>\n",
       "      <th>abil time</th>\n",
       "      <th>aborigin entrepreneur</th>\n",
       "      <th>abort right</th>\n",
       "      <th>abroad adventur</th>\n",
       "      <th>abroad fund</th>\n",
       "      <th>abroad internship</th>\n",
       "      <th>...</th>\n",
       "      <th>zone temp</th>\n",
       "      <th>zone volum</th>\n",
       "      <th>zoo discoveri</th>\n",
       "      <th>zoo keeper</th>\n",
       "      <th>zoo king</th>\n",
       "      <th>zoo podcast</th>\n",
       "      <th>zoo tiger</th>\n",
       "      <th>zoo tycoon</th>\n",
       "      <th>zoom len</th>\n",
       "      <th>zooplankton art</th>\n",
       "    </tr>\n",
       "  </thead>\n",
       "  <tbody>\n",
       "    <tr>\n",
       "      <th>0</th>\n",
       "      <td>0.0</td>\n",
       "      <td>0.0</td>\n",
       "      <td>0.0</td>\n",
       "      <td>0.0</td>\n",
       "      <td>0.0</td>\n",
       "      <td>0.0</td>\n",
       "      <td>0.0</td>\n",
       "      <td>0.0</td>\n",
       "      <td>0.0</td>\n",
       "      <td>0.0</td>\n",
       "      <td>...</td>\n",
       "      <td>0.0</td>\n",
       "      <td>0.0</td>\n",
       "      <td>0.0</td>\n",
       "      <td>0.0</td>\n",
       "      <td>0.0</td>\n",
       "      <td>0.0</td>\n",
       "      <td>0.0</td>\n",
       "      <td>0.0</td>\n",
       "      <td>0.0</td>\n",
       "      <td>0.0</td>\n",
       "    </tr>\n",
       "    <tr>\n",
       "      <th>1</th>\n",
       "      <td>0.0</td>\n",
       "      <td>0.0</td>\n",
       "      <td>0.0</td>\n",
       "      <td>0.0</td>\n",
       "      <td>0.0</td>\n",
       "      <td>0.0</td>\n",
       "      <td>0.0</td>\n",
       "      <td>0.0</td>\n",
       "      <td>0.0</td>\n",
       "      <td>0.0</td>\n",
       "      <td>...</td>\n",
       "      <td>0.0</td>\n",
       "      <td>0.0</td>\n",
       "      <td>0.0</td>\n",
       "      <td>0.0</td>\n",
       "      <td>0.0</td>\n",
       "      <td>0.0</td>\n",
       "      <td>0.0</td>\n",
       "      <td>0.0</td>\n",
       "      <td>0.0</td>\n",
       "      <td>0.0</td>\n",
       "    </tr>\n",
       "    <tr>\n",
       "      <th>2</th>\n",
       "      <td>0.0</td>\n",
       "      <td>0.0</td>\n",
       "      <td>0.0</td>\n",
       "      <td>0.0</td>\n",
       "      <td>0.0</td>\n",
       "      <td>0.0</td>\n",
       "      <td>0.0</td>\n",
       "      <td>0.0</td>\n",
       "      <td>0.0</td>\n",
       "      <td>0.0</td>\n",
       "      <td>...</td>\n",
       "      <td>0.0</td>\n",
       "      <td>0.0</td>\n",
       "      <td>0.0</td>\n",
       "      <td>0.0</td>\n",
       "      <td>0.0</td>\n",
       "      <td>0.0</td>\n",
       "      <td>0.0</td>\n",
       "      <td>0.0</td>\n",
       "      <td>0.0</td>\n",
       "      <td>0.0</td>\n",
       "    </tr>\n",
       "    <tr>\n",
       "      <th>3</th>\n",
       "      <td>0.0</td>\n",
       "      <td>0.0</td>\n",
       "      <td>0.0</td>\n",
       "      <td>0.0</td>\n",
       "      <td>0.0</td>\n",
       "      <td>0.0</td>\n",
       "      <td>0.0</td>\n",
       "      <td>0.0</td>\n",
       "      <td>0.0</td>\n",
       "      <td>0.0</td>\n",
       "      <td>...</td>\n",
       "      <td>0.0</td>\n",
       "      <td>0.0</td>\n",
       "      <td>0.0</td>\n",
       "      <td>0.0</td>\n",
       "      <td>0.0</td>\n",
       "      <td>0.0</td>\n",
       "      <td>0.0</td>\n",
       "      <td>0.0</td>\n",
       "      <td>0.0</td>\n",
       "      <td>0.0</td>\n",
       "    </tr>\n",
       "    <tr>\n",
       "      <th>4</th>\n",
       "      <td>0.0</td>\n",
       "      <td>0.0</td>\n",
       "      <td>0.0</td>\n",
       "      <td>0.0</td>\n",
       "      <td>0.0</td>\n",
       "      <td>0.0</td>\n",
       "      <td>0.0</td>\n",
       "      <td>0.0</td>\n",
       "      <td>0.0</td>\n",
       "      <td>0.0</td>\n",
       "      <td>...</td>\n",
       "      <td>0.0</td>\n",
       "      <td>0.0</td>\n",
       "      <td>0.0</td>\n",
       "      <td>0.0</td>\n",
       "      <td>0.0</td>\n",
       "      <td>0.0</td>\n",
       "      <td>0.0</td>\n",
       "      <td>0.0</td>\n",
       "      <td>0.0</td>\n",
       "      <td>0.0</td>\n",
       "    </tr>\n",
       "    <tr>\n",
       "      <th>...</th>\n",
       "      <td>...</td>\n",
       "      <td>...</td>\n",
       "      <td>...</td>\n",
       "      <td>...</td>\n",
       "      <td>...</td>\n",
       "      <td>...</td>\n",
       "      <td>...</td>\n",
       "      <td>...</td>\n",
       "      <td>...</td>\n",
       "      <td>...</td>\n",
       "      <td>...</td>\n",
       "      <td>...</td>\n",
       "      <td>...</td>\n",
       "      <td>...</td>\n",
       "      <td>...</td>\n",
       "      <td>...</td>\n",
       "      <td>...</td>\n",
       "      <td>...</td>\n",
       "      <td>...</td>\n",
       "      <td>...</td>\n",
       "      <td>...</td>\n",
       "    </tr>\n",
       "    <tr>\n",
       "      <th>14995</th>\n",
       "      <td>0.0</td>\n",
       "      <td>0.0</td>\n",
       "      <td>0.0</td>\n",
       "      <td>0.0</td>\n",
       "      <td>0.0</td>\n",
       "      <td>0.0</td>\n",
       "      <td>0.0</td>\n",
       "      <td>0.0</td>\n",
       "      <td>0.0</td>\n",
       "      <td>0.0</td>\n",
       "      <td>...</td>\n",
       "      <td>0.0</td>\n",
       "      <td>0.0</td>\n",
       "      <td>0.0</td>\n",
       "      <td>0.0</td>\n",
       "      <td>0.0</td>\n",
       "      <td>0.0</td>\n",
       "      <td>0.0</td>\n",
       "      <td>0.0</td>\n",
       "      <td>0.0</td>\n",
       "      <td>0.0</td>\n",
       "    </tr>\n",
       "    <tr>\n",
       "      <th>14996</th>\n",
       "      <td>0.0</td>\n",
       "      <td>0.0</td>\n",
       "      <td>0.0</td>\n",
       "      <td>0.0</td>\n",
       "      <td>0.0</td>\n",
       "      <td>0.0</td>\n",
       "      <td>0.0</td>\n",
       "      <td>0.0</td>\n",
       "      <td>0.0</td>\n",
       "      <td>0.0</td>\n",
       "      <td>...</td>\n",
       "      <td>0.0</td>\n",
       "      <td>0.0</td>\n",
       "      <td>0.0</td>\n",
       "      <td>0.0</td>\n",
       "      <td>0.0</td>\n",
       "      <td>0.0</td>\n",
       "      <td>0.0</td>\n",
       "      <td>0.0</td>\n",
       "      <td>0.0</td>\n",
       "      <td>0.0</td>\n",
       "    </tr>\n",
       "    <tr>\n",
       "      <th>14997</th>\n",
       "      <td>0.0</td>\n",
       "      <td>0.0</td>\n",
       "      <td>0.0</td>\n",
       "      <td>0.0</td>\n",
       "      <td>0.0</td>\n",
       "      <td>0.0</td>\n",
       "      <td>0.0</td>\n",
       "      <td>0.0</td>\n",
       "      <td>0.0</td>\n",
       "      <td>0.0</td>\n",
       "      <td>...</td>\n",
       "      <td>0.0</td>\n",
       "      <td>0.0</td>\n",
       "      <td>0.0</td>\n",
       "      <td>0.0</td>\n",
       "      <td>0.0</td>\n",
       "      <td>0.0</td>\n",
       "      <td>0.0</td>\n",
       "      <td>0.0</td>\n",
       "      <td>0.0</td>\n",
       "      <td>0.0</td>\n",
       "    </tr>\n",
       "    <tr>\n",
       "      <th>14998</th>\n",
       "      <td>0.0</td>\n",
       "      <td>0.0</td>\n",
       "      <td>0.0</td>\n",
       "      <td>0.0</td>\n",
       "      <td>0.0</td>\n",
       "      <td>0.0</td>\n",
       "      <td>0.0</td>\n",
       "      <td>0.0</td>\n",
       "      <td>0.0</td>\n",
       "      <td>0.0</td>\n",
       "      <td>...</td>\n",
       "      <td>0.0</td>\n",
       "      <td>0.0</td>\n",
       "      <td>0.0</td>\n",
       "      <td>0.0</td>\n",
       "      <td>0.0</td>\n",
       "      <td>0.0</td>\n",
       "      <td>0.0</td>\n",
       "      <td>0.0</td>\n",
       "      <td>0.0</td>\n",
       "      <td>0.0</td>\n",
       "    </tr>\n",
       "    <tr>\n",
       "      <th>14999</th>\n",
       "      <td>0.0</td>\n",
       "      <td>0.0</td>\n",
       "      <td>0.0</td>\n",
       "      <td>0.0</td>\n",
       "      <td>0.0</td>\n",
       "      <td>0.0</td>\n",
       "      <td>0.0</td>\n",
       "      <td>0.0</td>\n",
       "      <td>0.0</td>\n",
       "      <td>0.0</td>\n",
       "      <td>...</td>\n",
       "      <td>0.0</td>\n",
       "      <td>0.0</td>\n",
       "      <td>0.0</td>\n",
       "      <td>0.0</td>\n",
       "      <td>0.0</td>\n",
       "      <td>0.0</td>\n",
       "      <td>0.0</td>\n",
       "      <td>0.0</td>\n",
       "      <td>0.0</td>\n",
       "      <td>0.0</td>\n",
       "    </tr>\n",
       "  </tbody>\n",
       "</table>\n",
       "<p>15000 rows × 20792 columns</p>\n",
       "</div>"
      ],
      "text/plain": [
       "       abandon hous  abey fring  abil awar  abil order  abil time  \\\n",
       "0               0.0         0.0        0.0         0.0        0.0   \n",
       "1               0.0         0.0        0.0         0.0        0.0   \n",
       "2               0.0         0.0        0.0         0.0        0.0   \n",
       "3               0.0         0.0        0.0         0.0        0.0   \n",
       "4               0.0         0.0        0.0         0.0        0.0   \n",
       "...             ...         ...        ...         ...        ...   \n",
       "14995           0.0         0.0        0.0         0.0        0.0   \n",
       "14996           0.0         0.0        0.0         0.0        0.0   \n",
       "14997           0.0         0.0        0.0         0.0        0.0   \n",
       "14998           0.0         0.0        0.0         0.0        0.0   \n",
       "14999           0.0         0.0        0.0         0.0        0.0   \n",
       "\n",
       "       aborigin entrepreneur  abort right  abroad adventur  abroad fund  \\\n",
       "0                        0.0          0.0              0.0          0.0   \n",
       "1                        0.0          0.0              0.0          0.0   \n",
       "2                        0.0          0.0              0.0          0.0   \n",
       "3                        0.0          0.0              0.0          0.0   \n",
       "4                        0.0          0.0              0.0          0.0   \n",
       "...                      ...          ...              ...          ...   \n",
       "14995                    0.0          0.0              0.0          0.0   \n",
       "14996                    0.0          0.0              0.0          0.0   \n",
       "14997                    0.0          0.0              0.0          0.0   \n",
       "14998                    0.0          0.0              0.0          0.0   \n",
       "14999                    0.0          0.0              0.0          0.0   \n",
       "\n",
       "       abroad internship  ...  zone temp  zone volum  zoo discoveri  \\\n",
       "0                    0.0  ...        0.0         0.0            0.0   \n",
       "1                    0.0  ...        0.0         0.0            0.0   \n",
       "2                    0.0  ...        0.0         0.0            0.0   \n",
       "3                    0.0  ...        0.0         0.0            0.0   \n",
       "4                    0.0  ...        0.0         0.0            0.0   \n",
       "...                  ...  ...        ...         ...            ...   \n",
       "14995                0.0  ...        0.0         0.0            0.0   \n",
       "14996                0.0  ...        0.0         0.0            0.0   \n",
       "14997                0.0  ...        0.0         0.0            0.0   \n",
       "14998                0.0  ...        0.0         0.0            0.0   \n",
       "14999                0.0  ...        0.0         0.0            0.0   \n",
       "\n",
       "       zoo keeper  zoo king  zoo podcast  zoo tiger  zoo tycoon  zoom len  \\\n",
       "0             0.0       0.0          0.0        0.0         0.0       0.0   \n",
       "1             0.0       0.0          0.0        0.0         0.0       0.0   \n",
       "2             0.0       0.0          0.0        0.0         0.0       0.0   \n",
       "3             0.0       0.0          0.0        0.0         0.0       0.0   \n",
       "4             0.0       0.0          0.0        0.0         0.0       0.0   \n",
       "...           ...       ...          ...        ...         ...       ...   \n",
       "14995         0.0       0.0          0.0        0.0         0.0       0.0   \n",
       "14996         0.0       0.0          0.0        0.0         0.0       0.0   \n",
       "14997         0.0       0.0          0.0        0.0         0.0       0.0   \n",
       "14998         0.0       0.0          0.0        0.0         0.0       0.0   \n",
       "14999         0.0       0.0          0.0        0.0         0.0       0.0   \n",
       "\n",
       "       zooplankton art  \n",
       "0                  0.0  \n",
       "1                  0.0  \n",
       "2                  0.0  \n",
       "3                  0.0  \n",
       "4                  0.0  \n",
       "...                ...  \n",
       "14995              0.0  \n",
       "14996              0.0  \n",
       "14997              0.0  \n",
       "14998              0.0  \n",
       "14999              0.0  \n",
       "\n",
       "[15000 rows x 20792 columns]"
      ]
     },
     "execution_count": 254,
     "metadata": {},
     "output_type": "execute_result"
    }
   ],
   "source": [
    "doc_vec = vectorizer.fit_transform(cleaned_title)\n",
    "dtm = pd.DataFrame(doc_vec.toarray(), columns = vectorizer.get_feature_names())\n",
    "dtm"
   ]
  }
 ],
 "metadata": {
  "kernelspec": {
   "display_name": "Python 3 (ipykernel)",
   "language": "python",
   "name": "python3"
  },
  "language_info": {
   "codemirror_mode": {
    "name": "ipython",
    "version": 3
   },
   "file_extension": ".py",
   "mimetype": "text/x-python",
   "name": "python",
   "nbconvert_exporter": "python",
   "pygments_lexer": "ipython3",
   "version": "3.7.1"
  }
 },
 "nbformat": 4,
 "nbformat_minor": 5
}
